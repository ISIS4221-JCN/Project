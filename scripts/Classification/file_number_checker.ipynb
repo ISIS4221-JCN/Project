{
 "cells": [
  {
   "cell_type": "code",
   "execution_count": 1,
   "id": "82e21ddf-b63b-4fda-98a2-b1207eb6824a",
   "metadata": {},
   "outputs": [],
   "source": [
    "import os\n",
    "import json"
   ]
  },
  {
   "cell_type": "code",
   "execution_count": 2,
   "id": "c44fadb4-abba-4e0f-a765-852e51bbff49",
   "metadata": {},
   "outputs": [
    {
     "name": "stdout",
     "output_type": "stream",
     "text": [
      "Looping over en and news\n",
      "Found 881 embedding files\n",
      "Found 279380 tokenized docs\n",
      "---------------------------------\n",
      "Looping over en and tweets\n",
      "Found 1000 embedding files\n",
      "Found 635776 tokenized docs\n",
      "---------------------------------\n",
      "Looping over en and reddit\n",
      "Found 1000 embedding files\n",
      "Found 291740 tokenized docs\n",
      "---------------------------------\n",
      "Looping over es and news\n",
      "Found 1000 embedding files\n",
      "Found 187742 tokenized docs\n",
      "---------------------------------\n",
      "Looping over es and tweets\n",
      "Found 1000 embedding files\n",
      "Found 241989 tokenized docs\n",
      "---------------------------------\n",
      "Looping over es and reddit\n",
      "Found 1000 embedding files\n",
      "Found 9113 tokenized docs\n",
      "---------------------------------\n",
      "Looping over fr and news\n",
      "Found 1000 embedding files\n",
      "Found 224894 tokenized docs\n",
      "---------------------------------\n",
      "Looping over fr and tweets\n",
      "Found 1000 embedding files\n",
      "Found 119670 tokenized docs\n",
      "---------------------------------\n",
      "Looping over fr and reddit\n",
      "Found 1000 embedding files\n",
      "Found 4645 tokenized docs\n",
      "---------------------------------\n"
     ]
    }
   ],
   "source": [
    "path_prefix = '/media/juan/Juan/NLP/embeddings'\n",
    "sources = ['news', 'tweets', 'reddit']\n",
    "langs = ['en', 'es', 'fr']\n",
    "for lang in langs:\n",
    "    for source in sources:\n",
    "        counter = 0\n",
    "        total_files = 0\n",
    "        file_list = os.listdir(os.path.join(path_prefix, source, lang))\n",
    "        print(f'Looping over {lang} and {source}')\n",
    "        print('Found {} embedding files'.format(len(file_list)))\n",
    "        for file in file_list:\n",
    "            with open(os.path.join(path_prefix, source, lang, file)) as json_file:\n",
    "                emb_dict = json.load(json_file)\n",
    "                total_files += len(emb_dict)\n",
    "                for key in emb_dict:\n",
    "                    if len(emb_dict[key]) != 384:\n",
    "                        counter += 1\n",
    "        print('Found {} tokenized docs'.format(total_files))\n",
    "        print('---------------------------------')"
   ]
  },
  {
   "cell_type": "code",
   "execution_count": null,
   "id": "9cb934c1-96ad-4d4d-b710-7df2c625b1ea",
   "metadata": {},
   "outputs": [],
   "source": []
  }
 ],
 "metadata": {
  "kernelspec": {
   "display_name": "project",
   "language": "python",
   "name": "project"
  },
  "language_info": {
   "codemirror_mode": {
    "name": "ipython",
    "version": 3
   },
   "file_extension": ".py",
   "mimetype": "text/x-python",
   "name": "python",
   "nbconvert_exporter": "python",
   "pygments_lexer": "ipython3",
   "version": "3.6.9"
  }
 },
 "nbformat": 4,
 "nbformat_minor": 5
}
