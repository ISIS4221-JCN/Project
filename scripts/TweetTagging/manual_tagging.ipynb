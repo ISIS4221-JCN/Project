{
 "cells": [
  {
   "cell_type": "code",
   "execution_count": 1,
   "id": "3ce2c470-53df-4803-be31-818e2bde21e2",
   "metadata": {},
   "outputs": [],
   "source": [
    "import sys\n",
    "import os\n",
    "import json\n",
    "sys.path.insert(0,'../')\n",
    "from utils import Utils\n",
    "import pandas as pd"
   ]
  },
  {
   "cell_type": "code",
   "execution_count": 2,
   "id": "71d3123b-6ad4-47e6-a9e9-9e3cb408a954",
   "metadata": {},
   "outputs": [],
   "source": [
    "labels = ['vaccine', 'mental-health', 'school-reopneing', 'household-violence', 'none']"
   ]
  },
  {
   "cell_type": "code",
   "execution_count": 3,
   "id": "94871438-3850-4202-869c-4f2dffea7616",
   "metadata": {},
   "outputs": [],
   "source": [
    "path_to_tweets = '/media/juan/Juan/NLP/tweets/'\n",
    "lang = 'es'\n",
    "tweet_files = sorted(os.listdir(os.path.join(path_to_tweets, lang)))\n",
    "try:\n",
    "    with open('./TweetTagging/tag.json', 'r') as tag_file:\n",
    "        tag_dict = json.load(tag_file)\n",
    "except:\n",
    "    tag_dict = {}\n",
    "tweet_files_set = set(tweet_files)\n",
    "tag_tweets_set = set(list(tag_dict.keys()))\n",
    "tweet_files = sorted(list(tweet_files_set.difference(tag_tweets_set)))\n",
    "\n",
    "words_to_upper = ['vaccine', 'vaccination', 'mental', 'health', 'school', 'schools', 'violence', 'vaccines', 'astraseneca', 'pfizer', 'sinovac']\n",
    "words_to_upper = ['vacuna', 'vacunacion', 'mental', 'salud', 'colegio', 'colegios', 'violencia', 'vacunas', 'astraseneca', 'pfizer', 'sinovac']"
   ]
  },
  {
   "cell_type": "code",
   "execution_count": 4,
   "id": "aa77aa78-ccc2-4240-8eea-f7f3c850b2f6",
   "metadata": {},
   "outputs": [],
   "source": [
    "def highlight_words(text):\n",
    "    text = text.replace(',', '').replace('.', '').split(' ')\n",
    "    new_text = []\n",
    "    for word in text:\n",
    "        if word.lower() in words_to_upper:\n",
    "            new_text.append(word.upper())\n",
    "        else:\n",
    "            new_text.append(word)\n",
    "    text = ''\n",
    "    for word in new_text:\n",
    "        text = text + ' ' + word\n",
    "    return text"
   ]
  },
  {
   "cell_type": "code",
   "execution_count": 5,
   "id": "48cea6e9-b865-4d49-8fc1-c9bdd2c5ef3a",
   "metadata": {},
   "outputs": [],
   "source": [
    "from IPython.display import clear_output\n",
    "total_tweets = input('How many tweets do you want to tag?')\n",
    "for tweet in tweet_files[:int(total_tweets)]:\n",
    "    with open(os.path.join(path_to_tweets, lang, tweet), 'r') as tweet_file:\n",
    "        tweet_dict = json.load(tweet_file)\n",
    "        print(highlight_words(tweet_dict['text']) + '\\n')\n",
    "        print('Clases: ' + str(labels))\n",
    "        code = []\n",
    "        while len(code) != 5:\n",
    "            code = input(f'Type 1 for the classes the tweet belongs to and 0 for the others')\n",
    "            code = [bool(int(d)) for d in str(code)]\n",
    "        tag_dict[tweet] = dict(zip(labels, code))\n",
    "        clear_output()"
   ]
  },
  {
   "cell_type": "code",
   "execution_count": 6,
   "id": "32e9854a-4831-4e9b-aa4f-cde6b42416cd",
   "metadata": {},
   "outputs": [],
   "source": [
    "with open('./TweetTagging/tag.json', 'w') as tag_file:\n",
    "    json.dump(tag_dict, tag_file)"
   ]
  }
 ],
 "metadata": {
  "kernelspec": {
   "display_name": "project",
   "language": "python",
   "name": "project"
  },
  "language_info": {
   "codemirror_mode": {
    "name": "ipython",
    "version": 3
   },
   "file_extension": ".py",
   "mimetype": "text/x-python",
   "name": "python",
   "nbconvert_exporter": "python",
   "pygments_lexer": "ipython3",
   "version": "3.6.9"
  }
 },
 "nbformat": 4,
 "nbformat_minor": 5
}
