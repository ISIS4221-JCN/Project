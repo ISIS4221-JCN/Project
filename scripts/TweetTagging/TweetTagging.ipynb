{
 "cells": [
  {
   "cell_type": "code",
   "execution_count": 1,
   "id": "602f57bd-7126-4416-b812-a7517e173096",
   "metadata": {},
   "outputs": [],
   "source": [
    "# General imports\n",
    "import nltk\n",
    "import pandas as pd\n",
    "import os\n",
    "import sys\n",
    "from tqdm import tqdm\n",
    "import re\n",
    "# Import utils class\n",
    "sys.path.insert(0,'../')\n",
    "from utils import Utils"
   ]
  },
  {
   "cell_type": "code",
   "execution_count": 2,
   "id": "8d0b8f2b-82f1-4df5-8aa2-d95a72a2023e",
   "metadata": {},
   "outputs": [],
   "source": [
    "# Instanciate utils class\n",
    "utils = Utils('/media/juan/Juan/NLP/', num_workers=20)"
   ]
  },
  {
   "cell_type": "code",
   "execution_count": 3,
   "id": "718e7d10-558b-400c-a6cf-402e45a2864a",
   "metadata": {
    "tags": []
   },
   "outputs": [
    {
     "name": "stdout",
     "output_type": "stream",
     "text": [
      "Starting threads to load 10 documents from tweets in en\n",
      "Loaded 10 files in 3.287515878677368 seconds.\n"
     ]
    }
   ],
   "source": [
    "# Load tweets\n",
    "en_tweets = utils.data_loader('en', 'tweets', total_data=10)"
   ]
  },
  {
   "cell_type": "code",
   "execution_count": 4,
   "id": "70ea5c15-8a5d-4aa3-b8ee-151b086277f0",
   "metadata": {},
   "outputs": [
    {
     "name": "stderr",
     "output_type": "stream",
     "text": [
      "100%|██████████| 10/10 [00:00<00:00, 287.62it/s]\n"
     ]
    }
   ],
   "source": [
    "# Create objects for preprocessing method\n",
    "from gensim.parsing.preprocessing import remove_stopwords\n",
    "from nltk.tokenize import TweetTokenizer\n",
    "from nltk.corpus import stopwords\n",
    "from nltk.stem import SnowballStemmer\n",
    "\n",
    "tokenizer = TweetTokenizer(preserve_case=False, reduce_len=True, strip_handles=True)\n",
    "stemmer = SnowballStemmer('spanish')\n",
    "stop_words = stopwords.words('spanish')\n",
    "\n",
    "processed_tweets = []\n",
    "for tweet in tqdm(en_tweets):\n",
    "    tweet = re.sub(r'http\\S+', '', tweet)\n",
    "    processed_tweets.append(utils.preprocessing(tweet,\n",
    "                            stop_words = stop_words,\n",
    "                            stemmer = stemmer,\n",
    "                            tokenizer = tokenizer))"
   ]
  },
  {
   "cell_type": "code",
   "execution_count": 11,
   "id": "b0eaedd6-d0d2-4391-ba8b-4cfa04cec0bd",
   "metadata": {},
   "outputs": [
    {
     "name": "stdout",
     "output_type": "stream",
     "text": [
      "['well', 'said', 'novaccinepassportsanywhere']\n",
      "Well said. #NoVaccinePassportsAnywhere https://t.co/v3sfytOGHH\n"
     ]
    }
   ],
   "source": [
    "num = 5\n",
    "print(processed_tweets[num])\n",
    "print(en_tweets[num])"
   ]
  },
  {
   "cell_type": "code",
   "execution_count": 8,
   "id": "0bfeac5e-7051-414e-bbdf-62bbba2987b7",
   "metadata": {},
   "outputs": [
    {
     "data": {
      "text/plain": [
       "'Play ball! #fatherandson #baseballlife⚾️ #grateful #covid_19 @ Coors Field, Denver https://t.co/SjdH14k1K5'"
      ]
     },
     "execution_count": 8,
     "metadata": {},
     "output_type": "execute_result"
    }
   ],
   "source": [
    "en_tweets[1]"
   ]
  },
  {
   "cell_type": "code",
   "execution_count": null,
   "id": "7bbf5a7f-dade-418b-b3f8-26943c3c18e4",
   "metadata": {},
   "outputs": [],
   "source": []
  }
 ],
 "metadata": {
  "kernelspec": {
   "display_name": "project",
   "language": "python",
   "name": "project"
  },
  "language_info": {
   "codemirror_mode": {
    "name": "ipython",
    "version": 3
   },
   "file_extension": ".py",
   "mimetype": "text/x-python",
   "name": "python",
   "nbconvert_exporter": "python",
   "pygments_lexer": "ipython3",
   "version": "3.6.9"
  }
 },
 "nbformat": 4,
 "nbformat_minor": 5
}
