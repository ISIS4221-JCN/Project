{
 "cells": [
  {
   "cell_type": "markdown",
   "metadata": {},
   "source": [
    "# Unsupervised Classfication"
   ]
  },
  {
   "cell_type": "code",
   "execution_count": 1,
   "metadata": {},
   "outputs": [],
   "source": [
    "# PARAMS\n",
    "lang = 'es'\n",
    "\n",
    "%config IPCompleter.greedy=True\n",
    "%config IPCompleter.use_jedi=False"
   ]
  },
  {
   "cell_type": "code",
   "execution_count": 2,
   "metadata": {},
   "outputs": [
    {
     "name": "stdout",
     "output_type": "stream",
     "text": [
      "Requirement already satisfied: gensim in /usr/local/lib/python3.6/dist-packages (4.0.1)\n",
      "Requirement already satisfied: smart-open>=1.8.1 in /usr/local/lib/python3.6/dist-packages (from gensim) (5.0.0)\n",
      "Requirement already satisfied: dataclasses; python_version < \"3.7\" in /usr/local/lib/python3.6/dist-packages (from gensim) (0.8)\n",
      "Requirement already satisfied: scipy>=0.18.1 in /usr/local/lib/python3.6/dist-packages (from gensim) (1.5.4)\n",
      "Requirement already satisfied: numpy>=1.11.3 in /usr/local/lib/python3.6/dist-packages (from gensim) (1.19.5)\n",
      "\u001b[33mWARNING: You are using pip version 20.2.4; however, version 21.1.2 is available.\n",
      "You should consider upgrading via the '/usr/bin/python3 -m pip install --upgrade pip' command.\u001b[0m\n",
      "Requirement already satisfied: nltk in /usr/local/lib/python3.6/dist-packages (3.6.2)\n",
      "Requirement already satisfied: click in /usr/local/lib/python3.6/dist-packages (from nltk) (8.0.1)\n",
      "Requirement already satisfied: regex in /usr/local/lib/python3.6/dist-packages (from nltk) (2021.4.4)\n",
      "Requirement already satisfied: joblib in /usr/local/lib/python3.6/dist-packages (from nltk) (1.0.1)\n",
      "Requirement already satisfied: tqdm in /usr/local/lib/python3.6/dist-packages (from nltk) (4.60.0)\n",
      "Requirement already satisfied: importlib-metadata; python_version < \"3.8\" in /usr/local/lib/python3.6/dist-packages (from click->nltk) (3.4.0)\n",
      "Requirement already satisfied: zipp>=0.5 in /usr/local/lib/python3.6/dist-packages (from importlib-metadata; python_version < \"3.8\"->click->nltk) (3.4.0)\n",
      "Requirement already satisfied: typing-extensions>=3.6.4; python_version < \"3.8\" in /usr/local/lib/python3.6/dist-packages (from importlib-metadata; python_version < \"3.8\"->click->nltk) (3.7.4.3)\n",
      "\u001b[33mWARNING: You are using pip version 20.2.4; however, version 21.1.2 is available.\n",
      "You should consider upgrading via the '/usr/bin/python3 -m pip install --upgrade pip' command.\u001b[0m\n",
      "Requirement already satisfied: scikit-learn in /usr/local/lib/python3.6/dist-packages (0.24.2)\n",
      "Requirement already satisfied: joblib>=0.11 in /usr/local/lib/python3.6/dist-packages (from scikit-learn) (1.0.1)\n",
      "Requirement already satisfied: numpy>=1.13.3 in /usr/local/lib/python3.6/dist-packages (from scikit-learn) (1.19.5)\n",
      "Requirement already satisfied: scipy>=0.19.1 in /usr/local/lib/python3.6/dist-packages (from scikit-learn) (1.5.4)\n",
      "Requirement already satisfied: threadpoolctl>=2.0.0 in /usr/local/lib/python3.6/dist-packages (from scikit-learn) (2.1.0)\n",
      "\u001b[33mWARNING: You are using pip version 20.2.4; however, version 21.1.2 is available.\n",
      "You should consider upgrading via the '/usr/bin/python3 -m pip install --upgrade pip' command.\u001b[0m\n"
     ]
    }
   ],
   "source": [
    "!pip install gensim\n",
    "!pip install nltk\n",
    "!pip install scikit-learn"
   ]
  },
  {
   "cell_type": "code",
   "execution_count": 3,
   "metadata": {},
   "outputs": [
    {
     "name": "stderr",
     "output_type": "stream",
     "text": [
      "[nltk_data] Downloading package punkt to /root/nltk_data...\n",
      "[nltk_data]   Package punkt is already up-to-date!\n",
      "/usr/local/lib/python3.6/dist-packages/gensim/similarities/__init__.py:15: UserWarning: The gensim.similarities.levenshtein submodule is disabled, because the optional Levenshtein package <https://pypi.org/project/python-Levenshtein/> is unavailable. Install Levenhstein (e.g. `pip install python-Levenshtein`) to suppress this warning.\n",
      "  warnings.warn(msg)\n"
     ]
    }
   ],
   "source": [
    "# Imports the OS library\n",
    "import os\n",
    "\n",
    "# Imports the time library\n",
    "from time import time\n",
    "\n",
    "# Imports the document class\n",
    "from document import Document\n",
    "\n",
    "# Import TQDM for time measurements\n",
    "from tqdm import tqdm\n",
    "\n",
    "# Imports NLTK\n",
    "import nltk\n",
    "nltk.download('punkt')\n",
    "from nltk import sent_tokenize\n",
    "from nltk import word_tokenize\n",
    "from nltk.corpus import reuters\n",
    "from nltk.corpus import stopwords\n",
    "from nltk.stem import SnowballStemmer\n",
    "    \n",
    "# Imports gensim\n",
    "from gensim.corpora.dictionary import Dictionary\n",
    "from gensim.models.ldamulticore import LdaMulticore\n",
    "from gensim.models.doc2vec import TaggedDocument, Doc2Vec\n",
    "from gensim.parsing.preprocessing import remove_stopwords\n",
    "from gensim.parsing.preprocessing import strip_punctuation\n",
    "\n",
    "# Imports scikit learn\n",
    "from sklearn.cluster import KMeans\n",
    "from sklearn.metrics import confusion_matrix\n",
    "from sklearn.preprocessing import LabelEncoder\n",
    "from sklearn.model_selection import train_test_split\n",
    "\n",
    "# Imports matplotlib\n",
    "import matplotlib.pyplot as plt\n",
    "from matplotlib import ticker\n",
    "\n",
    "# Imports wordcloud\n",
    "from wordcloud import WordCloud"
   ]
  },
  {
   "cell_type": "markdown",
   "metadata": {},
   "source": [
    "## Preprocessing"
   ]
  },
  {
   "cell_type": "code",
   "execution_count": 4,
   "metadata": {},
   "outputs": [],
   "source": [
    "def preprocess_text(data, language='en'):\n",
    "    \n",
    "    # Creates the language dictionary\n",
    "    lang_dict = {\n",
    "        \"en\": \"english\",\n",
    "        \"es\": \"spanish\",\n",
    "        \"fr\": \"french\"\n",
    "    }\n",
    "    \n",
    "    # Sets text into lowercase\n",
    "    data = data.lower()\n",
    "    \n",
    "    # Removes punctuation\n",
    "    data = strip_punctuation(data)\n",
    "    \n",
    "    # Tokenizes by word\n",
    "    data = word_tokenize(data)\n",
    "    \n",
    "    # Removes stopwords\n",
    "    data = [token for token in data if token not in stopwords.words(lang_dict[language])]\n",
    "    \n",
    "    # Creates the stemmer\n",
    "    stemmer = SnowballStemmer(lang_dict[language])\n",
    "    \n",
    "    # Stems data\n",
    "    data = [ stemmer.stem(token) for token in data]\n",
    "    \n",
    "    # Returns preprocessed text\n",
    "    return data\n"
   ]
  },
  {
   "cell_type": "markdown",
   "metadata": {},
   "source": [
    "## Loads News Data"
   ]
  },
  {
   "cell_type": "code",
   "execution_count": 5,
   "metadata": {},
   "outputs": [],
   "source": [
    "path_to_news = \"../../data/news/\" + lang + '/'\n",
    "\n",
    "# Gets the news files\n",
    "news_list = os.listdir(path_to_news)\n",
    "\n",
    "# Splits the data into training and validation\n",
    "X_train, X_test = train_test_split(news_list, train_size=0.2)\n",
    "\n",
    "# Deletes the original news list\n",
    "del news_list"
   ]
  },
  {
   "cell_type": "markdown",
   "metadata": {},
   "source": [
    "## Memory data\n",
    "This will load data into memory for Doc2Vec training."
   ]
  },
  {
   "cell_type": "code",
   "execution_count": 6,
   "metadata": {},
   "outputs": [
    {
     "name": "stderr",
     "output_type": "stream",
     "text": [
      "100%|██████████| 37548/37548 [1:25:10<00:00,  7.35it/s]  \n"
     ]
    }
   ],
   "source": [
    "train_docs = []\n",
    "\n",
    "for indx, file in enumerate(tqdm(X_train)):\n",
    "    \n",
    "    doc = Document()\n",
    "    \n",
    "    doc.load_from_json(path_to_news + file)\n",
    "    \n",
    "    tag = [str(indx)]\n",
    "    tag.append(doc.keyword)\n",
    "    \n",
    "    doc_words = preprocess_text(doc.text, lang)\n",
    "    \n",
    "    train_docs.append(TaggedDocument(words=doc_words, tags=tag))"
   ]
  },
  {
   "cell_type": "markdown",
   "metadata": {},
   "source": [
    "### Disk Iterator\n",
    "This will create an iterator for a memory-friendly data management."
   ]
  },
  {
   "cell_type": "code",
   "execution_count": 7,
   "metadata": {},
   "outputs": [],
   "source": [
    "class TaggedNewsIterator:\n",
    "    \n",
    "    def __init__(self, filenames, prefix):\n",
    "        \n",
    "        self.filenames = filenames\n",
    "        \n",
    "        self.files_len = len(filenames)\n",
    "        \n",
    "        self.prefix = prefix\n",
    "        \n",
    "        self.count = 0\n",
    "    \n",
    "    \n",
    "    def __iter__(self):\n",
    "        \n",
    "        self.count = 0\n",
    "        \n",
    "        return self\n",
    "    \n",
    "    \n",
    "    def __next__(self):\n",
    "        \n",
    "        if self.count >= self.files_len:\n",
    "            raise StopIteration\n",
    "        \n",
    "        # Gets the next filename\n",
    "        fname = self.filenames[self.count]\n",
    "        \n",
    "        doc = Document()\n",
    "    \n",
    "        doc.load_from_json(self.prefix + fname)\n",
    "        \n",
    "        tag_value = [str(self.count)]\n",
    "        \n",
    "        tag_value.append(doc.keyword)\n",
    "        \n",
    "        doc_words = preprocess_text(doc.text)\n",
    "        \n",
    "        self.count += 1\n",
    "        \n",
    "        return TaggedDocument(words=doc_words, tags=tag_value)\n",
    "\n",
    "    \n",
    "# train_docs = TaggedNewsIterator(X_train, path_to_news)"
   ]
  },
  {
   "cell_type": "markdown",
   "metadata": {},
   "source": [
    "## Doc2Vec"
   ]
  },
  {
   "cell_type": "code",
   "execution_count": 8,
   "metadata": {},
   "outputs": [
    {
     "name": "stdout",
     "output_type": "stream",
     "text": [
      "Built model vocab. Took 4.60s\n",
      "Trained epoch 9. Took 125.58s\r"
     ]
    }
   ],
   "source": [
    "ALPHA = 0.025\n",
    "MIN_COUNT = 10\n",
    "MAX_EPOCHS = 10\n",
    "\n",
    "model = Doc2Vec(alpha=ALPHA, min_alpha=0.00025, min_count=MIN_COUNT, dm=1)\n",
    "\n",
    "dtime = time()\n",
    "\n",
    "model.build_vocab(train_docs)\n",
    "\n",
    "dtime = time() - dtime\n",
    "\n",
    "print(\"Built model vocab. Took {:2.2f}s\".format(dtime))\n",
    "\n",
    "for epoch in range(MAX_EPOCHS):\n",
    "    \n",
    "    dtime = time()\n",
    "    \n",
    "    model.train(train_docs, total_examples = model.corpus_count, epochs=model.epochs)\n",
    "        \n",
    "    # Decrease the learning rate\n",
    "    model.alpha -= 0.0002\n",
    "    \n",
    "    # Fix the learning rate, no decay\n",
    "    model.min_alpha = model.alpha\n",
    "    \n",
    "    dtime = time() - dtime\n",
    "    \n",
    "    print(\"Trained epoch {}. Took {:4.2f}s\".format(epoch, dtime), end='\\r')\n",
    "    \n",
    "    model.save(\"doc2vec_{}.model\".format(lang))"
   ]
  },
  {
   "cell_type": "code",
   "execution_count": 9,
   "metadata": {},
   "outputs": [],
   "source": [
    "model = Doc2Vec.load(\"doc2vec_{}.model\".format(lang))"
   ]
  },
  {
   "cell_type": "markdown",
   "metadata": {},
   "source": [
    "## Document Representation"
   ]
  },
  {
   "cell_type": "code",
   "execution_count": 10,
   "metadata": {},
   "outputs": [],
   "source": [
    "path_to_news = \"../../data/news/\" + lang + '/'\n",
    "\n",
    "# Gets the news files\n",
    "news_list = os.listdir(path_to_news)\n",
    "\n",
    "# Splits the data into training and validation\n",
    "X_train, X_test = train_test_split(news_list, train_size=0.85)\n",
    "\n",
    "# Deletes the original news list\n",
    "del news_list"
   ]
  },
  {
   "cell_type": "code",
   "execution_count": 11,
   "metadata": {},
   "outputs": [
    {
     "name": "stderr",
     "output_type": "stream",
     "text": [
      "100%|██████████| 159580/159580 [6:58:53<00:00,  6.35it/s]   \n"
     ]
    }
   ],
   "source": [
    "train_vectors = []\n",
    "\n",
    "for file in tqdm(X_train):\n",
    "    \n",
    "    doc = Document()\n",
    "    doc.load_from_json(path_to_news + file)\n",
    "    \n",
    "    pre_text = preprocess_text(doc.text, lang)\n",
    "    \n",
    "    train_vectors.append(model.infer_vector(pre_text))\n"
   ]
  },
  {
   "cell_type": "markdown",
   "metadata": {},
   "source": [
    "## Classification Model"
   ]
  },
  {
   "cell_type": "code",
   "execution_count": 12,
   "metadata": {},
   "outputs": [],
   "source": [
    "k_means = KMeans(n_clusters=16)"
   ]
  },
  {
   "cell_type": "code",
   "execution_count": 13,
   "metadata": {},
   "outputs": [
    {
     "data": {
      "text/plain": [
       "KMeans(n_clusters=16)"
      ]
     },
     "execution_count": 13,
     "metadata": {},
     "output_type": "execute_result"
    }
   ],
   "source": [
    "k_means.fit(train_vectors)"
   ]
  },
  {
   "cell_type": "markdown",
   "metadata": {},
   "source": [
    "## Model Testing"
   ]
  },
  {
   "cell_type": "code",
   "execution_count": 14,
   "metadata": {},
   "outputs": [
    {
     "name": "stderr",
     "output_type": "stream",
     "text": [
      "100%|██████████| 28162/28162 [1:14:58<00:00,  6.26it/s]  \n"
     ]
    }
   ],
   "source": [
    "test_vectors = []\n",
    "test_categories = []\n",
    "\n",
    "for file in tqdm(X_test):\n",
    "    \n",
    "    doc = Document()\n",
    "    doc.load_from_json(path_to_news + file)\n",
    "    \n",
    "    pre_text = preprocess_text(doc.text, lang)\n",
    "    \n",
    "    test_vectors.append(model.infer_vector(pre_text))\n",
    "    test_categories.append(doc.keyword)\n"
   ]
  },
  {
   "cell_type": "code",
   "execution_count": 15,
   "metadata": {},
   "outputs": [],
   "source": [
    "y_pred = k_means.predict(test_vectors)"
   ]
  },
  {
   "cell_type": "markdown",
   "metadata": {},
   "source": [
    "## Results Generation"
   ]
  },
  {
   "cell_type": "code",
   "execution_count": 16,
   "metadata": {},
   "outputs": [],
   "source": [
    "le = LabelEncoder()\n",
    "le.fit(test_categories)\n",
    "y_true = le.transform(test_categories)\n",
    "\n",
    "conf_matrix = confusion_matrix(y_true, y_pred)"
   ]
  },
  {
   "cell_type": "code",
   "execution_count": 17,
   "metadata": {},
   "outputs": [
    {
     "name": "stderr",
     "output_type": "stream",
     "text": [
      "/usr/local/lib/python3.6/dist-packages/ipykernel_launcher.py:8: UserWarning: FixedFormatter should only be used together with FixedLocator\n",
      "  \n"
     ]
    },
    {
     "data": {
      "image/png": "[encoded data removed]",
      "text/plain": [
       "<Figure size 720x720 with 2 Axes>"
      ]
     },
     "metadata": {
      "needs_background": "light"
     },
     "output_type": "display_data"
    }
   ],
   "source": [
    "categories = le.inverse_transform([i for i in range(16)])\n",
    "\n",
    "fig = plt.figure(figsize=(10, 10))\n",
    "\n",
    "ax = fig.add_subplot(111)\n",
    "cax = ax.matshow(conf_matrix)\n",
    "fig.colorbar(cax)\n",
    "ax.set_xticklabels(categories, rotation=90)\n",
    "ax.xaxis.set_major_locator(ticker.MultipleLocator(1))\n",
    "ax.yaxis.set_major_locator(ticker.MultipleLocator(1))\n",
    "plt.savefig(\"../../results/AutomaticIdentification/cf_{}.pdf\".format(lang))\n",
    "plt.show()"
   ]
  },
  {
   "cell_type": "code",
   "execution_count": 25,
   "metadata": {},
   "outputs": [],
   "source": [
    "import csv\n",
    "import numpy as np\n",
    "\n",
    "fname = \"X_train_{}.txt\".format(lang)\n",
    "\n",
    "with open(fname, \"w\") as x_train_file:\n",
    "    fwriter = csv.writer(x_train_file, delimiter=',')\n",
    "    \n",
    "    for file in X_train:\n",
    "        fwriter.writerow([file])\n",
    "\n",
    "\n",
    "fname = \"X_test_{}.txt\".format(lang)\n",
    "\n",
    "with open(fname, \"w\") as x_train_file:\n",
    "    fwriter = csv.writer(x_train_file, delimiter=',')\n",
    "    \n",
    "    for file in X_test:\n",
    "        fwriter.writerow([file])"
   ]
  },
  {
   "cell_type": "code",
   "execution_count": 27,
   "metadata": {},
   "outputs": [],
   "source": [
    "x_train_embeddings_arr = np.asarray(train_vectors)\n",
    "\n",
    "np.savetxt(\"X_train_vectors_{}.csv\".format(lang), x_train_embeddings_arr, delimiter=',')"
   ]
  },
  {
   "cell_type": "code",
   "execution_count": 28,
   "metadata": {},
   "outputs": [],
   "source": [
    "x_test_embeddings_arr = np.asarray(test_vectors)\n",
    "\n",
    "np.savetxt(\"X_test_vectors_{}.csv\".format(lang), x_test_embeddings_arr, delimiter=',')"
   ]
  },
  {
   "cell_type": "code",
   "execution_count": null,
   "metadata": {},
   "outputs": [],
   "source": []
  }
 ],
 "metadata": {
  "kernelspec": {
   "display_name": "Python 3",
   "language": "python",
   "name": "python3"
  },
  "language_info": {
   "codemirror_mode": {
    "name": "ipython",
    "version": 3
   },
   "file_extension": ".py",
   "mimetype": "text/x-python",
   "name": "python",
   "nbconvert_exporter": "python",
   "pygments_lexer": "ipython3",
   "version": "3.6.9"
  }
 },
 "nbformat": 4,
 "nbformat_minor": 2
}
