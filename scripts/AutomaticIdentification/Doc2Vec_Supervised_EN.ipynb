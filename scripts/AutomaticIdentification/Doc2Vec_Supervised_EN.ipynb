{
 "cells": [
  {
   "cell_type": "code",
   "execution_count": 1,
   "metadata": {},
   "outputs": [],
   "source": [
    "# PARAMS\n",
    "lang = 'en'\n",
    "\n",
    "%config IPCompleter.greedy=True\n",
    "%config IPCompleter.use_jedi=False"
   ]
  },
  {
   "cell_type": "code",
   "execution_count": 2,
   "metadata": {},
   "outputs": [],
   "source": [
    "import csv\n",
    "\n",
    "from tqdm import tqdm\n",
    "\n",
    "import numpy as np\n",
    "\n",
    "from document import Document\n",
    "\n",
    "# Imports tensorflow\n",
    "import tensorflow as tf\n",
    "from tensorflow import keras\n",
    "from tensorflow.keras import metrics"
   ]
  },
  {
   "cell_type": "code",
   "execution_count": 3,
   "metadata": {},
   "outputs": [],
   "source": [
    "fname = \"X_train_{}.txt\".format(lang)\n",
    "train_files = []\n",
    "\n",
    "with open(fname) as csv_file:\n",
    "    freader = csv.reader(csv_file, delimiter=',')\n",
    "    for row in freader:\n",
    "        train_files.append(row[0])\n",
    "        \n",
    "\n",
    "fname = \"X_test_{}.txt\".format(lang)\n",
    "test_files = []\n",
    "\n",
    "with open(fname) as csv_file:\n",
    "    freader = csv.reader(csv_file, delimiter=',')\n",
    "    for row in freader:\n",
    "        test_files.append(row[0])\n"
   ]
  },
  {
   "cell_type": "code",
   "execution_count": 4,
   "metadata": {},
   "outputs": [],
   "source": [
    "train_vectors_arr = np.genfromtxt(\"X_train_vectors_{}.csv\".format(lang), delimiter=',')\n",
    "test_vectors_arr = np.genfromtxt(\"X_test_vectors_{}.csv\".format(lang), delimiter=',')"
   ]
  },
  {
   "cell_type": "code",
   "execution_count": 10,
   "metadata": {},
   "outputs": [
    {
     "name": "stderr",
     "output_type": "stream",
     "text": [
      "100%|██████████| 269637/269637 [00:20<00:00, 13037.03it/s]\n"
     ]
    }
   ],
   "source": [
    "# Relevant classes\n",
    "relevant_2 = [\"vaccines\", \"vaccination\", \"mental health\"]\n",
    "relevant_3 = [\"school reopening\", \"household violence\"]\n",
    "\n",
    "train_relevant_labels_2 = []\n",
    "train_relevant_labels_3 = []\n",
    "\n",
    "path_to_news = \"../../data/news/\" + lang + '/'\n",
    "\n",
    "for file in tqdm(train_files):\n",
    "    \n",
    "    doc = Document()\n",
    "    doc.load_from_json(path_to_news + file)\n",
    "    \n",
    "    if doc.keyword in relevant_2:\n",
    "        train_relevant_labels_2.append(1)\n",
    "    else:\n",
    "        train_relevant_labels_2.append(0)\n",
    "        \n",
    "    if doc.keyword in relevant_3:\n",
    "        train_relevant_labels_3.append(1)\n",
    "    else:\n",
    "        train_relevant_labels_3.append(0)\n"
   ]
  },
  {
   "cell_type": "code",
   "execution_count": 11,
   "metadata": {},
   "outputs": [
    {
     "name": "stderr",
     "output_type": "stream",
     "text": [
      "100%|██████████| 47583/47583 [00:03<00:00, 12370.69it/s]\n"
     ]
    }
   ],
   "source": [
    "test_relevant_labels_2 = []\n",
    "test_relevant_labels_3 = []\n",
    "\n",
    "path_to_news = \"../../data/news/\" + lang + '/'\n",
    "\n",
    "for file in tqdm(test_files):\n",
    "    \n",
    "    doc = Document()\n",
    "    doc.load_from_json(path_to_news + file)\n",
    "    \n",
    "    if doc.keyword in relevant_2:\n",
    "        test_relevant_labels_2.append(1)\n",
    "    else:\n",
    "        test_relevant_labels_2.append(0)\n",
    "        \n",
    "    if doc.keyword in relevant_3:\n",
    "        test_relevant_labels_3.append(1)\n",
    "    else:\n",
    "        test_relevant_labels_3.append(0)\n"
   ]
  },
  {
   "cell_type": "code",
   "execution_count": 7,
   "metadata": {},
   "outputs": [
    {
     "name": "stdout",
     "output_type": "stream",
     "text": [
      "Epoch 1/20\n",
      "8427/8427 [==============================] - 16s 2ms/step - loss: 0.3360 - accuracy: 0.8620 - prec_0: 0.6974 - recall_0: 0.4642\n",
      "Epoch 2/20\n",
      "8427/8427 [==============================] - 15s 2ms/step - loss: 0.3215 - accuracy: 0.8674 - prec_0: 0.7217 - recall_0: 0.4750\n",
      "Epoch 3/20\n",
      "8427/8427 [==============================] - 15s 2ms/step - loss: 0.3181 - accuracy: 0.8682 - prec_0: 0.7227 - recall_0: 0.4750\n",
      "Epoch 4/20\n",
      "8427/8427 [==============================] - 15s 2ms/step - loss: 0.3188 - accuracy: 0.8683 - prec_0: 0.7258 - recall_0: 0.4798\n",
      "Epoch 5/20\n",
      "8427/8427 [==============================] - 16s 2ms/step - loss: 0.3185 - accuracy: 0.8679 - prec_0: 0.7212 - recall_0: 0.4809\n",
      "Epoch 6/20\n",
      "8427/8427 [==============================] - 16s 2ms/step - loss: 0.3171 - accuracy: 0.8689 - prec_0: 0.7246 - recall_0: 0.4751\n",
      "Epoch 7/20\n",
      "8427/8427 [==============================] - 16s 2ms/step - loss: 0.3187 - accuracy: 0.8686 - prec_0: 0.7247 - recall_0: 0.4785\n",
      "Epoch 8/20\n",
      "8427/8427 [==============================] - 16s 2ms/step - loss: 0.3172 - accuracy: 0.8693 - prec_0: 0.7263 - recall_0: 0.4839\n",
      "Epoch 9/20\n",
      "8427/8427 [==============================] - 16s 2ms/step - loss: 0.3185 - accuracy: 0.8686 - prec_0: 0.7269 - recall_0: 0.4793\n",
      "Epoch 10/20\n",
      "8427/8427 [==============================] - 16s 2ms/step - loss: 0.3193 - accuracy: 0.8683 - prec_0: 0.7286 - recall_0: 0.4817\n",
      "Epoch 11/20\n",
      "8427/8427 [==============================] - 17s 2ms/step - loss: 0.3172 - accuracy: 0.8686 - prec_0: 0.7269 - recall_0: 0.4825\n",
      "Epoch 12/20\n",
      "8427/8427 [==============================] - 17s 2ms/step - loss: 0.3156 - accuracy: 0.8696 - prec_0: 0.7282 - recall_0: 0.4814\n",
      "Epoch 13/20\n",
      "8427/8427 [==============================] - 17s 2ms/step - loss: 0.3203 - accuracy: 0.8670 - prec_0: 0.7237 - recall_0: 0.4735\n",
      "Epoch 14/20\n",
      "8427/8427 [==============================] - 17s 2ms/step - loss: 0.3196 - accuracy: 0.8676 - prec_0: 0.7228 - recall_0: 0.4803\n",
      "Epoch 15/20\n",
      "8427/8427 [==============================] - 17s 2ms/step - loss: 0.3184 - accuracy: 0.8683 - prec_0: 0.7241 - recall_0: 0.4748\n",
      "Epoch 16/20\n",
      "8427/8427 [==============================] - 17s 2ms/step - loss: 0.3185 - accuracy: 0.8683 - prec_0: 0.7272 - recall_0: 0.4795\n",
      "Epoch 17/20\n",
      "8427/8427 [==============================] - 17s 2ms/step - loss: 0.3162 - accuracy: 0.8694 - prec_0: 0.7248 - recall_0: 0.4823\n",
      "Epoch 18/20\n",
      "8427/8427 [==============================] - 17s 2ms/step - loss: 0.3181 - accuracy: 0.8683 - prec_0: 0.7245 - recall_0: 0.4796\n",
      "Epoch 19/20\n",
      "8427/8427 [==============================] - 18s 2ms/step - loss: 0.3172 - accuracy: 0.8694 - prec_0: 0.7282 - recall_0: 0.4815\n",
      "Epoch 20/20\n",
      "8427/8427 [==============================] - 17s 2ms/step - loss: 0.3192 - accuracy: 0.8679 - prec_0: 0.7229 - recall_0: 0.4784\n",
      "1487/1487 [==============================] - 3s 2ms/step - loss: 0.3203 - accuracy: 0.8688 - prec_0: 0.7134 - recall_0: 0.4958\n"
     ]
    },
    {
     "data": {
      "text/plain": [
       "[0.32025885581970215,\n",
       " 0.8688187003135681,\n",
       " 0.7133592963218689,\n",
       " 0.4958305060863495]"
      ]
     },
     "execution_count": 7,
     "metadata": {},
     "output_type": "execute_result"
    }
   ],
   "source": [
    "model = keras.Sequential()\n",
    "\n",
    "model.add(keras.layers.Dense(100))\n",
    "model.add(keras.layers.Dense(50))\n",
    "model.add(keras.layers.Dense(1, activation=\"sigmoid\"))\n",
    "\n",
    "model.compile(\n",
    "    optimizer=\"adam\",\n",
    "    loss=\"binary_crossentropy\",\n",
    "    metrics=[\n",
    "        \"accuracy\",\n",
    "        metrics.Precision(name=\"prec_0\"),\n",
    "        metrics.Recall(name=\"recall_0\")\n",
    "    ]\n",
    ")\n",
    "\n",
    "model.fit(\n",
    "    x = train_vectors_arr,\n",
    "    y = np.asarray(train_relevant_labels_2),\n",
    "    epochs=20\n",
    ")\n",
    "\n",
    "model.evaluate(\n",
    "    x = test_vectors_arr,\n",
    "    y = np.asarray(test_relevant_labels_2)\n",
    ")"
   ]
  },
  {
   "cell_type": "code",
   "execution_count": 12,
   "metadata": {},
   "outputs": [
    {
     "name": "stdout",
     "output_type": "stream",
     "text": [
      "Epoch 1/20\n",
      "8427/8427 [==============================] - 17s 2ms/step - loss: 0.2060 - accuracy: 0.9271 - prec_0: 0.6189 - recall_0: 0.3198\n",
      "Epoch 2/20\n",
      "8427/8427 [==============================] - 17s 2ms/step - loss: 0.1886 - accuracy: 0.9326 - prec_0: 0.6883 - recall_0: 0.3426\n",
      "Epoch 3/20\n",
      "8427/8427 [==============================] - 17s 2ms/step - loss: 0.1869 - accuracy: 0.9323 - prec_0: 0.6762 - recall_0: 0.3294\n",
      "Epoch 4/20\n",
      "8427/8427 [==============================] - 17s 2ms/step - loss: 0.1852 - accuracy: 0.9329 - prec_0: 0.6812 - recall_0: 0.3350\n",
      "Epoch 5/20\n",
      "8427/8427 [==============================] - 17s 2ms/step - loss: 0.1863 - accuracy: 0.9326 - prec_0: 0.6881 - recall_0: 0.3423\n",
      "Epoch 6/20\n",
      "8427/8427 [==============================] - 17s 2ms/step - loss: 0.1850 - accuracy: 0.9332 - prec_0: 0.6881 - recall_0: 0.3373\n",
      "Epoch 7/20\n",
      "8427/8427 [==============================] - 17s 2ms/step - loss: 0.1847 - accuracy: 0.9328 - prec_0: 0.6808 - recall_0: 0.3354\n",
      "Epoch 8/20\n",
      "8427/8427 [==============================] - 17s 2ms/step - loss: 0.1875 - accuracy: 0.9322 - prec_0: 0.6851 - recall_0: 0.3336\n",
      "Epoch 9/20\n",
      "8427/8427 [==============================] - 19s 2ms/step - loss: 0.1855 - accuracy: 0.9330 - prec_0: 0.6847 - recall_0: 0.3352\n",
      "Epoch 10/20\n",
      "8427/8427 [==============================] - 18s 2ms/step - loss: 0.1852 - accuracy: 0.9324 - prec_0: 0.6836 - recall_0: 0.3350\n",
      "Epoch 11/20\n",
      "8427/8427 [==============================] - 18s 2ms/step - loss: 0.1836 - accuracy: 0.9336 - prec_0: 0.6869 - recall_0: 0.3415\n",
      "Epoch 12/20\n",
      "8427/8427 [==============================] - 19s 2ms/step - loss: 0.1847 - accuracy: 0.9332 - prec_0: 0.6846 - recall_0: 0.3368\n",
      "Epoch 13/20\n",
      "8427/8427 [==============================] - 17s 2ms/step - loss: 0.1860 - accuracy: 0.9324 - prec_0: 0.6830 - recall_0: 0.3350\n",
      "Epoch 14/20\n",
      "8427/8427 [==============================] - 18s 2ms/step - loss: 0.1856 - accuracy: 0.9328 - prec_0: 0.6827 - recall_0: 0.3308\n",
      "Epoch 15/20\n",
      "8427/8427 [==============================] - 18s 2ms/step - loss: 0.1838 - accuracy: 0.9330 - prec_0: 0.6874 - recall_0: 0.3343\n",
      "Epoch 16/20\n",
      "8427/8427 [==============================] - 18s 2ms/step - loss: 0.1865 - accuracy: 0.9325 - prec_0: 0.6876 - recall_0: 0.3350\n",
      "Epoch 17/20\n",
      "8427/8427 [==============================] - 19s 2ms/step - loss: 0.1862 - accuracy: 0.9326 - prec_0: 0.6864 - recall_0: 0.3344\n",
      "Epoch 18/20\n",
      "8427/8427 [==============================] - 18s 2ms/step - loss: 0.1850 - accuracy: 0.9326 - prec_0: 0.6826 - recall_0: 0.3360\n",
      "Epoch 19/20\n",
      "8427/8427 [==============================] - 18s 2ms/step - loss: 0.1824 - accuracy: 0.9339 - prec_0: 0.6863 - recall_0: 0.3413\n",
      "Epoch 20/20\n",
      "8427/8427 [==============================] - 20s 2ms/step - loss: 0.1850 - accuracy: 0.9328 - prec_0: 0.6824 - recall_0: 0.3311\n",
      "1487/1487 [==============================] - 3s 2ms/step - loss: 0.1849 - accuracy: 0.9334 - prec_0: 0.7164 - recall_0: 0.3241\n"
     ]
    },
    {
     "data": {
      "text/plain": [
       "[0.18488959968090057,\n",
       " 0.9333585500717163,\n",
       " 0.7163677215576172,\n",
       " 0.3241187036037445]"
      ]
     },
     "execution_count": 12,
     "metadata": {},
     "output_type": "execute_result"
    }
   ],
   "source": [
    "model = keras.Sequential()\n",
    "\n",
    "model.add(keras.layers.Dense(100))\n",
    "model.add(keras.layers.Dense(50))\n",
    "model.add(keras.layers.Dense(1, activation=\"sigmoid\"))\n",
    "\n",
    "model.compile(\n",
    "    optimizer=\"adam\",\n",
    "    loss=\"binary_crossentropy\",\n",
    "    metrics=[\n",
    "        \"accuracy\",\n",
    "        metrics.Precision(name=\"prec_0\"),\n",
    "        metrics.Recall(name=\"recall_0\")\n",
    "    ]\n",
    ")\n",
    "\n",
    "model.fit(\n",
    "    x = train_vectors_arr,\n",
    "    y = np.asarray(train_relevant_labels_3),\n",
    "    epochs=20\n",
    ")\n",
    "\n",
    "model.evaluate(\n",
    "    x = test_vectors_arr,\n",
    "    y = np.asarray(test_relevant_labels_3)\n",
    ")"
   ]
  },
  {
   "cell_type": "code",
   "execution_count": null,
   "metadata": {},
   "outputs": [],
   "source": []
  },
  {
   "cell_type": "code",
   "execution_count": null,
   "metadata": {},
   "outputs": [],
   "source": []
  }
 ],
 "metadata": {
  "kernelspec": {
   "display_name": "Python 3",
   "language": "python",
   "name": "python3"
  },
  "language_info": {
   "codemirror_mode": {
    "name": "ipython",
    "version": 3
   },
   "file_extension": ".py",
   "mimetype": "text/x-python",
   "name": "python",
   "nbconvert_exporter": "python",
   "pygments_lexer": "ipython3",
   "version": "3.6.9"
  }
 },
 "nbformat": 4,
 "nbformat_minor": 2
}
