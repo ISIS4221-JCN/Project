{
 "cells": [
  {
   "cell_type": "code",
   "execution_count": 1,
   "metadata": {},
   "outputs": [],
   "source": [
    "lang = 'fr'\n",
    "sources = [\"news\", \"tweets\", \"reddit\"]\n",
    "\n",
    "\n",
    "%config IPCompleter.greedy=True\n",
    "%config IPCompleter.use_jedi=False\n",
    "\n",
    "from IPython.display import clear_output"
   ]
  },
  {
   "cell_type": "code",
   "execution_count": 2,
   "metadata": {},
   "outputs": [],
   "source": [
    "!pip install gensim\n",
    "!pip install nltk\n",
    "!pip install scikit-learn\n",
    "\n",
    "clear_output()"
   ]
  },
  {
   "cell_type": "code",
   "execution_count": 3,
   "metadata": {},
   "outputs": [],
   "source": [
    "# Imports the OS library\n",
    "import os\n",
    "\n",
    "# Imports the JSON library\n",
    "import  json\n",
    "\n",
    "# Imports the time library\n",
    "from time import time\n",
    "\n",
    "# Imports numpy\n",
    "import numpy as np\n",
    "\n",
    "# Imports the document class\n",
    "from document import Document\n",
    "\n",
    "# Import TQDM for time measurements\n",
    "from tqdm import tqdm\n",
    "\n",
    "# Imports string\n",
    "import string\n",
    "\n",
    "# Imports regular expressions\n",
    "import re\n",
    "\n",
    "# Imports NLTK\n",
    "import nltk\n",
    "nltk.download('punkt')\n",
    "from nltk import sent_tokenize\n",
    "from nltk import word_tokenize\n",
    "from nltk.corpus import reuters\n",
    "from nltk.corpus import stopwords\n",
    "from nltk.stem import SnowballStemmer\n",
    "from nltk.tokenize import TweetTokenizer\n",
    "    \n",
    "# Imports gensim\n",
    "from gensim.corpora.dictionary import Dictionary\n",
    "from gensim.models.ldamulticore import LdaMulticore\n",
    "from gensim.models.doc2vec import TaggedDocument, Doc2Vec\n",
    "from gensim.parsing.preprocessing import strip_punctuation\n",
    "\n",
    "# Imports scikit learn\n",
    "from sklearn.cluster import KMeans\n",
    "from sklearn.metrics import confusion_matrix\n",
    "from sklearn.preprocessing import LabelEncoder\n",
    "from sklearn.model_selection import train_test_split\n",
    "\n",
    "# Imports matplotlib\n",
    "import matplotlib.pyplot as plt\n",
    "from matplotlib import ticker\n",
    "\n",
    "# Imports random\n",
    "from random import sample\n",
    "\n",
    "clear_output()"
   ]
  },
  {
   "cell_type": "markdown",
   "metadata": {},
   "source": [
    "## Preprocessing Definition"
   ]
  },
  {
   "cell_type": "code",
   "execution_count": 4,
   "metadata": {},
   "outputs": [],
   "source": [
    "def preprocess_text(data, lang_stopwords, stemmer, twt_token, source=\"news\"):\n",
    "    \n",
    "    preprocessed_text = []\n",
    "    \n",
    "    for doc in tqdm(data):\n",
    "    \n",
    "        # Sets text into lowercase\n",
    "        doc = doc.lower()\n",
    "    \n",
    "        if source == \"news\":\n",
    "\n",
    "            # Removes punctuation\n",
    "            doc = strip_punctuation(doc)\n",
    "\n",
    "            # Tokenizes by word\n",
    "            doc = word_tokenize(doc)\n",
    "\n",
    "        else:\n",
    "\n",
    "            # Tweet tokenizer\n",
    "            doc = twt_token.tokenize(doc)\n",
    "\n",
    "        # Removes stopwords\n",
    "        doc = [token for token in doc if token not in lang_stopwords]\n",
    "\n",
    "        # Stems data\n",
    "        doc = [stemmer.stem(token) for token in doc]\n",
    "            \n",
    "        # Appends doc to preprocessed text list\n",
    "        preprocessed_text.append(doc)\n",
    "\n",
    "    # Returns the preprocessed text\n",
    "    return preprocessed_text\n",
    "        \n",
    "        "
   ]
  },
  {
   "cell_type": "markdown",
   "metadata": {},
   "source": [
    "## Data load functions"
   ]
  },
  {
   "cell_type": "code",
   "execution_count": 5,
   "metadata": {},
   "outputs": [],
   "source": [
    "def load_files(filenames, prefix):\n",
    "    \n",
    "    text_list = []\n",
    "    \n",
    "    for file in tqdm(filenames):\n",
    "        \n",
    "        with open(prefix + file, \"r\") as file:\n",
    "        \n",
    "            doc = json.load(file)\n",
    "        \n",
    "            text = doc[\"text\"]\n",
    "            \n",
    "            text_list.append(text)\n",
    "        \n",
    "    return text_list"
   ]
  },
  {
   "cell_type": "markdown",
   "metadata": {},
   "source": [
    "## Data Loading"
   ]
  },
  {
   "cell_type": "code",
   "execution_count": 6,
   "metadata": {},
   "outputs": [
    {
     "name": "stderr",
     "output_type": "stream",
     "text": [
      "100%|██████████| 224894/224894 [01:05<00:00, 3441.85it/s]\n",
      "100%|██████████| 224894/224894 [1:20:13<00:00, 46.72it/s]\n",
      "100%|██████████| 119670/119670 [00:19<00:00, 6100.20it/s]\n",
      "100%|██████████| 119670/119670 [01:21<00:00, 1472.87it/s]\n",
      "100%|██████████| 4645/4645 [00:00<00:00, 6013.01it/s]\n",
      "100%|██████████| 4645/4645 [00:06<00:00, 683.35it/s]\n",
      "100%|██████████| 349209/349209 [00:03<00:00, 94790.89it/s] \n"
     ]
    }
   ],
   "source": [
    "# Loads the documents\n",
    "train_docs = []\n",
    "\n",
    "# Creates the language dictionary\n",
    "lang_dict = {\n",
    "    \"en\": \"english\",\n",
    "    \"es\": \"spanish\",\n",
    "    \"fr\": \"french\"\n",
    "}\n",
    "\n",
    "# Gets the stopwords\n",
    "lang_sw = stopwords.words(lang_dict[lang])\n",
    "\n",
    "# Creates the stemmer\n",
    "stemmer = SnowballStemmer(lang_dict[lang])\n",
    "\n",
    "# Creates the tweet tokenizer\n",
    "twt_token = TweetTokenizer()\n",
    "\n",
    "# Iterates over sources\n",
    "for src in sources:\n",
    "    \n",
    "    path_to_files = \"../../data/\" + src + '/' + lang + '/'\n",
    "    \n",
    "    filenames = os.listdir(path_to_files)\n",
    "    \n",
    "    docs = load_files(filenames, path_to_files)\n",
    "    \n",
    "    docs = preprocess_text(docs, lang_sw, stemmer, twt_token, src)\n",
    "    \n",
    "    train_docs.extend(docs)\n",
    "    \n",
    "# Creates the tagged documents array\n",
    "train_docs = [TaggedDocument(words, tags=\"{}\".format(i)) for i, words in enumerate(tqdm(train_docs))]"
   ]
  },
  {
   "cell_type": "code",
   "execution_count": 7,
   "metadata": {},
   "outputs": [
    {
     "name": "stdout",
     "output_type": "stream",
     "text": [
      "Built model vocab. Took 26.73s\n",
      "Trained epoch 9. Took 1860.00s\r"
     ]
    }
   ],
   "source": [
    "ALPHA = 0.025\n",
    "MIN_COUNT = 10\n",
    "MAX_EPOCHS = 10\n",
    "DIMENSIONS = 512\n",
    "\n",
    "model = Doc2Vec(\n",
    "    alpha=ALPHA, \n",
    "    min_alpha=0.00025, \n",
    "    min_count=MIN_COUNT, \n",
    "    vector_size=DIMENSIONS,\n",
    "    dm=1\n",
    ")\n",
    "\n",
    "dtime = time()\n",
    "\n",
    "model.build_vocab(train_docs)\n",
    "\n",
    "dtime = time() - dtime\n",
    "\n",
    "print(\"Built model vocab. Took {:2.2f}s\".format(dtime))\n",
    "\n",
    "for epoch in range(MAX_EPOCHS):\n",
    "    \n",
    "    dtime = time()\n",
    "    \n",
    "    model.train(train_docs, total_examples = model.corpus_count, epochs=model.epochs)\n",
    "        \n",
    "    # Decrease the learning rate\n",
    "    model.alpha -= 0.0002\n",
    "    \n",
    "    # Fix the learning rate, no decay\n",
    "    model.min_alpha = model.alpha\n",
    "    \n",
    "    dtime = time() - dtime\n",
    "    \n",
    "    print(\"Trained epoch {}. Took {:4.2f}s\".format(epoch, dtime), end='\\r')\n",
    "    \n",
    "    model.save(\"doc2vec_{}.model\".format(lang))"
   ]
  },
  {
   "cell_type": "code",
   "execution_count": null,
   "metadata": {},
   "outputs": [],
   "source": []
  }
 ],
 "metadata": {
  "kernelspec": {
   "display_name": "Python 3",
   "language": "python",
   "name": "python3"
  },
  "language_info": {
   "codemirror_mode": {
    "name": "ipython",
    "version": 3
   },
   "file_extension": ".py",
   "mimetype": "text/x-python",
   "name": "python",
   "nbconvert_exporter": "python",
   "pygments_lexer": "ipython3",
   "version": "3.6.9"
  }
 },
 "nbformat": 4,
 "nbformat_minor": 2
}
