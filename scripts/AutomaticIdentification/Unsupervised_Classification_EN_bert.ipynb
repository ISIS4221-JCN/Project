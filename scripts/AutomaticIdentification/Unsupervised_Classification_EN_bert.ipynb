{
 "cells": [
  {
   "cell_type": "markdown",
   "metadata": {},
   "source": [
    "# Unsupervised Classfication"
   ]
  },
  {
   "cell_type": "code",
   "execution_count": 1,
   "metadata": {},
   "outputs": [],
   "source": [
    "# PARAMS\n",
    "lang = 'en'\n",
    "embeddings = \"bert\"\n",
    "\n",
    "%config IPCompleter.greedy=True\n",
    "%config IPCompleter.use_jedi=False\n",
    "\n",
    "from IPython.display import clear_output"
   ]
  },
  {
   "cell_type": "code",
   "execution_count": 2,
   "metadata": {},
   "outputs": [],
   "source": [
    "!pip install scikit-learn\n",
    "\n",
    "clear_output()"
   ]
  },
  {
   "cell_type": "code",
   "execution_count": 3,
   "metadata": {},
   "outputs": [],
   "source": [
    "# Imports the OS library\n",
    "import os\n",
    "\n",
    "# Imports the time library\n",
    "from time import time\n",
    "\n",
    "# Imports numpy\n",
    "import numpy as np\n",
    "\n",
    "# Imports the document class\n",
    "from document import Document\n",
    "\n",
    "import pandas as pd\n",
    "\n",
    "# Import TQDM for time measurements\n",
    "from tqdm import tqdm\n",
    "\n",
    "# Imports scikit learn\n",
    "from sklearn.cluster import KMeans\n",
    "from sklearn.metrics import confusion_matrix\n",
    "from sklearn.metrics import silhouette_score\n",
    "from sklearn.metrics import davies_bouldin_score\n",
    "from sklearn.metrics import calinski_harabasz_score\n",
    "\n",
    "from sklearn.preprocessing import LabelEncoder\n",
    "\n",
    "# Imports matplotlib\n",
    "import matplotlib.pyplot as plt\n",
    "from matplotlib import ticker\n",
    "\n",
    "# Imports wordcloud\n",
    "from wordcloud import WordCloud"
   ]
  },
  {
   "cell_type": "markdown",
   "metadata": {},
   "source": [
    "## Load Data"
   ]
  },
  {
   "cell_type": "code",
   "execution_count": 4,
   "metadata": {},
   "outputs": [],
   "source": [
    "path_to_data = \"../../data/datasets/\" + lang + '/' + embeddings + '/'\n",
    "\n",
    "X_train = np.load(path_to_data + \"X_train_\" + embeddings + '_' + lang + '.npy')\n",
    "X_test = np.load(path_to_data + \"X_test_\" + embeddings + '_' + lang + '.npy')\n",
    "X_val = np.load(path_to_data + \"X_val_\" + embeddings + '_' + lang + '.npy')\n",
    "\n"
   ]
  },
  {
   "cell_type": "markdown",
   "metadata": {},
   "source": [
    "## Model Selection"
   ]
  },
  {
   "cell_type": "code",
   "execution_count": 5,
   "metadata": {},
   "outputs": [
    {
     "name": "stdout",
     "output_type": "stream",
     "text": [
      "Training model with 2 clusters\n",
      "\t Got an silhouette score of 0.27\n",
      "\t Got an Calinski-Harabasz index of 277.58\n",
      "\t Got an Davies-Bouldin index of 1.45\n",
      "Training model with 3 clusters\n",
      "\t Got an silhouette score of 0.26\n",
      "\t Got an Calinski-Harabasz index of 278.94\n",
      "\t Got an Davies-Bouldin index of 1.29\n",
      "Training model with 4 clusters\n",
      "\t Got an silhouette score of 0.22\n",
      "\t Got an Calinski-Harabasz index of 236.19\n",
      "\t Got an Davies-Bouldin index of 1.40\n",
      "Training model with 5 clusters\n",
      "\t Got an silhouette score of 0.18\n",
      "\t Got an Calinski-Harabasz index of 204.82\n",
      "\t Got an Davies-Bouldin index of 1.48\n",
      "Training model with 10 clusters\n",
      "\t Got an silhouette score of 0.14\n",
      "\t Got an Calinski-Harabasz index of 141.96\n",
      "\t Got an Davies-Bouldin index of 1.67\n",
      "Training model with 15 clusters\n",
      "\t Got an silhouette score of 0.12\n",
      "\t Got an Calinski-Harabasz index of 111.56\n",
      "\t Got an Davies-Bouldin index of 1.67\n",
      "Training model with 20 clusters\n",
      "\t Got an silhouette score of 0.11\n",
      "\t Got an Calinski-Harabasz index of 93.33\n",
      "\t Got an Davies-Bouldin index of 1.72\n",
      "Training model with 25 clusters\n",
      "\t Got an silhouette score of 0.10\n",
      "\t Got an Calinski-Harabasz index of 80.52\n",
      "\t Got an Davies-Bouldin index of 1.76\n",
      "Training model with 50 clusters\n",
      "\t Got an silhouette score of 0.06\n",
      "\t Got an Calinski-Harabasz index of 47.98\n",
      "\t Got an Davies-Bouldin index of 1.87\n",
      "Training model with 100 clusters\n",
      "\t Got an silhouette score of 0.04\n",
      "\t Got an Calinski-Harabasz index of 29.22\n",
      "\t Got an Davies-Bouldin index of 1.87\n"
     ]
    }
   ],
   "source": [
    "clusters_list = [2, 3, 4, 5, 10, 15, 20, 25, 50, 100]\n",
    "\n",
    "ss_list, ch_list, db_list = [], [], []\n",
    "\n",
    "for n_clusters in clusters_list:\n",
    "    \n",
    "    print(f\"Training model with {n_clusters} clusters\")\n",
    "    \n",
    "    # Creates the model\n",
    "    k_model = KMeans(n_clusters)\n",
    "    k_model.fit(X_train)\n",
    "    \n",
    "    # Inferes predicitons\n",
    "    y_pred = k_model.predict(X_test)\n",
    "    \n",
    "    # Calculates metrics\n",
    "    ss_score = silhouette_score(X_test, y_pred)\n",
    "    ch_index = calinski_harabasz_score(X_test, y_pred)\n",
    "    db_score = davies_bouldin_score(X_test, y_pred)\n",
    "\n",
    "    # Prints metrics for model\n",
    "    print(\"\\t Got an silhouette score of {:4.2f}\".format(ss_score))\n",
    "    print(\"\\t Got an Calinski-Harabasz index of {:4.2f}\".format(ch_index))\n",
    "    print(\"\\t Got an Davies-Bouldin index of {:4.2f}\".format(db_score))\n",
    "    \n",
    "    ss_list.append(ss_score)\n",
    "    ch_list.append(ch_index)\n",
    "    db_list.append(db_score)\n"
   ]
  },
  {
   "cell_type": "code",
   "execution_count": 6,
   "metadata": {},
   "outputs": [],
   "source": [
    "results_dict = {\n",
    "    \"clusters\":clusters_list,\n",
    "    \"sh_score\":ss_list,\n",
    "    \"ch_score\":ch_list,\n",
    "    \"db_score\":db_list\n",
    "}\n",
    "\n",
    "results_df = pd.DataFrame(results_dict)"
   ]
  },
  {
   "cell_type": "code",
   "execution_count": 7,
   "metadata": {},
   "outputs": [],
   "source": [
    "results_df.to_csv(\"kmeans_{}_{}.csv\".format(lang, embeddings))"
   ]
  },
  {
   "cell_type": "code",
   "execution_count": null,
   "metadata": {},
   "outputs": [],
   "source": []
  }
 ],
 "metadata": {
  "kernelspec": {
   "display_name": "Python 3",
   "language": "python",
   "name": "python3"
  },
  "language_info": {
   "codemirror_mode": {
    "name": "ipython",
    "version": 3
   },
   "file_extension": ".py",
   "mimetype": "text/x-python",
   "name": "python",
   "nbconvert_exporter": "python",
   "pygments_lexer": "ipython3",
   "version": "3.6.9"
  }
 },
 "nbformat": 4,
 "nbformat_minor": 2
}
