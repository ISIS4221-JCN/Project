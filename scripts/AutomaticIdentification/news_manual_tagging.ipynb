{
 "cells": [
  {
   "cell_type": "code",
   "execution_count": 1,
   "id": "3ce2c470-53df-4803-be31-818e2bde21e2",
   "metadata": {
    "id": "3ce2c470-53df-4803-be31-818e2bde21e2"
   },
   "outputs": [],
   "source": [
    "import sys\n",
    "import os\n",
    "import json\n",
    "import pandas as pd\n",
    "from tqdm import tqdm\n",
    "from IPython.display import clear_output"
   ]
  },
  {
   "cell_type": "code",
   "execution_count": 9,
   "id": "71d3123b-6ad4-47e6-a9e9-9e3cb408a954",
   "metadata": {
    "colab": {
     "base_uri": "https://localhost:8080/"
    },
    "id": "71d3123b-6ad4-47e6-a9e9-9e3cb408a954",
    "outputId": "eb62eba2-a8de-41f3-f280-3beeba19b215"
   },
   "outputs": [
    {
     "name": "stdout",
     "output_type": "stream",
     "text": [
      "You will tag files in fr gathered form news\n",
      "Tags to use: ['vaccine', 'mental-health', 'school-reopneing', 'household-violence', 'none']\n",
      "Results will be saved to: ../../data/news_fr.json\n"
     ]
    }
   ],
   "source": [
    "# Parameters\n",
    "from googletrans import Translator\n",
    "translator = Translator(service_urls=['translate.googleapis.com'])\n",
    "source = 'news'\n",
    "lang = 'fr'\n",
    "path_prefix = '../../data/'\n",
    "tag_file = os.path.join(path_prefix, source + '_' + lang + '.json')\n",
    "labels = ['vaccine', 'mental-health', 'school-reopneing', 'household-violence', 'none']\n",
    "print('You will tag files in ' + lang + ' gathered form ' + source)\n",
    "print('Tags to use: ' + str(labels))\n",
    "print('Results will be saved to: ' + str(tag_file))"
   ]
  },
  {
   "cell_type": "code",
   "execution_count": 13,
   "id": "aa77aa78-ccc2-4240-8eea-f7f3c850b2f6",
   "metadata": {
    "id": "aa77aa78-ccc2-4240-8eea-f7f3c850b2f6"
   },
   "outputs": [],
   "source": [
    "def highlight_words(text):\n",
    "    text = text.replace(',', '').replace('.', '').split(' ')\n",
    "    new_text = []\n",
    "    for word in text:\n",
    "        if word.lower() in words_to_upper:\n",
    "            new_text.append(word.upper())\n",
    "        else:\n",
    "            new_text.append(word)\n",
    "    text = ''\n",
    "    for counter, word in enumerate(new_text):\n",
    "        if counter % 20 == 0:\n",
    "            text = text + '\\n'\n",
    "        text = text + ' ' + word\n",
    "    return translator.translate(text, dest='es').text"
   ]
  },
  {
   "cell_type": "code",
   "execution_count": 16,
   "metadata": {
    "colab": {
     "base_uri": "https://localhost:8080/",
     "height": 685
    },
    "id": "48cea6e9-b865-4d49-8fc1-c9bdd2c5ef3a",
    "outputId": "6c0099e9-e495-4f33-8231-14efde5bc7b8"
   },
   "outputs": [
    {
     "name": "stderr",
     "output_type": "stream",
     "text": [
      "100%|██████████| 74/74 [24:22<00:00, 19.76s/it]\n"
     ]
    }
   ],
   "source": [
    "tweet_files = sorted(os.listdir(os.path.join(path_prefix, source, lang)))\n",
    "try:\n",
    "    with open(tag_file, 'r') as tag_file_obj:\n",
    "        tag_dict = json.load(tag_file_obj)\n",
    "except:\n",
    "    tag_dict = {}\n",
    "tweet_files_set = set(tweet_files)\n",
    "tag_tweets_set = set(list(tag_dict.keys()))\n",
    "tweet_files = sorted(list(tweet_files_set.difference(tag_tweets_set)))\n",
    "print('Found {} tagged tweets'.format(len(tag_dict)))\n",
    "words_to_upper = ['vaccine', 'vaccination', 'mental', 'health', 'school', 'schools', 'violence', 'vaccines', 'astrazeneca', 'pfizer', 'sinovac']\n",
    "words_to_upper = ['vacuna', 'vacunacion', 'mental', 'salud', 'colegio', 'colegios', 'violencia', 'vacunas', 'astrazeneca', 'pfizer', 'sinovac']\n",
    "total_tweets = input('How many tweets do you want to tag?')\n",
    "for i, tweet in enumerate(tqdm(tweet_files[:int(total_tweets)])):\n",
    "    with open(os.path.join(path_prefix, source, lang, tweet), 'r') as tweet_file:\n",
    "        tweet_dict = json.load(tweet_file)\n",
    "        print('{}/{}'.format(i, total_tweets))\n",
    "        print(tweet_dict['text'])\n",
    "        print('Clases: ' + str(labels))\n",
    "        code = []\n",
    "        while len(code) != 5:\n",
    "            code = input(f'Type 1 for the classes the tweet belongs to and 0 for the others ')\n",
    "            code = [bool(int(d)) for d in str(code)]\n",
    "        tag_dict[tweet] = dict(zip(labels, code))\n",
    "        clear_output()\n",
    "        with open(tag_file, 'w') as tag_file_obj:\n",
    "            json.dump(tag_dict, tag_file_obj)"
   ]
  },
  {
   "cell_type": "code",
   "execution_count": null,
   "metadata": {},
   "outputs": [],
   "source": []
  },
  {
   "cell_type": "code",
   "execution_count": null,
   "metadata": {},
   "outputs": [],
   "source": []
  }
 ],
 "metadata": {
  "colab": {
   "collapsed_sections": [],
   "name": "manual_tagging.ipynb",
   "provenance": [],
   "toc_visible": true
  },
  "kernelspec": {
   "display_name": "Python 3",
   "language": "python",
   "name": "python3"
  },
  "language_info": {
   "codemirror_mode": {
    "name": "ipython",
    "version": 3
   },
   "file_extension": ".py",
   "mimetype": "text/x-python",
   "name": "python",
   "nbconvert_exporter": "python",
   "pygments_lexer": "ipython3",
   "version": "3.6.9"
  }
 },
 "nbformat": 4,
 "nbformat_minor": 5
}
