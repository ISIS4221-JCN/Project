{
 "cells": [
  {
   "cell_type": "code",
   "execution_count": 1,
   "metadata": {},
   "outputs": [],
   "source": [
    "# PARAMS\n",
    "lang = 'es'\n",
    "\n",
    "%config IPCompleter.greedy=True\n",
    "%config IPCompleter.use_jedi=False"
   ]
  },
  {
   "cell_type": "code",
   "execution_count": 2,
   "metadata": {},
   "outputs": [],
   "source": [
    "import csv\n",
    "\n",
    "from tqdm import tqdm\n",
    "\n",
    "import numpy as np\n",
    "\n",
    "from document import Document\n",
    "\n",
    "# Imports tensorflow\n",
    "import tensorflow as tf\n",
    "from tensorflow import keras\n",
    "from tensorflow.keras import metrics"
   ]
  },
  {
   "cell_type": "code",
   "execution_count": 3,
   "metadata": {},
   "outputs": [],
   "source": [
    "fname = \"X_train_{}.txt\".format(lang)\n",
    "train_files = []\n",
    "\n",
    "with open(fname) as csv_file:\n",
    "    freader = csv.reader(csv_file, delimiter=',')\n",
    "    for row in freader:\n",
    "        train_files.append(row[0])\n",
    "        \n",
    "\n",
    "fname = \"X_test_{}.txt\".format(lang)\n",
    "test_files = []\n",
    "\n",
    "with open(fname) as csv_file:\n",
    "    freader = csv.reader(csv_file, delimiter=',')\n",
    "    for row in freader:\n",
    "        test_files.append(row[0])\n"
   ]
  },
  {
   "cell_type": "code",
   "execution_count": 4,
   "metadata": {},
   "outputs": [],
   "source": [
    "train_vectors_arr = np.genfromtxt(\"X_train_vectors_{}.csv\".format(lang), delimiter=',')\n",
    "test_vectors_arr = np.genfromtxt(\"X_test_vectors_{}.csv\".format(lang), delimiter=',')"
   ]
  },
  {
   "cell_type": "code",
   "execution_count": 5,
   "metadata": {},
   "outputs": [
    {
     "name": "stderr",
     "output_type": "stream",
     "text": [
      "100%|██████████| 159580/159580 [00:43<00:00, 3630.87it/s]\n"
     ]
    }
   ],
   "source": [
    "# Relevant classes\n",
    "relevant_2 = [\"vacunas\", \"vacunacion\", \"salud mental\"]\n",
    "relevant_3 = [\"reapertura de colegios\", \"violencia domestica\"]\n",
    "\n",
    "train_relevant_labels_2 = []\n",
    "train_relevant_labels_3 = []\n",
    "\n",
    "path_to_news = \"../../data/news/\" + lang + '/'\n",
    "\n",
    "for file in tqdm(train_files):\n",
    "    \n",
    "    doc = Document()\n",
    "    doc.load_from_json(path_to_news + file)\n",
    "    \n",
    "    if doc.keyword in relevant_2:\n",
    "        train_relevant_labels_2.append(1)\n",
    "    else:\n",
    "        train_relevant_labels_2.append(0)\n",
    "        \n",
    "    if doc.keyword in relevant_3:\n",
    "        train_relevant_labels_3.append(1)\n",
    "    else:\n",
    "        train_relevant_labels_3.append(0)\n"
   ]
  },
  {
   "cell_type": "code",
   "execution_count": 6,
   "metadata": {},
   "outputs": [
    {
     "name": "stderr",
     "output_type": "stream",
     "text": [
      "100%|██████████| 28162/28162 [00:07<00:00, 3655.63it/s]\n"
     ]
    }
   ],
   "source": [
    "test_relevant_labels_2 = []\n",
    "test_relevant_labels_3 = []\n",
    "\n",
    "path_to_news = \"../../data/news/\" + lang + '/'\n",
    "\n",
    "for file in tqdm(test_files):\n",
    "    \n",
    "    doc = Document()\n",
    "    doc.load_from_json(path_to_news + file)\n",
    "    \n",
    "    if doc.keyword in relevant_2:\n",
    "        test_relevant_labels_2.append(1)\n",
    "    else:\n",
    "        test_relevant_labels_2.append(0)\n",
    "        \n",
    "    if doc.keyword in relevant_3:\n",
    "        test_relevant_labels_3.append(1)\n",
    "    else:\n",
    "        test_relevant_labels_3.append(0)\n"
   ]
  },
  {
   "cell_type": "code",
   "execution_count": 8,
   "metadata": {},
   "outputs": [
    {
     "name": "stdout",
     "output_type": "stream",
     "text": [
      "Epoch 1/20\n",
      "4987/4987 [==============================] - 9s 2ms/step - loss: 0.3779 - accuracy: 0.8403 - prec_0: 0.5464 - recall_0: 0.2313\n",
      "Epoch 2/20\n",
      "4987/4987 [==============================] - 8s 2ms/step - loss: 0.3594 - accuracy: 0.8460 - prec_0: 0.5830 - recall_0: 0.2319\n",
      "Epoch 3/20\n",
      "4987/4987 [==============================] - 8s 2ms/step - loss: 0.3581 - accuracy: 0.8468 - prec_0: 0.5927 - recall_0: 0.2338\n",
      "Epoch 4/20\n",
      "4987/4987 [==============================] - 8s 2ms/step - loss: 0.3569 - accuracy: 0.8469 - prec_0: 0.5907 - recall_0: 0.2323\n",
      "Epoch 5/20\n",
      "4987/4987 [==============================] - 8s 2ms/step - loss: 0.3575 - accuracy: 0.8466 - prec_0: 0.5922 - recall_0: 0.2330\n",
      "Epoch 6/20\n",
      "4987/4987 [==============================] - 8s 2ms/step - loss: 0.3626 - accuracy: 0.8440 - prec_0: 0.5897 - recall_0: 0.2211\n",
      "Epoch 7/20\n",
      "4987/4987 [==============================] - 8s 2ms/step - loss: 0.3582 - accuracy: 0.8458 - prec_0: 0.5903 - recall_0: 0.2291\n",
      "Epoch 8/20\n",
      "4987/4987 [==============================] - 8s 2ms/step - loss: 0.3584 - accuracy: 0.8461 - prec_0: 0.5960 - recall_0: 0.2275\n",
      "Epoch 9/20\n",
      "4987/4987 [==============================] - 8s 2ms/step - loss: 0.3600 - accuracy: 0.8443 - prec_0: 0.5875 - recall_0: 0.2269\n",
      "Epoch 10/20\n",
      "4987/4987 [==============================] - 8s 2ms/step - loss: 0.3583 - accuracy: 0.8464 - prec_0: 0.5903 - recall_0: 0.2253\n",
      "Epoch 11/20\n",
      "4987/4987 [==============================] - 8s 2ms/step - loss: 0.3570 - accuracy: 0.8456 - prec_0: 0.5858 - recall_0: 0.2338\n",
      "Epoch 12/20\n",
      "4987/4987 [==============================] - 8s 2ms/step - loss: 0.3583 - accuracy: 0.8467 - prec_0: 0.6018 - recall_0: 0.2343\n",
      "Epoch 13/20\n",
      "4987/4987 [==============================] - 8s 2ms/step - loss: 0.3562 - accuracy: 0.8465 - prec_0: 0.5954 - recall_0: 0.2393\n",
      "Epoch 14/20\n",
      "4987/4987 [==============================] - 9s 2ms/step - loss: 0.3571 - accuracy: 0.8465 - prec_0: 0.5948 - recall_0: 0.2276\n",
      "Epoch 15/20\n",
      "4987/4987 [==============================] - 9s 2ms/step - loss: 0.3570 - accuracy: 0.8463 - prec_0: 0.5884 - recall_0: 0.2279\n",
      "Epoch 16/20\n",
      "4987/4987 [==============================] - 9s 2ms/step - loss: 0.3554 - accuracy: 0.8472 - prec_0: 0.5919 - recall_0: 0.2307\n",
      "Epoch 17/20\n",
      "4987/4987 [==============================] - 9s 2ms/step - loss: 0.3561 - accuracy: 0.8479 - prec_0: 0.5982 - recall_0: 0.2351\n",
      "Epoch 18/20\n",
      "4987/4987 [==============================] - 9s 2ms/step - loss: 0.3600 - accuracy: 0.8461 - prec_0: 0.5998 - recall_0: 0.2292\n",
      "Epoch 19/20\n",
      "4987/4987 [==============================] - 9s 2ms/step - loss: 0.3580 - accuracy: 0.8461 - prec_0: 0.5926 - recall_0: 0.2279\n",
      "Epoch 20/20\n",
      "4987/4987 [==============================] - 9s 2ms/step - loss: 0.3612 - accuracy: 0.8454 - prec_0: 0.6022 - recall_0: 0.2373\n",
      "881/881 [==============================] - 2s 1ms/step - loss: 0.3548 - accuracy: 0.8459 - prec_0: 0.5922 - recall_0: 0.2166\n"
     ]
    },
    {
     "data": {
      "text/plain": [
       "[0.3548451364040375,\n",
       " 0.8459271192550659,\n",
       " 0.5922444462776184,\n",
       " 0.21663442254066467]"
      ]
     },
     "execution_count": 8,
     "metadata": {},
     "output_type": "execute_result"
    }
   ],
   "source": [
    "model = keras.Sequential()\n",
    "\n",
    "model.add(keras.layers.Dense(100))\n",
    "model.add(keras.layers.Dense(50))\n",
    "model.add(keras.layers.Dense(1, activation=\"sigmoid\"))\n",
    "\n",
    "model.compile(\n",
    "    optimizer=\"adam\",\n",
    "    loss=\"binary_crossentropy\",\n",
    "    metrics=[\n",
    "        \"accuracy\",\n",
    "        metrics.Precision(name=\"prec_0\"),\n",
    "        metrics.Recall(name=\"recall_0\")\n",
    "    ]\n",
    ")\n",
    "\n",
    "model.fit(\n",
    "    x = train_vectors_arr,\n",
    "    y = np.asarray(train_relevant_labels_2),\n",
    "    epochs=20\n",
    ")\n",
    "\n",
    "model.evaluate(\n",
    "    x = test_vectors_arr,\n",
    "    y = np.asarray(test_relevant_labels_2)\n",
    ")"
   ]
  },
  {
   "cell_type": "code",
   "execution_count": 9,
   "metadata": {},
   "outputs": [
    {
     "name": "stdout",
     "output_type": "stream",
     "text": [
      "Epoch 1/20\n",
      "4987/4987 [==============================] - 9s 2ms/step - loss: 0.2006 - accuracy: 0.9334 - prec_0: 0.5155 - recall_0: 0.1883\n",
      "Epoch 2/20\n",
      "4987/4987 [==============================] - 9s 2ms/step - loss: 0.1812 - accuracy: 0.9375 - prec_0: 0.5872 - recall_0: 0.1921\n",
      "Epoch 3/20\n",
      "4987/4987 [==============================] - 9s 2ms/step - loss: 0.1811 - accuracy: 0.9377 - prec_0: 0.6035 - recall_0: 0.1990\n",
      "Epoch 4/20\n",
      "4987/4987 [==============================] - 9s 2ms/step - loss: 0.1796 - accuracy: 0.9377 - prec_0: 0.5977 - recall_0: 0.1907\n",
      "Epoch 5/20\n",
      "4987/4987 [==============================] - 9s 2ms/step - loss: 0.1790 - accuracy: 0.9379 - prec_0: 0.5963 - recall_0: 0.1910\n",
      "Epoch 6/20\n",
      "4987/4987 [==============================] - 9s 2ms/step - loss: 0.1793 - accuracy: 0.9379 - prec_0: 0.5922 - recall_0: 0.1880\n",
      "Epoch 7/20\n",
      "4987/4987 [==============================] - 9s 2ms/step - loss: 0.1793 - accuracy: 0.9373 - prec_0: 0.6011 - recall_0: 0.1967\n",
      "Epoch 8/20\n",
      "4987/4987 [==============================] - 9s 2ms/step - loss: 0.1807 - accuracy: 0.9370 - prec_0: 0.5937 - recall_0: 0.1883\n",
      "Epoch 9/20\n",
      "4987/4987 [==============================] - 9s 2ms/step - loss: 0.1786 - accuracy: 0.9377 - prec_0: 0.5889 - recall_0: 0.1909\n",
      "Epoch 10/20\n",
      "4987/4987 [==============================] - 9s 2ms/step - loss: 0.1800 - accuracy: 0.9379 - prec_0: 0.6056 - recall_0: 0.1883\n",
      "Epoch 11/20\n",
      "4987/4987 [==============================] - 9s 2ms/step - loss: 0.1763 - accuracy: 0.9392 - prec_0: 0.6037 - recall_0: 0.1909\n",
      "Epoch 12/20\n",
      "4987/4987 [==============================] - 9s 2ms/step - loss: 0.1770 - accuracy: 0.9381 - prec_0: 0.6020 - recall_0: 0.1988\n",
      "Epoch 13/20\n",
      "4987/4987 [==============================] - 9s 2ms/step - loss: 0.1789 - accuracy: 0.9375 - prec_0: 0.5976 - recall_0: 0.1898\n",
      "Epoch 14/20\n",
      "4987/4987 [==============================] - 9s 2ms/step - loss: 0.1788 - accuracy: 0.9377 - prec_0: 0.5940 - recall_0: 0.1929\n",
      "Epoch 15/20\n",
      "4987/4987 [==============================] - 9s 2ms/step - loss: 0.1788 - accuracy: 0.9381 - prec_0: 0.6058 - recall_0: 0.1902\n",
      "Epoch 16/20\n",
      "4987/4987 [==============================] - 9s 2ms/step - loss: 0.1778 - accuracy: 0.9385 - prec_0: 0.6150 - recall_0: 0.1994\n",
      "Epoch 17/20\n",
      "4987/4987 [==============================] - 11s 2ms/step - loss: 0.1796 - accuracy: 0.9376 - prec_0: 0.5969 - recall_0: 0.1888\n",
      "Epoch 18/20\n",
      "4987/4987 [==============================] - 11s 2ms/step - loss: 0.1762 - accuracy: 0.9388 - prec_0: 0.6002 - recall_0: 0.1878\n",
      "Epoch 19/20\n",
      "4987/4987 [==============================] - 11s 2ms/step - loss: 0.1773 - accuracy: 0.9382 - prec_0: 0.5936 - recall_0: 0.1911\n",
      "Epoch 20/20\n",
      "4987/4987 [==============================] - 11s 2ms/step - loss: 0.1786 - accuracy: 0.9376 - prec_0: 0.5905 - recall_0: 0.1810\n",
      "881/881 [==============================] - 2s 2ms/step - loss: 0.1760 - accuracy: 0.9384 - prec_0: 0.5767 - recall_0: 0.2126\n"
     ]
    },
    {
     "data": {
      "text/plain": [
       "[0.17604944109916687,\n",
       " 0.938392162322998,\n",
       " 0.5766961574554443,\n",
       " 0.21261554956436157]"
      ]
     },
     "execution_count": 9,
     "metadata": {},
     "output_type": "execute_result"
    }
   ],
   "source": [
    "model = keras.Sequential()\n",
    "\n",
    "model.add(keras.layers.Dense(100))\n",
    "model.add(keras.layers.Dense(50))\n",
    "model.add(keras.layers.Dense(1, activation=\"sigmoid\"))\n",
    "\n",
    "model.compile(\n",
    "    optimizer=\"adam\",\n",
    "    loss=\"binary_crossentropy\",\n",
    "    metrics=[\n",
    "        \"accuracy\",\n",
    "        metrics.Precision(name=\"prec_0\"),\n",
    "        metrics.Recall(name=\"recall_0\")\n",
    "    ]\n",
    ")\n",
    "\n",
    "model.fit(\n",
    "    x = train_vectors_arr,\n",
    "    y = np.asarray(train_relevant_labels_3),\n",
    "    epochs=20\n",
    ")\n",
    "\n",
    "model.evaluate(\n",
    "    x = test_vectors_arr,\n",
    "    y = np.asarray(test_relevant_labels_3)\n",
    ")"
   ]
  },
  {
   "cell_type": "code",
   "execution_count": null,
   "metadata": {},
   "outputs": [],
   "source": []
  }
 ],
 "metadata": {
  "kernelspec": {
   "display_name": "Python 3",
   "language": "python",
   "name": "python3"
  },
  "language_info": {
   "codemirror_mode": {
    "name": "ipython",
    "version": 3
   },
   "file_extension": ".py",
   "mimetype": "text/x-python",
   "name": "python",
   "nbconvert_exporter": "python",
   "pygments_lexer": "ipython3",
   "version": "3.6.9"
  }
 },
 "nbformat": 4,
 "nbformat_minor": 2
}
