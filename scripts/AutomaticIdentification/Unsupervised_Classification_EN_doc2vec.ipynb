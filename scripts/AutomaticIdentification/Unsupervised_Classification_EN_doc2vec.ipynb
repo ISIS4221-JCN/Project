{
 "cells": [
  {
   "cell_type": "markdown",
   "metadata": {},
   "source": [
    "# Unsupervised Classfication"
   ]
  },
  {
   "cell_type": "code",
   "execution_count": 1,
   "metadata": {},
   "outputs": [],
   "source": [
    "# PARAMS\n",
    "lang = 'en'\n",
    "embeddings = \"doc2vec\"\n",
    "\n",
    "%config IPCompleter.greedy=True\n",
    "%config IPCompleter.use_jedi=False\n",
    "\n",
    "from IPython.display import clear_output"
   ]
  },
  {
   "cell_type": "code",
   "execution_count": 2,
   "metadata": {},
   "outputs": [
    {
     "name": "stdout",
     "output_type": "stream",
     "text": [
      "Requirement already satisfied: scikit-learn in /usr/local/lib/python3.6/dist-packages (0.24.2)\n",
      "Requirement already satisfied: scipy>=0.19.1 in /usr/local/lib/python3.6/dist-packages (from scikit-learn) (1.5.4)\n",
      "Requirement already satisfied: numpy>=1.13.3 in /usr/local/lib/python3.6/dist-packages (from scikit-learn) (1.19.5)\n",
      "Requirement already satisfied: threadpoolctl>=2.0.0 in /usr/local/lib/python3.6/dist-packages (from scikit-learn) (2.1.0)\n",
      "Requirement already satisfied: joblib>=0.11 in /usr/local/lib/python3.6/dist-packages (from scikit-learn) (1.0.1)\n",
      "\u001b[33mWARNING: You are using pip version 20.2.4; however, version 21.1.2 is available.\n",
      "You should consider upgrading via the '/usr/bin/python3 -m pip install --upgrade pip' command.\u001b[0m\n"
     ]
    },
    {
     "data": {
      "text/plain": [
       "<function IPython.core.display.clear_output(wait=False)>"
      ]
     },
     "execution_count": 2,
     "metadata": {},
     "output_type": "execute_result"
    }
   ],
   "source": [
    "!pip install scikit-learn\n",
    "\n",
    "clear_output"
   ]
  },
  {
   "cell_type": "code",
   "execution_count": 3,
   "metadata": {},
   "outputs": [],
   "source": [
    "# Imports the OS library\n",
    "import os\n",
    "\n",
    "# Imports the time library\n",
    "from time import time\n",
    "\n",
    "# Imports numpy\n",
    "import numpy as np\n",
    "\n",
    "import pandas as pd\n",
    "\n",
    "# Imports the document class\n",
    "from document import Document\n",
    "\n",
    "# Import TQDM for time measurements\n",
    "from tqdm import tqdm\n",
    "\n",
    "# Imports scikit learn\n",
    "from sklearn.cluster import KMeans\n",
    "from sklearn.metrics import confusion_matrix\n",
    "from sklearn.metrics import silhouette_score\n",
    "from sklearn.metrics import davies_bouldin_score\n",
    "from sklearn.metrics import calinski_harabasz_score\n",
    "\n",
    "from sklearn.preprocessing import LabelEncoder\n",
    "\n",
    "# Imports matplotlib\n",
    "import matplotlib.pyplot as plt\n",
    "from matplotlib import ticker\n",
    "\n",
    "# Imports wordcloud\n",
    "from wordcloud import WordCloud"
   ]
  },
  {
   "cell_type": "markdown",
   "metadata": {},
   "source": [
    "## Load Data"
   ]
  },
  {
   "cell_type": "code",
   "execution_count": 4,
   "metadata": {},
   "outputs": [],
   "source": [
    "path_to_data = \"../../data/datasets/\" + lang + '/' + embeddings + '/'\n",
    "\n",
    "X_train = np.load(path_to_data + \"X_train_\" + embeddings + '_' + lang + '.npy')\n",
    "X_test = np.load(path_to_data + \"X_test_\" + embeddings + '_' + lang + '.npy')\n",
    "X_val = np.load(path_to_data + \"X_val_\" + embeddings + '_' + lang + '.npy')\n",
    "\n"
   ]
  },
  {
   "cell_type": "markdown",
   "metadata": {},
   "source": [
    "## Model Selection"
   ]
  },
  {
   "cell_type": "code",
   "execution_count": 5,
   "metadata": {},
   "outputs": [
    {
     "name": "stdout",
     "output_type": "stream",
     "text": [
      "Training model with 2 clusters\n",
      "\t Got an silhouette score of 0.76\n",
      "\t Got an Calinski-Harabasz index of 30.19\n",
      "\t Got an Davies-Bouldin index of 0.17\n",
      "Training model with 3 clusters\n",
      "\t Got an silhouette score of 0.17\n",
      "\t Got an Calinski-Harabasz index of 54.23\n",
      "\t Got an Davies-Bouldin index of 1.77\n",
      "Training model with 4 clusters\n",
      "\t Got an silhouette score of 0.16\n",
      "\t Got an Calinski-Harabasz index of 54.75\n",
      "\t Got an Davies-Bouldin index of 1.79\n",
      "Training model with 5 clusters\n",
      "\t Got an silhouette score of 0.08\n",
      "\t Got an Calinski-Harabasz index of 50.25\n",
      "\t Got an Davies-Bouldin index of 3.16\n",
      "Training model with 10 clusters\n",
      "\t Got an silhouette score of 0.02\n",
      "\t Got an Calinski-Harabasz index of 31.76\n",
      "\t Got an Davies-Bouldin index of 4.09\n",
      "Training model with 15 clusters\n",
      "\t Got an silhouette score of 0.02\n",
      "\t Got an Calinski-Harabasz index of 31.83\n",
      "\t Got an Davies-Bouldin index of 4.01\n",
      "Training model with 20 clusters\n",
      "\t Got an silhouette score of -0.00\n",
      "\t Got an Calinski-Harabasz index of 23.60\n",
      "\t Got an Davies-Bouldin index of 4.44\n",
      "Training model with 25 clusters\n",
      "\t Got an silhouette score of -0.01\n",
      "\t Got an Calinski-Harabasz index of 22.85\n",
      "\t Got an Davies-Bouldin index of 4.31\n",
      "Training model with 50 clusters\n",
      "\t Got an silhouette score of -0.01\n",
      "\t Got an Calinski-Harabasz index of 18.77\n",
      "\t Got an Davies-Bouldin index of 4.04\n",
      "Training model with 100 clusters\n",
      "\t Got an silhouette score of -0.03\n",
      "\t Got an Calinski-Harabasz index of 13.10\n",
      "\t Got an Davies-Bouldin index of 4.03\n"
     ]
    }
   ],
   "source": [
    "clusters_list = [2, 3, 4, 5, 10, 15, 20, 25, 50, 100]\n",
    "\n",
    "ss_list, ch_list, db_list = [], [], []\n",
    "\n",
    "for n_clusters in clusters_list:\n",
    "    \n",
    "    print(f\"Training model with {n_clusters} clusters\")\n",
    "    \n",
    "    # Creates the model\n",
    "    k_model = KMeans(n_clusters)\n",
    "    k_model.fit(X_train)\n",
    "    \n",
    "    # Inferes predicitons\n",
    "    y_pred = k_model.predict(X_test)\n",
    "    \n",
    "    # Calculates metrics\n",
    "    ss_score = silhouette_score(X_test, y_pred)\n",
    "    ch_index = calinski_harabasz_score(X_test, y_pred)\n",
    "    db_score = davies_bouldin_score(X_test, y_pred)\n",
    "\n",
    "    # Prints metrics for model\n",
    "    print(\"\\t Got an silhouette score of {:4.2f}\".format(ss_score))\n",
    "    print(\"\\t Got an Calinski-Harabasz index of {:4.2f}\".format(ch_index))\n",
    "    print(\"\\t Got an Davies-Bouldin index of {:4.2f}\".format(db_score))\n",
    "    \n",
    "    ss_list.append(ss_score)\n",
    "    ch_list.append(ch_index)\n",
    "    db_list.append(db_score)\n",
    "    "
   ]
  },
  {
   "cell_type": "code",
   "execution_count": 6,
   "metadata": {},
   "outputs": [],
   "source": [
    "results_dict = {\n",
    "    \"clusters\":clusters_list,\n",
    "    \"sh_score\":ss_list,\n",
    "    \"ch_score\":ch_list,\n",
    "    \"db_score\":db_list\n",
    "}\n",
    "\n",
    "results_df = pd.DataFrame(results_dict)"
   ]
  },
  {
   "cell_type": "code",
   "execution_count": 7,
   "metadata": {},
   "outputs": [],
   "source": [
    "results_df.to_csv(\"kmeans_{}_{}.csv\".format(lang, embeddings))"
   ]
  },
  {
   "cell_type": "code",
   "execution_count": null,
   "metadata": {},
   "outputs": [],
   "source": []
  }
 ],
 "metadata": {
  "kernelspec": {
   "display_name": "Python 3",
   "language": "python",
   "name": "python3"
  },
  "language_info": {
   "codemirror_mode": {
    "name": "ipython",
    "version": 3
   },
   "file_extension": ".py",
   "mimetype": "text/x-python",
   "name": "python",
   "nbconvert_exporter": "python",
   "pygments_lexer": "ipython3",
   "version": "3.6.9"
  }
 },
 "nbformat": 4,
 "nbformat_minor": 2
}
