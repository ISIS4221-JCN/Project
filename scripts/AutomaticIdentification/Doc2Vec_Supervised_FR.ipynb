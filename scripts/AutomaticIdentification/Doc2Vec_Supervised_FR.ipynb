{
 "cells": [
  {
   "cell_type": "code",
   "execution_count": 16,
   "metadata": {},
   "outputs": [],
   "source": [
    "# PARAMS\n",
    "lang = 'fr'\n",
    "\n",
    "%config IPCompleter.greedy=True\n",
    "%config IPCompleter.use_jedi=False"
   ]
  },
  {
   "cell_type": "code",
   "execution_count": 17,
   "metadata": {},
   "outputs": [],
   "source": [
    "import csv\n",
    "\n",
    "from tqdm import tqdm\n",
    "\n",
    "import numpy as np\n",
    "\n",
    "from document import Document\n",
    "\n",
    "# Imports tensorflow\n",
    "import tensorflow as tf\n",
    "from tensorflow import keras\n",
    "from tensorflow.keras import metrics"
   ]
  },
  {
   "cell_type": "code",
   "execution_count": 18,
   "metadata": {},
   "outputs": [],
   "source": [
    "fname = \"X_train_{}.txt\".format(lang)\n",
    "train_files = []\n",
    "\n",
    "with open(fname) as csv_file:\n",
    "    freader = csv.reader(csv_file, delimiter=',')\n",
    "    for row in freader:\n",
    "        train_files.append(row[0])\n",
    "        \n",
    "\n",
    "fname = \"X_test_{}.txt\".format(lang)\n",
    "test_files = []\n",
    "\n",
    "with open(fname) as csv_file:\n",
    "    freader = csv.reader(csv_file, delimiter=',')\n",
    "    for row in freader:\n",
    "        test_files.append(row[0])\n"
   ]
  },
  {
   "cell_type": "code",
   "execution_count": 20,
   "metadata": {},
   "outputs": [],
   "source": [
    "train_vectors_arr = np.genfromtxt(\"X_train_vectors_{}.csv\".format(lang), delimiter=',')\n",
    "test_vectors_arr = np.genfromtxt(\"X_test_vectors_{}.csv\".format(lang), delimiter=',')"
   ]
  },
  {
   "cell_type": "code",
   "execution_count": 21,
   "metadata": {},
   "outputs": [
    {
     "name": "stderr",
     "output_type": "stream",
     "text": [
      "100%|██████████| 191159/191159 [00:59<00:00, 3195.47it/s]\n"
     ]
    }
   ],
   "source": [
    "# Relevant classes\n",
    "relevant_2 = [\"vaccin\", \"vaccination\", \"sante mentale\"]\n",
    "relevant_3 = [\"reouverture des ecoles\", \"violence domestique\"]\n",
    "\n",
    "train_relevant_labels_2 = []\n",
    "train_relevant_labels_3 = []\n",
    "\n",
    "path_to_news = \"../../data/news/\" + lang + '/'\n",
    "\n",
    "for file in tqdm(train_files):\n",
    "    \n",
    "    doc = Document()\n",
    "    doc.load_from_json(path_to_news + file)\n",
    "    \n",
    "    if doc.keyword in relevant_2:\n",
    "        train_relevant_labels_2.append(1)\n",
    "    else:\n",
    "        train_relevant_labels_2.append(0)\n",
    "        \n",
    "    if doc.keyword in relevant_3:\n",
    "        train_relevant_labels_3.append(1)\n",
    "    else:\n",
    "        train_relevant_labels_3.append(0)\n"
   ]
  },
  {
   "cell_type": "code",
   "execution_count": 22,
   "metadata": {},
   "outputs": [
    {
     "name": "stderr",
     "output_type": "stream",
     "text": [
      "100%|██████████| 33735/33735 [00:11<00:00, 2996.09it/s]\n"
     ]
    }
   ],
   "source": [
    "test_relevant_labels_2 = []\n",
    "test_relevant_labels_3 = []\n",
    "\n",
    "path_to_news = \"../../data/news/\" + lang + '/'\n",
    "\n",
    "for file in tqdm(test_files):\n",
    "    \n",
    "    doc = Document()\n",
    "    doc.load_from_json(path_to_news + file)\n",
    "    \n",
    "    if doc.keyword in relevant_2:\n",
    "        test_relevant_labels_2.append(1)\n",
    "    else:\n",
    "        test_relevant_labels_2.append(0)\n",
    "        \n",
    "    if doc.keyword in relevant_3:\n",
    "        test_relevant_labels_3.append(1)\n",
    "    else:\n",
    "        test_relevant_labels_3.append(0)\n"
   ]
  },
  {
   "cell_type": "code",
   "execution_count": 23,
   "metadata": {},
   "outputs": [
    {
     "name": "stdout",
     "output_type": "stream",
     "text": [
      "Epoch 1/20\n",
      "5974/5974 [==============================] - 11s 2ms/step - loss: 0.4035 - accuracy: 0.8338 - prec_0: 0.6233 - recall_0: 0.3207\n",
      "Epoch 2/20\n",
      "5974/5974 [==============================] - 12s 2ms/step - loss: 0.3838 - accuracy: 0.8407 - prec_0: 0.6725 - recall_0: 0.3371\n",
      "Epoch 3/20\n",
      "5974/5974 [==============================] - 10s 2ms/step - loss: 0.3830 - accuracy: 0.8405 - prec_0: 0.6720 - recall_0: 0.3257\n",
      "Epoch 4/20\n",
      "5974/5974 [==============================] - 10s 2ms/step - loss: 0.3796 - accuracy: 0.8423 - prec_0: 0.6746 - recall_0: 0.3299\n",
      "Epoch 5/20\n",
      "5974/5974 [==============================] - 10s 2ms/step - loss: 0.3831 - accuracy: 0.8406 - prec_0: 0.6805 - recall_0: 0.3338\n",
      "Epoch 6/20\n",
      "5974/5974 [==============================] - 10s 2ms/step - loss: 0.3807 - accuracy: 0.8420 - prec_0: 0.6756 - recall_0: 0.3282\n",
      "Epoch 7/20\n",
      "5974/5974 [==============================] - 10s 2ms/step - loss: 0.3832 - accuracy: 0.8409 - prec_0: 0.6820 - recall_0: 0.3341\n",
      "Epoch 8/20\n",
      "5974/5974 [==============================] - 10s 2ms/step - loss: 0.3806 - accuracy: 0.8412 - prec_0: 0.6781 - recall_0: 0.3343\n",
      "Epoch 9/20\n",
      "5974/5974 [==============================] - 10s 2ms/step - loss: 0.3824 - accuracy: 0.8414 - prec_0: 0.6831 - recall_0: 0.3354\n",
      "Epoch 10/20\n",
      "5974/5974 [==============================] - 10s 2ms/step - loss: 0.3795 - accuracy: 0.8416 - prec_0: 0.6739 - recall_0: 0.3288\n",
      "Epoch 11/20\n",
      "5974/5974 [==============================] - 10s 2ms/step - loss: 0.3810 - accuracy: 0.8409 - prec_0: 0.6769 - recall_0: 0.3327\n",
      "Epoch 12/20\n",
      "5974/5974 [==============================] - 10s 2ms/step - loss: 0.3791 - accuracy: 0.8418 - prec_0: 0.6754 - recall_0: 0.3329\n",
      "Epoch 13/20\n",
      "5974/5974 [==============================] - 10s 2ms/step - loss: 0.3798 - accuracy: 0.8414 - prec_0: 0.6770 - recall_0: 0.3280\n",
      "Epoch 14/20\n",
      "5974/5974 [==============================] - 10s 2ms/step - loss: 0.3803 - accuracy: 0.8426 - prec_0: 0.6781 - recall_0: 0.3263\n",
      "Epoch 15/20\n",
      "5974/5974 [==============================] - 10s 2ms/step - loss: 0.3803 - accuracy: 0.8406 - prec_0: 0.6786 - recall_0: 0.3404\n",
      "Epoch 16/20\n",
      "5974/5974 [==============================] - 10s 2ms/step - loss: 0.3799 - accuracy: 0.8412 - prec_0: 0.6764 - recall_0: 0.3296\n",
      "Epoch 17/20\n",
      "5974/5974 [==============================] - 10s 2ms/step - loss: 0.3812 - accuracy: 0.8411 - prec_0: 0.6768 - recall_0: 0.3292\n",
      "Epoch 18/20\n",
      "5974/5974 [==============================] - 11s 2ms/step - loss: 0.3780 - accuracy: 0.8433 - prec_0: 0.6806 - recall_0: 0.3374\n",
      "Epoch 19/20\n",
      "5974/5974 [==============================] - 10s 2ms/step - loss: 0.3820 - accuracy: 0.8410 - prec_0: 0.6780 - recall_0: 0.3298\n",
      "Epoch 20/20\n",
      "5974/5974 [==============================] - 10s 2ms/step - loss: 0.3773 - accuracy: 0.8429 - prec_0: 0.6799 - recall_0: 0.3378\n",
      "1055/1055 [==============================] - 2s 1ms/step - loss: 0.3822 - accuracy: 0.8428 - prec_0: 0.6655 - recall_0: 0.3453\n"
     ]
    },
    {
     "data": {
      "text/plain": [
       "[0.38218051195144653,\n",
       " 0.8428338766098022,\n",
       " 0.6654621958732605,\n",
       " 0.34525856375694275]"
      ]
     },
     "execution_count": 23,
     "metadata": {},
     "output_type": "execute_result"
    }
   ],
   "source": [
    "model = keras.Sequential()\n",
    "\n",
    "model.add(keras.layers.Dense(100))\n",
    "model.add(keras.layers.Dense(50))\n",
    "model.add(keras.layers.Dense(1, activation=\"sigmoid\"))\n",
    "\n",
    "model.compile(\n",
    "    optimizer=\"adam\",\n",
    "    loss=\"binary_crossentropy\",\n",
    "    metrics=[\n",
    "        \"accuracy\",\n",
    "        metrics.Precision(name=\"prec_0\"),\n",
    "        metrics.Recall(name=\"recall_0\")\n",
    "    ]\n",
    ")\n",
    "\n",
    "model.fit(\n",
    "    x = train_vectors_arr,\n",
    "    y = np.asarray(train_relevant_labels_2),\n",
    "    epochs=20\n",
    ")\n",
    "\n",
    "model.evaluate(\n",
    "    x = test_vectors_arr,\n",
    "    y = np.asarray(test_relevant_labels_2)\n",
    ")"
   ]
  },
  {
   "cell_type": "code",
   "execution_count": 24,
   "metadata": {},
   "outputs": [
    {
     "name": "stdout",
     "output_type": "stream",
     "text": [
      "Epoch 1/20\n",
      "5974/5974 [==============================] - 11s 2ms/step - loss: 0.2363 - accuracy: 0.9194 - prec_0: 0.5147 - recall_0: 0.1584\n",
      "Epoch 2/20\n",
      "5974/5974 [==============================] - 11s 2ms/step - loss: 0.2214 - accuracy: 0.9225 - prec_0: 0.5836 - recall_0: 0.1618\n",
      "Epoch 3/20\n",
      "5974/5974 [==============================] - 11s 2ms/step - loss: 0.2229 - accuracy: 0.9227 - prec_0: 0.6149 - recall_0: 0.1721\n",
      "Epoch 4/20\n",
      "5974/5974 [==============================] - 10s 2ms/step - loss: 0.2191 - accuracy: 0.9232 - prec_0: 0.5917 - recall_0: 0.1568\n",
      "Epoch 5/20\n",
      "5974/5974 [==============================] - 10s 2ms/step - loss: 0.2183 - accuracy: 0.9231 - prec_0: 0.5867 - recall_0: 0.1584\n",
      "Epoch 6/20\n",
      "5974/5974 [==============================] - 12s 2ms/step - loss: 0.2203 - accuracy: 0.9230 - prec_0: 0.5909 - recall_0: 0.1542\n",
      "Epoch 7/20\n",
      "5974/5974 [==============================] - 11s 2ms/step - loss: 0.2195 - accuracy: 0.9235 - prec_0: 0.6050 - recall_0: 0.1618\n",
      "Epoch 8/20\n",
      "5974/5974 [==============================] - 11s 2ms/step - loss: 0.2210 - accuracy: 0.9223 - prec_0: 0.6094 - recall_0: 0.1686\n",
      "Epoch 9/20\n",
      "5974/5974 [==============================] - 11s 2ms/step - loss: 0.2207 - accuracy: 0.9224 - prec_0: 0.5883 - recall_0: 0.1572\n",
      "Epoch 10/20\n",
      "5974/5974 [==============================] - 11s 2ms/step - loss: 0.2225 - accuracy: 0.9220 - prec_0: 0.6041 - recall_0: 0.1585\n",
      "Epoch 11/20\n",
      "5974/5974 [==============================] - 11s 2ms/step - loss: 0.2200 - accuracy: 0.9228 - prec_0: 0.6054 - recall_0: 0.1633\n",
      "Epoch 12/20\n",
      "5974/5974 [==============================] - 11s 2ms/step - loss: 0.2179 - accuracy: 0.9238 - prec_0: 0.6027 - recall_0: 0.1598\n",
      "Epoch 13/20\n",
      "5974/5974 [==============================] - 12s 2ms/step - loss: 0.2210 - accuracy: 0.9225 - prec_0: 0.5957 - recall_0: 0.1594\n",
      "Epoch 14/20\n",
      "5974/5974 [==============================] - 11s 2ms/step - loss: 0.2214 - accuracy: 0.9218 - prec_0: 0.5986 - recall_0: 0.1634\n",
      "Epoch 15/20\n",
      "5974/5974 [==============================] - 11s 2ms/step - loss: 0.2221 - accuracy: 0.9218 - prec_0: 0.5993 - recall_0: 0.1590\n",
      "Epoch 16/20\n",
      "5974/5974 [==============================] - 11s 2ms/step - loss: 0.2207 - accuracy: 0.9223 - prec_0: 0.5930 - recall_0: 0.1578\n",
      "Epoch 17/20\n",
      "5974/5974 [==============================] - 11s 2ms/step - loss: 0.2200 - accuracy: 0.9231 - prec_0: 0.6151 - recall_0: 0.1673\n",
      "Epoch 18/20\n",
      "5974/5974 [==============================] - 11s 2ms/step - loss: 0.2220 - accuracy: 0.9223 - prec_0: 0.5994 - recall_0: 0.1536\n",
      "Epoch 19/20\n",
      "5974/5974 [==============================] - 11s 2ms/step - loss: 0.2223 - accuracy: 0.9217 - prec_0: 0.5965 - recall_0: 0.1626\n",
      "Epoch 20/20\n",
      "5974/5974 [==============================] - 11s 2ms/step - loss: 0.2186 - accuracy: 0.9231 - prec_0: 0.5939 - recall_0: 0.1612\n",
      "1055/1055 [==============================] - 2s 2ms/step - loss: 0.2236 - accuracy: 0.9213 - prec_0: 0.5732 - recall_0: 0.1934\n"
     ]
    },
    {
     "data": {
      "text/plain": [
       "[0.2235514223575592,\n",
       " 0.9213280081748962,\n",
       " 0.5732483863830566,\n",
       " 0.1934097409248352]"
      ]
     },
     "execution_count": 24,
     "metadata": {},
     "output_type": "execute_result"
    }
   ],
   "source": [
    "model = keras.Sequential()\n",
    "\n",
    "model.add(keras.layers.Dense(100))\n",
    "model.add(keras.layers.Dense(50))\n",
    "model.add(keras.layers.Dense(1, activation=\"sigmoid\"))\n",
    "\n",
    "model.compile(\n",
    "    optimizer=\"adam\",\n",
    "    loss=\"binary_crossentropy\",\n",
    "    metrics=[\n",
    "        \"accuracy\",\n",
    "        metrics.Precision(name=\"prec_0\"),\n",
    "        metrics.Recall(name=\"recall_0\")\n",
    "    ]\n",
    ")\n",
    "\n",
    "model.fit(\n",
    "    x = train_vectors_arr,\n",
    "    y = np.asarray(train_relevant_labels_3),\n",
    "    epochs=20\n",
    ")\n",
    "\n",
    "model.evaluate(\n",
    "    x = test_vectors_arr,\n",
    "    y = np.asarray(test_relevant_labels_3)\n",
    ")"
   ]
  },
  {
   "cell_type": "code",
   "execution_count": 25,
   "metadata": {},
   "outputs": [
    {
     "data": {
      "text/plain": [
       "15627"
      ]
     },
     "execution_count": 25,
     "metadata": {},
     "output_type": "execute_result"
    }
   ],
   "source": [
    "sum(train_relevant_labels_3)"
   ]
  },
  {
   "cell_type": "code",
   "execution_count": null,
   "metadata": {},
   "outputs": [],
   "source": []
  }
 ],
 "metadata": {
  "kernelspec": {
   "display_name": "Python 3",
   "language": "python",
   "name": "python3"
  },
  "language_info": {
   "codemirror_mode": {
    "name": "ipython",
    "version": 3
   },
   "file_extension": ".py",
   "mimetype": "text/x-python",
   "name": "python",
   "nbconvert_exporter": "python",
   "pygments_lexer": "ipython3",
   "version": "3.6.9"
  }
 },
 "nbformat": 4,
 "nbformat_minor": 2
}
