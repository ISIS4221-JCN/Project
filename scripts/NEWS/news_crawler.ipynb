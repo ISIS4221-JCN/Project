{
 "cells": [
  {
   "cell_type": "markdown",
   "metadata": {},
   "source": [
    "# Google News Version"
   ]
  },
  {
   "cell_type": "code",
   "execution_count": 1,
   "metadata": {},
   "outputs": [],
   "source": [
    "# Imports the JSON library to open search parameters\n",
    "import json\n",
    "\n",
    "# Opens the parameters file\n",
    "parameters_file = open('./news_parameters.json', 'r')\n",
    "\n",
    "# Reads the parameters file and converts to dict\n",
    "parameters = json.loads(parameters_file.read())"
   ]
  },
  {
   "cell_type": "code",
   "execution_count": 2,
   "metadata": {},
   "outputs": [],
   "source": [
    "class Article(object):\n",
    "    \n",
    "    def __init__(self, p_name, p_key, p_link, p_lang):\n",
    "        self.name = p_name\n",
    "        self.key = p_key\n",
    "        self.link = p_link\n",
    "        self.lang = p_lang\n",
    "        \n",
    "    def __str__(self):\n",
    "        return self.name\n",
    "    \n",
    "    def __eq__(self, other):\n",
    "        if not isinstance(other, Article):\n",
    "            return NotImplemented\n",
    "        \n",
    "        return self.key == other.key\n",
    "        "
   ]
  },
  {
   "cell_type": "code",
   "execution_count": 3,
   "metadata": {},
   "outputs": [],
   "source": [
    "# Imports the required package or installs it if not found\n",
    "try:\n",
    "    from pygooglenews import GoogleNews\n",
    "except ModuleNotFoundError as e:\n",
    "    print(\"GoogleNews package is not installed. Intalling...\")\n",
    "    !python3 -m pip install pygooglenews\n",
    "    \n",
    "# Imports datetime to handle dates\n",
    "import datetime"
   ]
  },
  {
   "cell_type": "code",
   "execution_count": 9,
   "metadata": {},
   "outputs": [
    {
     "name": "stdout",
     "output_type": "stream",
     "text": [
      "Date: 2021-1-20. Documents: 575842\r"
     ]
    },
    {
     "ename": "KeyError",
     "evalue": "'link'",
     "output_type": "error",
     "traceback": [
      "\u001b[0;31m---------------------------------------------------------------------------\u001b[0m",
      "\u001b[0;31mKeyError\u001b[0m                                  Traceback (most recent call last)",
      "\u001b[0;32m<ipython-input-9-3a75580e8e12>\u001b[0m in \u001b[0;36m<module>\u001b[0;34m()\u001b[0m\n\u001b[1;32m     51\u001b[0m                 \u001b[0;32mfor\u001b[0m \u001b[0mentry\u001b[0m \u001b[0;32min\u001b[0m \u001b[0mresponse\u001b[0m\u001b[0;34m[\u001b[0m\u001b[0;34m\"entries\"\u001b[0m\u001b[0;34m]\u001b[0m\u001b[0;34m:\u001b[0m\u001b[0;34m\u001b[0m\u001b[0;34m\u001b[0m\u001b[0m\n\u001b[1;32m     52\u001b[0m \u001b[0;34m\u001b[0m\u001b[0m\n\u001b[0;32m---> 53\u001b[0;31m                     \u001b[0marticle\u001b[0m \u001b[0;34m=\u001b[0m \u001b[0mArticle\u001b[0m\u001b[0;34m(\u001b[0m\u001b[0mentry\u001b[0m\u001b[0;34m[\u001b[0m\u001b[0;34m\"title\"\u001b[0m\u001b[0;34m]\u001b[0m\u001b[0;34m,\u001b[0m \u001b[0mentry\u001b[0m\u001b[0;34m[\u001b[0m\u001b[0;34m\"id\"\u001b[0m\u001b[0;34m]\u001b[0m\u001b[0;34m,\u001b[0m \u001b[0mentry\u001b[0m\u001b[0;34m[\u001b[0m\u001b[0;34m\"link\"\u001b[0m\u001b[0;34m]\u001b[0m\u001b[0;34m,\u001b[0m \u001b[0mlang\u001b[0m\u001b[0;34m)\u001b[0m\u001b[0;34m\u001b[0m\u001b[0;34m\u001b[0m\u001b[0m\n\u001b[0m\u001b[1;32m     54\u001b[0m \u001b[0;34m\u001b[0m\u001b[0m\n\u001b[1;32m     55\u001b[0m \u001b[0;34m\u001b[0m\u001b[0m\n",
      "\u001b[0;32m/home/nicolas-rocha/.local/lib/python3.6/site-packages/feedparser.py\u001b[0m in \u001b[0;36m__getitem__\u001b[0;34m(self, key)\u001b[0m\n\u001b[1;32m    354\u001b[0m             \u001b[0;32melif\u001b[0m \u001b[0mdict\u001b[0m\u001b[0;34m.\u001b[0m\u001b[0m__contains__\u001b[0m\u001b[0;34m(\u001b[0m\u001b[0mself\u001b[0m\u001b[0;34m,\u001b[0m \u001b[0mrealkey\u001b[0m\u001b[0;34m)\u001b[0m\u001b[0;34m:\u001b[0m\u001b[0;34m\u001b[0m\u001b[0;34m\u001b[0m\u001b[0m\n\u001b[1;32m    355\u001b[0m                 \u001b[0;32mreturn\u001b[0m \u001b[0mdict\u001b[0m\u001b[0;34m.\u001b[0m\u001b[0m__getitem__\u001b[0m\u001b[0;34m(\u001b[0m\u001b[0mself\u001b[0m\u001b[0;34m,\u001b[0m \u001b[0mrealkey\u001b[0m\u001b[0;34m)\u001b[0m\u001b[0;34m\u001b[0m\u001b[0;34m\u001b[0m\u001b[0m\n\u001b[0;32m--> 356\u001b[0;31m         \u001b[0;32mreturn\u001b[0m \u001b[0mdict\u001b[0m\u001b[0;34m.\u001b[0m\u001b[0m__getitem__\u001b[0m\u001b[0;34m(\u001b[0m\u001b[0mself\u001b[0m\u001b[0;34m,\u001b[0m \u001b[0mkey\u001b[0m\u001b[0;34m)\u001b[0m\u001b[0;34m\u001b[0m\u001b[0;34m\u001b[0m\u001b[0m\n\u001b[0m\u001b[1;32m    357\u001b[0m \u001b[0;34m\u001b[0m\u001b[0m\n\u001b[1;32m    358\u001b[0m     \u001b[0;32mdef\u001b[0m \u001b[0m__contains__\u001b[0m\u001b[0;34m(\u001b[0m\u001b[0mself\u001b[0m\u001b[0;34m,\u001b[0m \u001b[0mkey\u001b[0m\u001b[0;34m)\u001b[0m\u001b[0;34m:\u001b[0m\u001b[0;34m\u001b[0m\u001b[0;34m\u001b[0m\u001b[0m\n",
      "\u001b[0;31mKeyError\u001b[0m: 'link'"
     ]
    }
   ],
   "source": [
    "# Stop flag for the iteration loop\n",
    "finish = False\n",
    "\n",
    "# List to store the articles information\n",
    "articles_list = []\n",
    "\n",
    "# Retrieves the date start parameters\n",
    "START_YEAR = parameters[\"start_year\"]\n",
    "START_MONTH = parameters[\"start_month\"]\n",
    "START_DAY = parameters[\"start_day\"]\n",
    "\n",
    "# Retrieves the final date parameters\n",
    "END_YEAR = parameters[\"end_year\"]\n",
    "END_MONTH = parameters[\"end_month\"]\n",
    "END_DAY = parameters[\"end_day\"]\n",
    "\n",
    "# Creates the date object\n",
    "date = datetime.datetime(START_YEAR, START_MONTH, START_DAY)\n",
    "\n",
    "# Iterates until the end \n",
    "while not finish:\n",
    "    \n",
    "    # Creates the start date string\n",
    "    START = \"{}-{}-{}\".format(date.year, date.month, date.day)\n",
    "    \n",
    "    # Creates the end date string\n",
    "    end_date = date + datetime.timedelta(days=1)\n",
    "    END = \"{}-{}-{}\".format(end_date.year, end_date.month, end_date.day)\n",
    "    \n",
    "    # Prints feedback information\n",
    "    print(\"Date: {}. Documents: {}\".format(START, len(articles_list)), end='\\r')\n",
    "    \n",
    "    # Iterates over countries\n",
    "    for country in parameters[\"countries\"]:\n",
    "        \n",
    "        # Iterates over languages\n",
    "        for lang in parameters[\"languages\"]:\n",
    "            \n",
    "            # Creates the API instance\n",
    "            api = GoogleNews(lang=lang, country=country)\n",
    "            \n",
    "            # Iterate over keywords\n",
    "            for kw in parameters[\"keywords\"]:\n",
    "            \n",
    "                # Asks a response from the API\n",
    "                response = api.search(kw, from_=START, to_=END)\n",
    "\n",
    "                # Checks that more than one document is retrieved\n",
    "                \n",
    "                # Iterates over every response\n",
    "                for entry in response[\"entries\"]:\n",
    "\n",
    "                    article = Article(entry[\"title\"], entry[\"id\"], entry[\"link\"], lang)\n",
    "\n",
    "                    \n",
    "                    if article not in articles_list:\n",
    "                        articles_list.append(article)\n",
    "    \n",
    "    # Checks the stop conditions\n",
    "    stop_year = date.year == END_YEAR\n",
    "    stop_month = date.month == END_MONTH\n",
    "    stop_day = date.day == END_DAY\n",
    "    \n",
    "    # Stops if all three conditions are met\n",
    "    if stop_year and stop_month and stop_day:\n",
    "        finish = True\n",
    "        \n",
    "    # Increments date by one day\n",
    "    else:\n",
    "        date += datetime.timedelta(days=1)\n"
   ]
  },
  {
   "cell_type": "code",
   "execution_count": 24,
   "metadata": {},
   "outputs": [],
   "source": [
    "for i, article in enumerate(articles_list):\n",
    "\n",
    "    # Sets filename\n",
    "    filename = \"./../../data/news/URL_{0:06d}.json\".format(i)\n",
    "    \n",
    "    data ={\n",
    "        \"name\" : article.name,\n",
    "        \"key\" : article.key,\n",
    "        \"link\" : article.link,\n",
    "        \"lang\" : article.lang\n",
    "    }\n",
    "    \n",
    "    # \n",
    "    with open(filename, 'w') as file:\n",
    "    \n",
    "        # \n",
    "        writer = json.dump(data, file)\n"
   ]
  },
  {
   "cell_type": "code",
   "execution_count": 25,
   "metadata": {},
   "outputs": [],
   "source": [
    "count = {\n",
    "    \"en\":0,\n",
    "    \"es\":0,\n",
    "    \"fr\":0,\n",
    "    \"it\":0\n",
    "}\n",
    "\n",
    "\n",
    "for article in articles_list:\n",
    "    count[article.lang] += 1\n",
    "    "
   ]
  },
  {
   "cell_type": "code",
   "execution_count": 26,
   "metadata": {},
   "outputs": [
    {
     "name": "stdout",
     "output_type": "stream",
     "text": [
      "{'en': 22734, 'es': 7431, 'fr': 17012, 'it': 10424}\n"
     ]
    }
   ],
   "source": [
    "print(count)"
   ]
  },
  {
   "cell_type": "code",
   "execution_count": 27,
   "metadata": {},
   "outputs": [
    {
     "name": "stdout",
     "output_type": "stream",
     "text": [
      "57601\n"
     ]
    }
   ],
   "source": [
    "print(len(articles_list))"
   ]
  },
  {
   "cell_type": "code",
   "execution_count": null,
   "metadata": {},
   "outputs": [],
   "source": []
  }
 ],
 "metadata": {
  "kernelspec": {
   "display_name": "Python 3",
   "language": "python",
   "name": "python3"
  },
  "language_info": {
   "codemirror_mode": {
    "name": "ipython",
    "version": 3
   },
   "file_extension": ".py",
   "mimetype": "text/x-python",
   "name": "python",
   "nbconvert_exporter": "python",
   "pygments_lexer": "ipython3",
   "version": "3.6.9"
  }
 },
 "nbformat": 4,
 "nbformat_minor": 2
}
