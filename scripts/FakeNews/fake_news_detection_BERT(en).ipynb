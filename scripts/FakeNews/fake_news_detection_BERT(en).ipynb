{
 "cells": [
  {
   "cell_type": "markdown",
   "id": "878205c1-5f9e-4e5a-b360-f9d19668576c",
   "metadata": {},
   "source": [
    "# Fake News Detection - English"
   ]
  },
  {
   "cell_type": "code",
   "execution_count": 1,
   "id": "aed2e4b9-e329-4a59-a033-0a10cc95bb44",
   "metadata": {},
   "outputs": [],
   "source": [
    "# Import libraries\n",
    "\n",
    "# Main\n",
    "import sys\n",
    "sys.path.insert(0,'../')\n",
    "import os\n",
    "import datetime\n",
    "import pandas as pd\n",
    "import numpy as np\n",
    "import tensorflow as tf\n",
    "from tensorflow import keras\n",
    "from tensorflow.keras import layers\n",
    "from tqdm import tqdm\n",
    "import torch\n",
    "import matplotlib.pyplot as plt\n",
    "\n",
    "# NLP\n",
    "from gensim.parsing.porter import PorterStemmer\n",
    "from gensim.parsing.preprocessing import remove_stopwords\n",
    "import nltk\n",
    "nltk.download('wordnet')\n",
    "from nltk.tokenize import TweetTokenizer\n",
    "from nltk.stem import SnowballStemmer\n",
    "from nltk.stem.porter import PorterStemmer\n",
    "from nltk import word_tokenize\n",
    "from nltk.corpus import stopwords\n",
    "\n",
    "# Transformers\n",
    "from transformers import AutoTokenizer, AutoModel, TFAutoModel\n",
    "\n",
    "# Sklearn\n",
    "from sklearn.neural_network import MLPClassifier\n",
    "from sklearn.model_selection import train_test_split\n",
    "from sklearn.linear_model import LogisticRegression\n",
    "from sklearn.naive_bayes import GaussianNB\n",
    "from sklearn import svm\n",
    "from sklearn.metrics import accuracy_score\n",
    "from sklearn.metrics import precision_score\n",
    "from sklearn.metrics import f1_score\n",
    "from sklearn.metrics import recall_score\n",
    "\n",
    "# Display\n",
    "from IPython.display import clear_output\n",
    "clear_output()"
   ]
  },
  {
   "cell_type": "markdown",
   "id": "49172c9e-a4a6-412f-a170-f61f58b5b99c",
   "metadata": {},
   "source": [
    "### Loading data"
   ]
  },
  {
   "cell_type": "code",
   "execution_count": 2,
   "id": "e0ad31e9-f933-44e8-8327-57f2235a5e7c",
   "metadata": {},
   "outputs": [],
   "source": [
    "from utils import Utils\n",
    "utils = Utils('/media/juan/Juan/NLP/', num_workers=10)"
   ]
  },
  {
   "cell_type": "code",
   "execution_count": 3,
   "id": "b33e6234-83be-49ad-9eb4-1221e2423950",
   "metadata": {},
   "outputs": [
    {
     "name": "stdout",
     "output_type": "stream",
     "text": [
      "Starting...\n",
      "Starting 10 threads to load 20000 documents from news in en\n",
      "Loaded 20000 files in 237.70 seconds.\n",
      "Removed 0 files becasuse they were too large\n",
      "Starting 10 threads to load 18718 documents from FakeNews in en\n",
      "Loaded 18718 files in 45.53 seconds.\n",
      "Removed 0 files becasuse they were too large\n",
      "Loaded 20000 news 18718 fake news\n"
     ]
    }
   ],
   "source": [
    "# Define language\n",
    "lang = 'en'\n",
    "\n",
    "print('Starting...')\n",
    "\n",
    "news_data, _, _ = utils.data_loader(lang, 'news', total_data=20000, max_size = None, return_dates = False)\n",
    "fake_news_data, _, _ = utils.data_loader(lang, 'FakeNews', total_data=18718, max_size = None, return_dates = False)\n",
    "\n",
    "print(f'Loaded {len(news_data)} news {len(fake_news_data)} fake news')\n",
    "\n",
    "data = news_data + fake_news_data\n",
    "tags = [1]*len(news_data) + [0]*len(fake_news_data)"
   ]
  },
  {
   "cell_type": "markdown",
   "id": "0ebd198a-3691-402e-ba0a-9a7f6ca03523",
   "metadata": {},
   "source": [
    "### Glimpse at data"
   ]
  },
  {
   "cell_type": "code",
   "execution_count": 4,
   "id": "8bca6182-58d1-4770-a090-d8104de70fb4",
   "metadata": {},
   "outputs": [
    {
     "name": "stdout",
     "output_type": "stream",
     "text": [
      "Coronavirus-related hospitalizations dropped 13% over the weekend in Riverside County, continuing a trend that began three weeks ago, as officials Monday reported another 3,962 infections and 80 additional virus-related deaths.The Riverside University Health System reported 979 COVID-positive hospitalizations countywide, compared to 1,128 on Friday. The ICU bed count of COVID patients was 268, down 22 from Friday. No figures were released over the weekend.The county's peak in coronavirus hospitalizations was on Jan. 10, when 1,675 people suffering virus-related complications were undergoing treatment.The aggregate number of coronavirus cases recorded since the public health documentation period began in early March is 275,872, compared to 271,910 on Friday.Total virus-related fatalities stood at 3,171. Deaths are trailing indicators because of delays processing death certificates, and typically cover three- to four-week periods.The number of known active virus cases countywide stands at 57,824, down 13,937 from Friday. The active count is derived by subtracting deaths and recoveries from the current total -- 275,872 -- according to the county Executive Office. Verified patient recoveries countywide were at 203,649, according to RUHS.Current CDC guidelines allow for up to 42 days for a second does of either the Pfizer or Moderna vaccine, which is due, in part, to low supplies.Nearly 77% of all COVID-19 vaccine doses that the county has received -- 149,079 out of 193,875 -- have been administered countywide, according to figures released Friday.Riverside County's vaccination rate is higher than the state average of around 50%, according to the county.Those who are 65 years and older, along with hospital workers, first responders and teachers, are in the current qualifying tiers under the California Department of Public Health's vaccination guidance.According to health officials, about 800,000 county residents are eligible to receive shots based on current criteria.Riverside County health officials said they would be reaching out to those who already received their first doses of the vaccine to coordinate the second dose appointments. The county's available ICU space remains at 0%, along with the 11-county Southern California region.Gov. Gavin Newsom last week lifted his Dec. 6 stay-at-home order, which was based on areas sliding below a threshold of 15% available ICU beds.He justified cancellation of the order Monday by citing projections from theCDPH showing ICU availability recovering in the next month.County Emergency Management Director Bruce Barton told the board that conditions are generally improving in county hospitals, with patients taking up about 83% of licensed available beds, compared to just over 90% during the holidays.Yet the county remains in the most-restrictive, purple tier of the governor's Blueprint for a Safer Economy framework.The county's overall COVID-19 positive rate is 20%, down from 23.5% last week, based on state-adjusted figures.The purple tier impacts bars, theaters, museums, indoor recreational facilities, amusement parks and wineries -- all of which are supposed to remain closed. However, wineries, like restaurants, can provide outdoor dining, takeout and delivery.Retail outlets are limited to 25% capacity, while hair salons, nail salons and barbershops can operate with safeguards in place.\n",
      "------------------------------------------------------------------------------\n",
      "Hospitality industry struggling to find workers as COVID restrictions ease - KARE11.com.  And the industry's latest effort at slowing down new entrants into it will be hampered by the COVID legislation. The bill will not go into effect until next year, with the aim of keeping prices within the single figure. Meanwhile, some are worried that, if the legislation goes through this winter, it could spell the end of low pay for the middle class.  With so much at stake, the price of labor is already being taxed differently, not just for the individual, but in every industry.  As a result, some are concerned that it could spell the end of low pay for the middle class, as they see many workers forced on their pay bills simply because they are paid higher wages.  This year's bill does not pass the Committee on Budget Responsibility because only 14% of all new health and other government benefits are provided to new workers, much less to low-paid employers.  This means that, if it passes, employers in the insurance business will also have to pay more, even if they keep the same rate as their competitors.  And employers looking down pay as they have at the bottom will have to pay up, because lower-paying workers are also being paid to make more money.  And the cost will still be on top of wages of new workers, which will still be subject to a higher pay bill than in past decades .  It was the state-level changes recently enacted\n"
     ]
    }
   ],
   "source": [
    "news_num = 5\n",
    "print(news_data[news_num])\n",
    "print('------------------------------------------------------------------------------')\n",
    "print(fake_news_data[news_num])"
   ]
  },
  {
   "cell_type": "markdown",
   "id": "d74b64c0-22e1-4fc6-ad37-b5689b4d8cf4",
   "metadata": {},
   "source": [
    "### Feature extraction using BERT"
   ]
  },
  {
   "cell_type": "code",
   "execution_count": 5,
   "id": "3750d925-0429-4f91-a818-9717db193434",
   "metadata": {},
   "outputs": [
    {
     "name": "stderr",
     "output_type": "stream",
     "text": [
      "100%|██████████| 38718/38718 [01:58<00:00, 327.75it/s]\n"
     ]
    }
   ],
   "source": [
    "# Stop Words\n",
    "stop_words = stopwords.words('english')\n",
    "# Stemmers\n",
    "stem = SnowballStemmer('english')\n",
    "#p_stem = PorterStemmer()\n",
    "# Tokenizers\n",
    "#tk = nltk.tokenize.TweetTokenizer(preserve_case=False, reduce_len=True, strip_handles=True)\n",
    "tk = nltk.RegexpTokenizer(r'\\w+')\n",
    "# Lemmatizer\n",
    "lemma = nltk.stem.WordNetLemmatizer()\n",
    "# Preprocess data\n",
    "corpus = []\n",
    "for d in tqdm(data):\n",
    "    corpus.append(utils.preprocessing(d, stop_words = stop_words,\n",
    "                                         stemmer = None,\n",
    "                                         tokenizer = tk,\n",
    "                                         lemmatizer = lemma))"
   ]
  },
  {
   "cell_type": "markdown",
   "id": "9b64c48a-9cb6-4c7b-8725-e3372ca67e59",
   "metadata": {},
   "source": [
    "####  Reduce data size"
   ]
  },
  {
   "cell_type": "code",
   "execution_count": 6,
   "id": "e605f246-1e02-4a1b-8a1e-e997290ff07e",
   "metadata": {},
   "outputs": [],
   "source": [
    "for i in range(len(corpus)):\n",
    "    corpus[i] = corpus[i][:500]"
   ]
  },
  {
   "cell_type": "markdown",
   "id": "f0f28a8d-306e-4a85-9d66-95480d1e602d",
   "metadata": {},
   "source": [
    "#### Load model"
   ]
  },
  {
   "cell_type": "code",
   "execution_count": 7,
   "id": "3be3a506-a3b9-4733-b928-3391069e99ec",
   "metadata": {},
   "outputs": [],
   "source": [
    "# Bert instance EN (COVID)\n",
    "model_name = \"mrm8488/bert-mini-finetuned-age_news-classification\"\n",
    "tokenizer = AutoTokenizer.from_pretrained(model_name, add_prefix_space=True)\n",
    "model = AutoModel.from_pretrained(model_name, output_hidden_states=False)\n",
    "device = torch.device(\"cuda\")\n",
    "model.to(device)\n",
    "\n",
    "# Bert instance FR\n",
    "# tokenizer = AutoTokenizer.from_pretrained(\"dbmdz/bert-base-french-europeana-cased\")\n",
    "# model = AutoModel.from_pretrained(\"dbmdz/bert-base-french-europeana-cased\", output_hidden_states=True)\n",
    "\n",
    "# Bert instance ES (BETICO)\n",
    "# tokenizer = AutoTokenizer.from_pretrained(\"dccuchile/bert-base-spanish-wwm-uncased\")\n",
    "# model = AutoModel.from_pretrained(\"dccuchile/bert-base-spanish-wwm-uncased\", output_hidden_states=False)\n",
    "\n",
    "# tokenizer = AutoTokenizer.from_pretrained(\"textattack/bert-base-uncased-ag-news\", device=0)\n",
    "# model = AutoModel.from_pretrained(\"textattack/bert-base-uncased-ag-news\", output_hidden_states=False)\n",
    "\n",
    "clear_output()"
   ]
  },
  {
   "cell_type": "markdown",
   "id": "9e880793-313d-4412-a8cc-7294384425fc",
   "metadata": {},
   "source": [
    "#### Obtain first doc's embedding"
   ]
  },
  {
   "cell_type": "code",
   "execution_count": 8,
   "id": "801151b0-f929-40f1-a529-c38cd77f273d",
   "metadata": {},
   "outputs": [
    {
     "name": "stdout",
     "output_type": "stream",
     "text": [
      "(1, 256)\n"
     ]
    }
   ],
   "source": [
    "# Test Model for first sentence\n",
    "inputs = tokenizer(corpus[0], return_tensors=\"pt\", is_split_into_words=True)\n",
    "inputs.to(device)\n",
    "outputs = model(**inputs)\n",
    "\n",
    "# Just pooler output as embeddings\n",
    "embedding = outputs['pooler_output'].detach().cpu().numpy()\n",
    "print(embedding.shape)"
   ]
  },
  {
   "cell_type": "markdown",
   "id": "3b80e5f6-45da-455e-9996-1e9bd930439d",
   "metadata": {},
   "source": [
    "#### Tokenize each doch in corpus"
   ]
  },
  {
   "cell_type": "code",
   "execution_count": 9,
   "id": "546bb653-c5c5-4ebb-adbe-c5176659dc85",
   "metadata": {},
   "outputs": [
    {
     "name": "stderr",
     "output_type": "stream",
     "text": [
      "100%|██████████| 38718/38718 [03:56<00:00, 163.51it/s]"
     ]
    },
    {
     "name": "stdout",
     "output_type": "stream",
     "text": [
      "Failed to tokenize 4 documents\n"
     ]
    },
    {
     "name": "stderr",
     "output_type": "stream",
     "text": [
      "\n"
     ]
    }
   ],
   "source": [
    "# Array to save embeddings\n",
    "reu_embeddings = []\n",
    "\n",
    "failed_doc_ids = []\n",
    "\n",
    "for i, doc in enumerate(tqdm(corpus)):\n",
    "    try:\n",
    "        # Run Bert for each document\n",
    "        inputs = tokenizer(doc, return_tensors=\"pt\", is_split_into_words=True)\n",
    "        inputs.to(device)\n",
    "        outputs = model(**inputs)\n",
    "\n",
    "        # CLS Token Output\n",
    "        embedding = outputs['pooler_output'].detach().cpu().numpy()[0]\n",
    "\n",
    "        # Append representation\n",
    "        reu_embeddings.append(embedding)\n",
    "        \n",
    "    except:\n",
    "        failed_doc_ids.append(i)\n",
    "    \n",
    "print(f'Failed to tokenize {len(failed_doc_ids)} documents')"
   ]
  },
  {
   "cell_type": "markdown",
   "id": "8c8a95ea-66d9-4631-b3ad-71b7f34a7515",
   "metadata": {},
   "source": [
    "#### Remove failed documents and corresponding tags"
   ]
  },
  {
   "cell_type": "code",
   "execution_count": 10,
   "id": "7c24e91c-bdd9-4f77-9daa-c5ca069392fa",
   "metadata": {},
   "outputs": [],
   "source": [
    "# Remove failed docs\n",
    "for i, doc_id in enumerate(failed_doc_ids):\n",
    "    corpus.pop(doc_id - i)\n",
    "    tags.pop(doc_id - i)"
   ]
  },
  {
   "cell_type": "markdown",
   "id": "5474f7ee-6dcb-4154-88e3-cf5fbf756bde",
   "metadata": {},
   "source": [
    "#### Split data and train MLP classifier"
   ]
  },
  {
   "cell_type": "code",
   "execution_count": 15,
   "id": "d203b7b7-3451-40e4-9195-f0a92fd89623",
   "metadata": {},
   "outputs": [],
   "source": [
    "model_dict = {'NB': GaussianNB(), \n",
    "              'LR': LogisticRegression(random_state=0, max_iter = 1500), \n",
    "              'MLP': MLPClassifier(hidden_layer_sizes=(100), random_state=1, max_iter=1500),\n",
    "              'SVM': svm.SVC()}"
   ]
  },
  {
   "cell_type": "code",
   "execution_count": 13,
   "id": "4ba8bb7f-70f2-4e76-a762-61c0ef10f171",
   "metadata": {},
   "outputs": [],
   "source": [
    "def test_sklearn_models(model, metrics_df, X, y, vectorizer_type, val_percentage = 0.2):\n",
    "    \"\"\" Train and evaluate model with specified arguments\n",
    "    \n",
    "    Args:\n",
    "        model (str): Model to train\n",
    "        metrics_df (pd.DataFrame): Dataframe to save the results\n",
    "        X (np.ndarray): Features of data\n",
    "        y (list): Tags of X\n",
    "        vectorizer_type (str): Vectorizer used to extract features\n",
    "        val_percentage (float): Validation percentage\n",
    "    \n",
    "    Returns:\n",
    "        pd.DataFrame: Results of trained and evaluated model\n",
    "    \"\"\"\n",
    "    X_train, X_val, y_train, y_val = train_test_split(X, y, train_size = 1 - val_percentage)\n",
    "    clf = model_dict[model]\n",
    "    clf.fit(X_train, y_train)\n",
    "    y_pred = clf.predict(X_val)\n",
    "    acc = accuracy_score(y_val, y_pred)\n",
    "    pre = precision_score(y_val, y_pred)\n",
    "    rec = recall_score(y_val, y_pred)\n",
    "    f1 = f1_score(y_val, y_pred)\n",
    "    data = {'model': [model], 'features': [vectorizer_type], 'lang': [lang], 'accuracy': [acc], 'precision': [pre], 'recall': [rec], 'f1': [f1]}\n",
    "    df = metrics_df.append([pd.DataFrame(data = data)])\n",
    "    return df"
   ]
  },
  {
   "cell_type": "code",
   "execution_count": 16,
   "id": "826784a9-11de-45fc-962b-81ff909c57a3",
   "metadata": {},
   "outputs": [
    {
     "name": "stdout",
     "output_type": "stream",
     "text": [
      "Training NB with BERT feature extraction\n",
      "Training LR with BERT feature extraction\n",
      "Training MLP with BERT feature extraction\n",
      "Training SVM with BERT feature extraction\n"
     ]
    }
   ],
   "source": [
    "X = reu_embeddings\n",
    "y = tags\n",
    "MODEL_TPYE_ = ['NB', 'LR', 'MLP', 'SVM']\n",
    "# metrics = pd.DataFrame()\n",
    "metrics = pd.read_csv('./../../results/FakeNewsDetection/fake_news_detection_results.csv', index_col=0)\n",
    "for model_type in MODEL_TPYE_:\n",
    "    tokenizer='BERT'\n",
    "    metrics = test_sklearn_models(model_type, metrics, X, y, tokenizer)\n",
    "    print(f'Training {model_type} with {tokenizer} feature extraction')"
   ]
  },
  {
   "cell_type": "code",
   "execution_count": 17,
   "id": "4cb388fe-1f6b-4fe4-b3b7-b59290056311",
   "metadata": {},
   "outputs": [],
   "source": [
    "X_train, X_val, y_train, y_val = train_test_split(X, y, train_size = 1 - 0.8)\n",
    "with tf.device('/GPU:0'):\n",
    "    model = keras.Sequential([\n",
    "            layers.Dense(100, activation=\"relu\", input_shape=(len(X_train), 256)),\n",
    "            layers.Dropout(0.3),\n",
    "            layers.Dense(1, activation='sigmoid')\n",
    "            ])\n",
    "    model.compile(\n",
    "        optimizer=keras.optimizers.Adam(learning_rate=0.0005),\n",
    "        loss=\"binary_crossentropy\",\n",
    "        metrics=[\"accuracy\"]\n",
    "    )\n",
    "    history = model.fit(np.array(X_train), np.array(y_train), validation_data=(np.array(X_val), np.array(y_val)), epochs=1500, verbose=0)\n",
    "clear_output()"
   ]
  },
  {
   "cell_type": "code",
   "execution_count": 18,
   "id": "9bcd4a97-1fb2-4551-89f0-d13042b9b34d",
   "metadata": {},
   "outputs": [
    {
     "data": {
      "text/plain": [
       "[<matplotlib.lines.Line2D at 0x7fd904240d68>]"
      ]
     },
     "execution_count": 18,
     "metadata": {},
     "output_type": "execute_result"
    },
    {
     "data": {
      "image/png": "[encoded data removed]",
      "text/plain": [
       "<Figure size 432x288 with 1 Axes>"
      ]
     },
     "metadata": {
      "needs_background": "light"
     },
     "output_type": "display_data"
    }
   ],
   "source": [
    "plt.plot(history.history['val_accuracy'])\n",
    "plt.plot(history.history['accuracy'])"
   ]
  },
  {
   "cell_type": "code",
   "execution_count": 19,
   "id": "7fe910ea-e068-48f1-86f4-de1897ae598f",
   "metadata": {},
   "outputs": [
    {
     "data": {
      "text/plain": [
       "[<matplotlib.lines.Line2D at 0x7fd9042019b0>]"
      ]
     },
     "execution_count": 19,
     "metadata": {},
     "output_type": "execute_result"
    },
    {
     "data": {
      "image/png": "[encoded data removed]",
      "text/plain": [
       "<Figure size 432x288 with 1 Axes>"
      ]
     },
     "metadata": {
      "needs_background": "light"
     },
     "output_type": "display_data"
    }
   ],
   "source": [
    "plt.plot(history.history['val_loss'])\n",
    "plt.plot(history.history['loss'])"
   ]
  },
  {
   "cell_type": "code",
   "execution_count": 20,
   "id": "d978af3c-6758-449e-a15d-d13b7bb0dd58",
   "metadata": {},
   "outputs": [],
   "source": [
    "metrics.to_csv('./../../results/FakeNewsDetection/fake_news_detection_results.csv')"
   ]
  }
 ],
 "metadata": {
  "kernelspec": {
   "display_name": "Python 3",
   "language": "python",
   "name": "python3"
  },
  "language_info": {
   "codemirror_mode": {
    "name": "ipython",
    "version": 3
   },
   "file_extension": ".py",
   "mimetype": "text/x-python",
   "name": "python",
   "nbconvert_exporter": "python",
   "pygments_lexer": "ipython3",
   "version": "3.6.9"
  }
 },
 "nbformat": 4,
 "nbformat_minor": 5
}
