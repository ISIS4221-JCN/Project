{
 "cells": [
  {
   "cell_type": "code",
   "execution_count": 1,
   "id": "98a8de76-8a5d-42c9-af76-5850907bae58",
   "metadata": {},
   "outputs": [],
   "source": [
    "# Import libraries\n",
    "\n",
    "# Main\n",
    "import sys\n",
    "sys.path.insert(0,'../')\n",
    "import os\n",
    "import datetime\n",
    "import numpy as np\n",
    "# import tensorflow as tf\n",
    "from tqdm import tqdm\n",
    "\n",
    "# NLP\n",
    "from gensim.parsing.porter import PorterStemmer\n",
    "from gensim.parsing.preprocessing import remove_stopwords\n",
    "import nltk\n",
    "nltk.download('wordnet')\n",
    "from nltk.tokenize import TweetTokenizer\n",
    "from nltk.stem import SnowballStemmer\n",
    "from nltk.stem.porter import PorterStemmer\n",
    "from nltk import word_tokenize\n",
    "from nltk.corpus import stopwords\n",
    "from sklearn.neural_network import MLPClassifier\n",
    "\n",
    "# Transformers\n",
    "from transformers import AutoTokenizer, AutoModel\n",
    "\n",
    "# Sklearn\n",
    "from sklearn.neural_network import MLPClassifier\n",
    "from sklearn.model_selection import train_test_split\n",
    "\n",
    "# Display\n",
    "from IPython.display import clear_output\n",
    "clear_output()"
   ]
  },
  {
   "cell_type": "code",
   "execution_count": 2,
   "id": "e0ad31e9-f933-44e8-8327-57f2235a5e7c",
   "metadata": {},
   "outputs": [],
   "source": [
    "from utils import Utils\n",
    "utils = Utils('/media/juan/Juan/NLP/', num_workers=10)"
   ]
  },
  {
   "cell_type": "code",
   "execution_count": 3,
   "id": "b33e6234-83be-49ad-9eb4-1221e2423950",
   "metadata": {},
   "outputs": [
    {
     "name": "stdout",
     "output_type": "stream",
     "text": [
      "Starting...\n",
      "Starting 10 threads to load 500 documents from news in es\n",
      "Loaded 500 files in 14.98 seconds.\n",
      "Removed 0 files becasuse they were too large\n",
      "Starting 10 threads to load 500 documents from FakeNews in es\n",
      "Loaded 500 files in 8.33 seconds.\n",
      "Removed 0 files becasuse they were too large\n",
      "Loaded 500 Tweets 500 Reddit docs\n"
     ]
    }
   ],
   "source": [
    "# Define language\n",
    "lang = 'es'\n",
    "\n",
    "print('Starting...')\n",
    "\n",
    "news_data, _ = utils.data_loader(lang, 'news', total_data=500, max_size = None, return_dates = False)\n",
    "fake_news_data, _ = utils.data_loader(lang, 'FakeNews', total_data=500, max_size = None, return_dates = False)\n",
    "\n",
    "print(f'Loaded {len(news_data)} Tweets {len(fake_news_data)} Reddit docs')"
   ]
  },
  {
   "cell_type": "code",
   "execution_count": 4,
   "id": "8bca6182-58d1-4770-a090-d8104de70fb4",
   "metadata": {},
   "outputs": [
    {
     "name": "stdout",
     "output_type": "stream",
     "text": [
      "Numerosas Asociaciones del Sector Turístico europeo, abarcando agencias de viajes, aerolíneas o cruceros, entre otros, han aplaudido las nuevas propuesta de Reglamento de la Unión Europea (UE) sobre el Certificado Verde Digital, que pone en marcha las negociaciones a tres bandas entre el Parlamento, el Consejo y la Comisión Europea. Coinciden en que \"es fundamental que las instituciones actúen con celeridad y se pongan de acuerdo para que los certificados sean operativos en junio y se garantice la reciprocidad con los sistemas de fuera de la UE\".Instan a negociar y llegar a un acuerdo sobre el pasaporte rápidamente antes de mediados de mayoEn este sentido, los miembros del Sector, entre los que se encuentran la Agrupación Europea de Asociaciones de Agencias de Viajes y Turoperadores (ECTAA), se posicionan del lado del Parlamento europeo, quien propone que las pruebas sean gratuitas para todos los públicos, así como dejar a un lado medidas adicionales, como la cuarentena o la realización de más pruebas para aquellos turistas que cuenten con su pasaporte. \"Con pruebas que oscilan entre los 10 y los 150 euros, es evidente que unos costes tan elevados podrían convertirse en un elemento disuasorio para viajar, en particular entre las familias\", señalan. Igualmente, plantean que el nombre de esta solución sea Certificado ‘Covid-19 de la UE’, para que sea más claro para los ciudadanos y limitar el uso de otros certificados. Por otra parte, las Asociaciones sectoriales opinan que \"las enmiendas propuestas envían un fuerte mensaje político del Parlamento sobre la urgencia de restablecer la libre circulación en la UE\". Alegan que \"no se trata de un privilegio, sino de un derecho como uno de los pilares del mercado único consagrado en los tratados europeos\".Así, explican que \"el restablecimiento seguro y rápido de la libre circulación es posible y de vital importancia, no sólo para los turistas, sino también para los trabajadores y ciudadanos transfronterizos, que podrán visitar a sus familias con mayor facilidad una vez que los certificados sean operativos\". Además, celebran que \"las campañas de vacunación en Europa siguen cobrando impulso, con un 26,5% de ciudadanos de la UE que han recibido al menos una dosis, frente al 16% de hace cuatro semanas.Finalmente, hacen referencia a una reciente encuesta de la IATA, que refleja que el 72% de las personas quieren viajar para ver a sus familiares y amigos lo antes posible. Por ello, instan a negociar y llegar a un acuerdo rápidamente antes de mediados de mayo, de modo que las pruebas piloto y la plena aplicación puedan tener lugar en junio. \"El tiempo es esencial para ofrecer a los ciudadanos de la UE un respiro muy necesario después de un año de bloqueos y restricciones a los viajes que han tenido un impacto negativo en la salud mental y el bienestar de los consumidores\", destacan.\n",
      "NEXOTUR | Plataforma de Información TurísticaNEXOTUR.com es un Diario online del Grupo NEXO\n",
      "© Copyright Grupo NEXO | ® Todos los Derechos ReservadosProveedor Tecnológico   Cibeles.net     EditMaker \n",
      "EsSalud: crecen consultas por reincidencia a adicción al alcohol y drogas - Agencia Andina. \n",
      "En noviembre de 2017 se lanzó el álbum \"Contacto con el Señor. \n",
      "En 2016, el grupo ganó las categorías de banda chilena en la categoría de grupo femenino, además de realizar su primera gira europea en el grupo EZK y formar parte de la banda Chile SOSIA. En octubre del mismo año apareció nuevamente como banda en uno de los conciertos de la banda de rock y el género \"rock progresivo\" \"Puro Rock Intours\". \n",
      "El 27 de septiembre de 2017, participaron de la versión chilena de \"El Señor\" como los teloneros a la banda de la banda chilena de \"rock progresivo\" Puro Rock Intours. A fines de 2018, la banda tuvo su segunda reunión en vivo de la banda a finales de esa década. En ese mismo año la banda actuó en el concierto de los Rolling Stones en San Sebastián, España, donde participaron de un concierto junto a los Rolling Stones en vivo. \n",
      "\n",
      "Los integrantes de la banda fueron: Ricardo Darín, Pedro Fernández, Alejandro Sallit, Gabriel González, Luis Felipe y Marcelo Martínez, por la dirección artística de Juan Carlos Thorrard.\n",
      "\n",
      "Tras el lanzamiento del álbum de la banda \"Contacto con el Señor\" el 16 de abril del 2017 realizaron una nueva gira en el Teatro General Santa Mónica de Santiago, Chile. La primera es en el Auditorio del Teatro Sacafes\n",
      "-----------------------\n",
      "SITA anunció que cerró un contrato de cinco años con el aeropuerto de Sydney para la prestación de servicios de uso común tanto en la Terminal 1 (internacional) como en la Terminal 2 (nacional). Se trata de la aplicación, desde el pasado 1° de marzo, de SITA Flex, una avanzada plataforma de uso común. A esto se suma el despliegue de SITA Bag Message, para gerenciar el sistema de equipaje. “Entendemos el duro impacto de COVID-19 en los aeropuertos a nivel mundial y hemos adaptado nuestras soluciones para ofrecer operaciones aeroportuarias que sean resistentes, ágiles y altamente rentables. El objetivo de SITA es proporcionar las mejores soluciones tecnológicas de su clase y ayudar al aeropuerto de Sydney a remodelar su propuesta de valor para todas sus partes interesadas. Un elemento clave es garantizar el máximo uso de los activos y la infraestructura tecnológica existentes”, comentó Sumesh Patel, presidente de SITA para APAC (Asia-Pacífico). A su turno, John Raso, jefe de Tecnología e Infraestructura Aeronáutica en el Aeropuerto de Sydney, dijo: “SITA pudo comprender y adaptar rápidamente su oferta al nuevo mundo de los viajes de pasajeros y el impacto comercial relacionado en los aeropuertos. Sus soluciones se alinean con nuestra visión, ayudan a minimizar nuestra exposición al riesgo y mejoran la experiencia del pasajero. Estamos entusiasmados de invertir en la preparación del aeropuerto de Sídney para el futuro con un socio estratégico y líder del mercado en la región”.Save my name, email, and website in this browser for the next time I comment. \n",
      "\n",
      "\n",
      "Aeroméxico y Volaris bajan precios de sus boletos en 2021 - Mi Bolsillo. \n",
      "El 22 de noviembre de 2013, después de muchos años, y debido principalmente a la pandemia de COVID-19 que provocó una reacción masiva en Buenos Aires, más de 3000 personas dejaron de ir el último fin de semana. Una de las primeras evacuaciones fue del servicio de emergencia, que se encontraba en el edificio número 46 (llamada \"El Gran Sala\") de la ciudad de Buenos Aires, y que fue cerrada tras un acuerdo con el Servicio de Vigilancia de la Ciudad de Buenos Aires dirigido por el gobernador de Buenos Aires, Mauricio Macri. Las autoridades sanitarias informaron haber evacuado a 40 personas. \n",
      "\n",
      "Poco antes de su reapertura se encontraron que un grupo de manifestantes con el nombre de Diego García, un hincha de La Pepilla que había luchado por el COVID-19 en la década anterior. El 20 de noviembre de 2013, tras más de tres días de negociaciones con las autoridades sanitarias al final de una semana de reuniones en la sede de las Naciones Unidas en Ginebra, se realizó una protesta contra el uso de medidas políticas de seguridad como la Ley de Seguridad de las Naciones Unidas para contener la propagación del COVID-19, así como otro movimiento que exigía el cumplimiento de algunas promesas que llevó a las reuniones del gobierno porteño. El 25 de noviembre de 2013, más de 1.2 millones de personas manifestaron en el Estadio Ciudad de La Plata en contra del cambio de nombre y el cambio de los lugares de recepción del público que llevaba la bandera del\n",
      "-----------------------\n"
     ]
    }
   ],
   "source": [
    "for i in range(2):\n",
    "    print(news_data[i])\n",
    "    print(fake_news_data[i])\n",
    "    print('-----------------------')"
   ]
  },
  {
   "cell_type": "code",
   "execution_count": 5,
   "id": "016a639f-cf70-43f7-a052-7d1c6899a3ad",
   "metadata": {},
   "outputs": [],
   "source": [
    "data = news_data + fake_news_data\n",
    "tags = [1]*len(news_data) + [0]*len(fake_news_data)"
   ]
  },
  {
   "cell_type": "code",
   "execution_count": 6,
   "id": "3750d925-0429-4f91-a818-9717db193434",
   "metadata": {},
   "outputs": [],
   "source": [
    "# Stop Words\n",
    "stop_words = stopwords.words('english')\n",
    "\n",
    "# Stemmers\n",
    "stem = SnowballStemmer('english')\n",
    "#p_stem = PorterStemmer()\n",
    "\n",
    "# Tokenizers\n",
    "#tk = nltk.tokenize.TweetTokenizer(preserve_case=False, reduce_len=True, strip_handles=True)\n",
    "tk = nltk.RegexpTokenizer(r'\\w+')\n",
    "\n",
    "# Lemmatizer\n",
    "lemma = nltk.stem.WordNetLemmatizer()\n",
    "\n",
    "# Preprocess data\n",
    "corpus = []\n",
    "for d in data:\n",
    "    corpus.append(utils.preprocessing(d, stop_words = stop_words,\n",
    "                                         stemmer = None,\n",
    "                                         tokenizer = tk,\n",
    "                                         lemmatizer = lemma))"
   ]
  },
  {
   "cell_type": "code",
   "execution_count": 7,
   "id": "e605f246-1e02-4a1b-8a1e-e997290ff07e",
   "metadata": {},
   "outputs": [],
   "source": [
    "for i in range(len(corpus)):\n",
    "    corpus[i] = corpus[i][:200]"
   ]
  },
  {
   "cell_type": "code",
   "execution_count": 9,
   "id": "3be3a506-a3b9-4733-b928-3391069e99ec",
   "metadata": {},
   "outputs": [
    {
     "name": "stderr",
     "output_type": "stream",
     "text": [
      "Some weights of the model checkpoint at textattack/bert-base-uncased-ag-news were not used when initializing BertModel: ['classifier.weight', 'classifier.bias']\n",
      "- This IS expected if you are initializing BertModel from the checkpoint of a model trained on another task or with another architecture (e.g. initializing a BertForSequenceClassification model from a BertForPreTraining model).\n",
      "- This IS NOT expected if you are initializing BertModel from the checkpoint of a model that you expect to be exactly identical (initializing a BertForSequenceClassification model from a BertForSequenceClassification model).\n"
     ]
    }
   ],
   "source": [
    "tokenizer = AutoTokenizer.from_pretrained(\"textattack/bert-base-uncased-ag-news\", device=0)\n",
    "model = AutoModel.from_pretrained(\"textattack/bert-base-uncased-ag-news\", output_hidden_states=False)"
   ]
  },
  {
   "cell_type": "code",
   "execution_count": 10,
   "id": "801151b0-f929-40f1-a529-c38cd77f273d",
   "metadata": {},
   "outputs": [],
   "source": [
    "# Test Model for first sentence\n",
    "inputs = tokenizer(corpus[0][:259], return_tensors=\"pt\", is_split_into_words=True)\n",
    "outputs = model(**inputs)\n",
    "\n",
    "# Just pooler output as embeddings\n",
    "embedding = outputs['pooler_output'].detach().numpy()[0]"
   ]
  },
  {
   "cell_type": "code",
   "execution_count": 11,
   "id": "546bb653-c5c5-4ebb-adbe-c5176659dc85",
   "metadata": {},
   "outputs": [
    {
     "name": "stderr",
     "output_type": "stream",
     "text": [
      "100%|██████████| 1000/1000 [05:01<00:00,  3.31it/s]"
     ]
    },
    {
     "name": "stdout",
     "output_type": "stream",
     "text": [
      "Failed to tokenize 0 documents\n"
     ]
    },
    {
     "name": "stderr",
     "output_type": "stream",
     "text": [
      "\n"
     ]
    }
   ],
   "source": [
    "# Array to save embeddings\n",
    "reu_embeddings = []\n",
    "\n",
    "failed_doc_ids = []\n",
    "\n",
    "for i, doc in enumerate(tqdm(corpus)):\n",
    "    try:\n",
    "        # Run Bert for each document\n",
    "        inputs = tokenizer(doc, return_tensors=\"pt\", is_split_into_words=True)\n",
    "        outputs = model(**inputs)\n",
    "\n",
    "        # CLS Token Output\n",
    "        embedding = outputs['pooler_output'].detach().numpy()[0]\n",
    "        \n",
    "        # Append representation\n",
    "        reu_embeddings.append(embedding)\n",
    "        \n",
    "    except:\n",
    "        failed_doc_ids.append(i)\n",
    "    \n",
    "print(f'Failed to tokenize {len(failed_doc_ids)} documents')"
   ]
  },
  {
   "cell_type": "code",
   "execution_count": 12,
   "id": "7c24e91c-bdd9-4f77-9daa-c5ca069392fa",
   "metadata": {},
   "outputs": [],
   "source": [
    "# Remove failed docs\n",
    "for i, doc_id in enumerate(failed_doc_ids):\n",
    "    corpus.pop(doc_id - i)\n",
    "    tags.pop(doc_id - i)"
   ]
  },
  {
   "cell_type": "code",
   "execution_count": 13,
   "id": "84a8f8e9-56a3-4fa4-ad66-81cd5817e247",
   "metadata": {},
   "outputs": [
    {
     "data": {
      "text/plain": [
       "0.55"
      ]
     },
     "execution_count": 13,
     "metadata": {},
     "output_type": "execute_result"
    }
   ],
   "source": [
    "X = reu_embeddings\n",
    "y = tags\n",
    "X_train, X_val, y_train, y_val = train_test_split(X, y, train_size=0.8)\n",
    "clf = MLPClassifier(random_state=1, max_iter=700).fit(X_train, y_train)\n",
    "clf.score(X_val, y_val)"
   ]
  }
 ],
 "metadata": {
  "kernelspec": {
   "display_name": "Python 3",
   "language": "python",
   "name": "python3"
  },
  "language_info": {
   "codemirror_mode": {
    "name": "ipython",
    "version": 3
   },
   "file_extension": ".py",
   "mimetype": "text/x-python",
   "name": "python",
   "nbconvert_exporter": "python",
   "pygments_lexer": "ipython3",
   "version": "3.6.9"
  }
 },
 "nbformat": 4,
 "nbformat_minor": 5
}
