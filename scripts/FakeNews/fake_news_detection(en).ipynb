{
 "cells": [
  {
   "cell_type": "markdown",
   "id": "878205c1-5f9e-4e5a-b360-f9d19668576c",
   "metadata": {},
   "source": [
    "# Fake News Detection - English"
   ]
  },
  {
   "cell_type": "code",
   "execution_count": 1,
   "id": "aed2e4b9-e329-4a59-a033-0a10cc95bb44",
   "metadata": {},
   "outputs": [],
   "source": [
    "# Import libraries\n",
    "\n",
    "# Main\n",
    "import sys\n",
    "sys.path.insert(0,'../')\n",
    "import os\n",
    "import datetime\n",
    "import pandas as pd\n",
    "import numpy as np\n",
    "import tensorflow as tf\n",
    "from tqdm import tqdm\n",
    "\n",
    "# NLP\n",
    "from gensim.parsing.porter import PorterStemmer\n",
    "from gensim.parsing.preprocessing import remove_stopwords\n",
    "import nltk\n",
    "nltk.download('wordnet')\n",
    "from nltk.tokenize import TweetTokenizer\n",
    "from nltk.stem import SnowballStemmer\n",
    "from nltk.stem.porter import PorterStemmer\n",
    "from nltk import word_tokenize\n",
    "from nltk.corpus import stopwords\n",
    "\n",
    "# Transformers\n",
    "from transformers import AutoTokenizer, AutoModel, TFAutoModel\n",
    "\n",
    "# Sklearn\n",
    "from sklearn.neural_network import MLPClassifier\n",
    "from sklearn.model_selection import train_test_split\n",
    "from sklearn.linear_model import LogisticRegression\n",
    "from sklearn.naive_bayes import GaussianNB\n",
    "from sklearn import svm\n",
    "from sklearn.metrics import accuracy_score\n",
    "from sklearn.metrics import precision_score\n",
    "from sklearn.metrics import f1_score\n",
    "from sklearn.metrics import recall_score\n",
    "from sklearn.feature_extraction.text import CountVectorizer\n",
    "from sklearn.feature_extraction.text import TfidfVectorizer\n",
    "\n",
    "# Display\n",
    "from IPython.display import clear_output\n",
    "clear_output()"
   ]
  },
  {
   "cell_type": "markdown",
   "id": "49172c9e-a4a6-412f-a170-f61f58b5b99c",
   "metadata": {},
   "source": [
    "### Loading data"
   ]
  },
  {
   "cell_type": "code",
   "execution_count": 2,
   "id": "e0ad31e9-f933-44e8-8327-57f2235a5e7c",
   "metadata": {},
   "outputs": [],
   "source": [
    "from utils import Utils\n",
    "utils = Utils('/media/juan/Juan/NLP/', num_workers=10)"
   ]
  },
  {
   "cell_type": "code",
   "execution_count": 3,
   "id": "b33e6234-83be-49ad-9eb4-1221e2423950",
   "metadata": {},
   "outputs": [
    {
     "name": "stdout",
     "output_type": "stream",
     "text": [
      "Starting...\n",
      "Starting 10 threads to load 7500 documents from news in en\n",
      "Loaded 7500 files in 151.15 seconds.\n",
      "Removed 0 files becasuse they were too large\n",
      "Starting 10 threads to load 7500 documents from FakeNews in en\n",
      "Loaded 7500 files in 0.74 seconds.\n",
      "Removed 0 files becasuse they were too large\n",
      "Loaded 7500 news 7500 fake news\n"
     ]
    }
   ],
   "source": [
    "# Define language\n",
    "lang = 'en'\n",
    "\n",
    "print('Starting...')\n",
    "\n",
    "news_data, _ = utils.data_loader(lang, 'news', total_data=7500, max_size = None, return_dates = False)\n",
    "fake_news_data, _ = utils.data_loader(lang, 'FakeNews', total_data=7500, max_size = None, return_dates = False)\n",
    "\n",
    "print(f'Loaded {len(news_data)} news {len(fake_news_data)} fake news')\n",
    "\n",
    "data = news_data + fake_news_data\n",
    "tags = [1]*len(news_data) + [0]*len(fake_news_data)"
   ]
  },
  {
   "cell_type": "markdown",
   "id": "0ebd198a-3691-402e-ba0a-9a7f6ca03523",
   "metadata": {},
   "source": [
    "### Glimpse at data"
   ]
  },
  {
   "cell_type": "code",
   "execution_count": 9,
   "id": "8bca6182-58d1-4770-a090-d8104de70fb4",
   "metadata": {},
   "outputs": [
    {
     "name": "stdout",
     "output_type": "stream",
     "text": [
      "There was a huge emergency response to the incident, including police, air ambulance and paramedicsAn eight-year-old girl was rushed to hospital after a collision with a car on a busy Rhondda street near a school.A large emergency services presence flooded Maindy Road in Ton Pentre, near Ton Pentre Junior School, after the collision between a car and and a young girl at 3.20pm on Monday.Wales Air Ambulance, Welsh Ambulance Service and South Wales Police were all in attendance, and the casualty received treatment from helimeds, before being taken to Prince Charles Hospital by land ambulance for further treatment.The incident caused a significant tailback in traffic, with rows of cars left at a standstill.A spokesman for South Wales Police said: \"Maindy Road in Ton Pentre was closed for approximately one hour following a collision between a car and an eight year-old girl at approximately 3.22pm today (Monday, 10 May, 2021).\"The young girl sustained minor injuries and was taken to Prince Charles Hospital as a precaution.\"A spokesman for Welsh Ambulance Service said: \"We were called today, Monday, May 10 at approximately 3.20pm to reports of a road traffic collision involving a pedestrian on Maindy Road, Ton Pentre. We sent one rapid response vehicle, one emergency ambulance, the Wales Air Ambulance and our Hazardous Area Rescue Team. One patient was conveyed by road to Prince Charles Hospital for further treatment.\"A spokeswoman for Wales Air Ambulance added: “I can confirm that the Wales Air Ambulance Charity attended an incident in the Ton Pentre area this afternoon. Our helicopter crew arrived on scene at 3.38pm and, following triage and treatment from our medics, a patient was taken to hospital in a road ambulance. Our involvement concluded at 4.26pm.”Posting about the incident on his Facebook page, MP for Rhondda, Chris Bryant asked people to avoid the area.He wrote: \"There has been an accident near Ton Pentre Junior School, please try to avoid the area. I've been contacted by residents in the Upper Rhondda Fawr regarding traffic through Ton and Pentre. I'm aware there are temporary traffic lights which may be causing some delays, I'll be contacting the council and South Wales Police to confirm this is the case and to confirm how long the lights will be in place.\"\n",
      "----------------------------------------------------------------------------------------------------------------------------------------------\n",
      "Fla. Senator introduces crime victim job protections bill - WTXL ABC 27.  (6/18/11) - The Senate's Crime Victims Protection Bill, the \"A Better Chance for Young Adults by Protecting Youth from Police Violence Against Them,\" would require agencies to give the right to prosecute lawbreakers on behalf of juveniles. The bill would also be based on a bipartisan program called the Juvenile Justice and Criminal Justice Act that would ensure the safety and confidentiality of these juveniles under the juvenile justice system.  While the bill was first introduced on Capitol Hill, Sen. Jeff Merkley (D-Ore.)  proposed the legislation a week later on the Senate floor, before the Senate Intelligence Committee.  \"While some would interpret the bill to suggest that law-breakers who do not attend the justice system are not charged with crimes but are merely victims, the  bill would have the same goal for the same purpose - prevent the victim's family from being left behind ,\" Merkley told ABC News.  \"This is wrong -- this just sets the stage,\" he added.  \"In the absence of these recommendations, some will say we are not being generous enough and simply don't want young victims, including younger people who have committed offenses, out there.\"  Senator Merkley also proposed that children younger than 13 who are victims of robbery may be subject to enhanced protection from police.  He suggested the bill includes two provisions that could require juvenile arrest records for those convicted \"of first or second degree murder, including the crime of first\n"
     ]
    }
   ],
   "source": [
    "news_num = 2\n",
    "print(news_data[news_num])\n",
    "print('----------------------------------------------------------------------------------------------------------------------------------------------')\n",
    "print(fake_news_data[news_num])"
   ]
  },
  {
   "cell_type": "markdown",
   "id": "292bd13c-ac7e-44fc-a07c-04583eb2d48d",
   "metadata": {},
   "source": [
    "### Basic classifiers with traditional feature extraction techniques"
   ]
  },
  {
   "cell_type": "code",
   "execution_count": 10,
   "id": "1a3433ea-03a5-432f-a954-7fab6cc3722a",
   "metadata": {},
   "outputs": [],
   "source": [
    "model_dict = {'NB': GaussianNB(), \n",
    "              'LR': LogisticRegression(random_state=0, max_iter = 700), \n",
    "              'MLP': MLPClassifier(hidden_layer_sizes=(500,250,100,20), random_state=1, max_iter=700),\n",
    "              'SVM': svm.SVC()}\n",
    "vectorizer_dict = {'tfidf': TfidfVectorizer(stop_words={'english'}, min_df = 30),\n",
    "                   'count': CountVectorizer(stop_words={'english'}, min_df = 30)}"
   ]
  },
  {
   "cell_type": "code",
   "execution_count": 11,
   "id": "18875848-c016-4002-bc03-03a773fa04d5",
   "metadata": {},
   "outputs": [],
   "source": [
    "def create_features(vectorizer_type, data, tags):\n",
    "    \"\"\" Return data and corresponding tags with data being features extracted with specified tokenizer\n",
    "    \n",
    "    Args:\n",
    "        vectorizer_type (str): Vectorizer to use\n",
    "        data (list): unprocessed corpus of data to extract features from\n",
    "        tags (list): list of tags with same order as list\n",
    "    \n",
    "    Returns:\n",
    "        np.ndarray: array with features of data\n",
    "        list: tags with same order as data\n",
    "    \"\"\"\n",
    "    vectorizer = vectorizer_dict[vectorizer_type]\n",
    "    X = vectorizer.fit_transform(data).toarray()\n",
    "    y = tags\n",
    "    return X, y\n",
    "\n",
    "def test_sklearn_models(model, metrics_df, X, y, vectorizer_type, val_percentage = 0.2):\n",
    "    \"\"\" Train and evaluate model with specified arguments\n",
    "    \n",
    "    Args:\n",
    "        model (str): Model to train\n",
    "        metrics_df (pd.DataFrame): Dataframe to save the results\n",
    "        X (np.ndarray): Features of data\n",
    "        y (list): Tags of X\n",
    "        vectorizer_type (str): Vectorizer used to extract features\n",
    "        val_percentage (float): Validation percentage\n",
    "    \n",
    "    Returns:\n",
    "        pd.DataFrame: Results of trained and evaluated model\n",
    "    \"\"\"\n",
    "    X_train, X_val, y_train, y_val = train_test_split(X, y, train_size=1-val_percentage)\n",
    "    clf = model_dict[model]\n",
    "    clf.fit(X_train, y_train)\n",
    "    y_pred = clf.predict(X_val)\n",
    "    acc = accuracy_score(y_val, y_pred)\n",
    "    pre = precision_score(y_val, y_pred)\n",
    "    rec = recall_score(y_val, y_pred)\n",
    "    f1 = f1_score(y_val, y_pred)\n",
    "    data = {'model': [model], 'features': [vectorizer_type], 'lang': [lang], 'accuracy': [acc], 'precision': [pre], 'recall': [rec], 'f1': [f1]}\n",
    "    df = metrics_df.append([pd.DataFrame(data=data)])\n",
    "    return df"
   ]
  },
  {
   "cell_type": "code",
   "execution_count": 12,
   "id": "60c9fcfc-c8aa-4c3d-92cd-9146bdf9bb1a",
   "metadata": {},
   "outputs": [
    {
     "name": "stdout",
     "output_type": "stream",
     "text": [
      "Training NB with tfidf feature extraction\n",
      "Training LR with tfidf feature extraction\n",
      "Training MLP with tfidf feature extraction\n",
      "Training SVM with tfidf feature extraction\n",
      "Training NB with count feature extraction\n",
      "Training LR with count feature extraction\n",
      "Training MLP with count feature extraction\n",
      "Training SVM with count feature extraction\n"
     ]
    }
   ],
   "source": [
    "VECTORIZER_TYPE_ = ['tfidf', 'count']\n",
    "MODEL_TPYE_ = ['NB', 'LR', 'MLP', 'SVM']\n",
    "metrics = pd.DataFrame()\n",
    "# metrics = pd.read_csv('./../../results/FakeNewsDetection/fake_news_detection_results.csv')\n",
    "counter = 0\n",
    "for vectorizer_type in VECTORIZER_TYPE_:\n",
    "    X, y = create_features(vectorizer_type, data, tags)\n",
    "    for model_type in MODEL_TPYE_:\n",
    "        metrics = test_sklearn_models(model_type, metrics, X, y, vectorizer_type)\n",
    "        print(f'Training {model_type} with {vectorizer_type} feature extraction')"
   ]
  },
  {
   "cell_type": "code",
   "execution_count": 13,
   "id": "3ad8d60e-68d3-4f8c-9f03-0f571bb78c37",
   "metadata": {},
   "outputs": [
    {
     "data": {
      "text/html": [
       "<div>\n",
       "<style scoped>\n",
       "    .dataframe tbody tr th:only-of-type {\n",
       "        vertical-align: middle;\n",
       "    }\n",
       "\n",
       "    .dataframe tbody tr th {\n",
       "        vertical-align: top;\n",
       "    }\n",
       "\n",
       "    .dataframe thead th {\n",
       "        text-align: right;\n",
       "    }\n",
       "</style>\n",
       "<table border=\"1\" class=\"dataframe\">\n",
       "  <thead>\n",
       "    <tr style=\"text-align: right;\">\n",
       "      <th></th>\n",
       "      <th>model</th>\n",
       "      <th>features</th>\n",
       "      <th>lang</th>\n",
       "      <th>accuracy</th>\n",
       "      <th>precision</th>\n",
       "      <th>recall</th>\n",
       "      <th>f1</th>\n",
       "    </tr>\n",
       "  </thead>\n",
       "  <tbody>\n",
       "    <tr>\n",
       "      <th>0</th>\n",
       "      <td>NB</td>\n",
       "      <td>tfidf</td>\n",
       "      <td>en</td>\n",
       "      <td>0.857333</td>\n",
       "      <td>0.858966</td>\n",
       "      <td>0.854375</td>\n",
       "      <td>0.856664</td>\n",
       "    </tr>\n",
       "    <tr>\n",
       "      <th>0</th>\n",
       "      <td>LR</td>\n",
       "      <td>tfidf</td>\n",
       "      <td>en</td>\n",
       "      <td>0.949333</td>\n",
       "      <td>0.968707</td>\n",
       "      <td>0.928667</td>\n",
       "      <td>0.948264</td>\n",
       "    </tr>\n",
       "    <tr>\n",
       "      <th>0</th>\n",
       "      <td>MLP</td>\n",
       "      <td>tfidf</td>\n",
       "      <td>en</td>\n",
       "      <td>0.954000</td>\n",
       "      <td>0.936487</td>\n",
       "      <td>0.973064</td>\n",
       "      <td>0.954425</td>\n",
       "    </tr>\n",
       "    <tr>\n",
       "      <th>0</th>\n",
       "      <td>SVM</td>\n",
       "      <td>tfidf</td>\n",
       "      <td>en</td>\n",
       "      <td>0.970000</td>\n",
       "      <td>0.989316</td>\n",
       "      <td>0.948770</td>\n",
       "      <td>0.968619</td>\n",
       "    </tr>\n",
       "    <tr>\n",
       "      <th>0</th>\n",
       "      <td>NB</td>\n",
       "      <td>count</td>\n",
       "      <td>en</td>\n",
       "      <td>0.886333</td>\n",
       "      <td>0.867997</td>\n",
       "      <td>0.908356</td>\n",
       "      <td>0.887718</td>\n",
       "    </tr>\n",
       "    <tr>\n",
       "      <th>0</th>\n",
       "      <td>LR</td>\n",
       "      <td>count</td>\n",
       "      <td>en</td>\n",
       "      <td>0.951333</td>\n",
       "      <td>0.964191</td>\n",
       "      <td>0.940492</td>\n",
       "      <td>0.952194</td>\n",
       "    </tr>\n",
       "    <tr>\n",
       "      <th>0</th>\n",
       "      <td>MLP</td>\n",
       "      <td>count</td>\n",
       "      <td>en</td>\n",
       "      <td>0.963333</td>\n",
       "      <td>0.968037</td>\n",
       "      <td>0.960518</td>\n",
       "      <td>0.964263</td>\n",
       "    </tr>\n",
       "    <tr>\n",
       "      <th>0</th>\n",
       "      <td>SVM</td>\n",
       "      <td>count</td>\n",
       "      <td>en</td>\n",
       "      <td>0.921333</td>\n",
       "      <td>0.996100</td>\n",
       "      <td>0.846817</td>\n",
       "      <td>0.915412</td>\n",
       "    </tr>\n",
       "  </tbody>\n",
       "</table>\n",
       "</div>"
      ],
      "text/plain": [
       "  model features lang  accuracy  precision    recall        f1\n",
       "0    NB    tfidf   en  0.857333   0.858966  0.854375  0.856664\n",
       "0    LR    tfidf   en  0.949333   0.968707  0.928667  0.948264\n",
       "0   MLP    tfidf   en  0.954000   0.936487  0.973064  0.954425\n",
       "0   SVM    tfidf   en  0.970000   0.989316  0.948770  0.968619\n",
       "0    NB    count   en  0.886333   0.867997  0.908356  0.887718\n",
       "0    LR    count   en  0.951333   0.964191  0.940492  0.952194\n",
       "0   MLP    count   en  0.963333   0.968037  0.960518  0.964263\n",
       "0   SVM    count   en  0.921333   0.996100  0.846817  0.915412"
      ]
     },
     "execution_count": 13,
     "metadata": {},
     "output_type": "execute_result"
    }
   ],
   "source": [
    "metrics"
   ]
  },
  {
   "cell_type": "code",
   "execution_count": 14,
   "id": "4e1a0719-aea3-493f-8851-293314f42d00",
   "metadata": {},
   "outputs": [],
   "source": [
    "metrics.to_csv('./../../results/FakeNewsDetection/fake_news_detection_results.csv')"
   ]
  },
  {
   "cell_type": "code",
   "execution_count": 15,
   "id": "173f5038-89f0-4294-b70d-866bd93104a4",
   "metadata": {},
   "outputs": [
    {
     "data": {
      "text/plain": [
       "<AxesSubplot:xlabel='model'>"
      ]
     },
     "execution_count": 15,
     "metadata": {},
     "output_type": "execute_result"
    },
    {
     "data": {
      "image/png": "[encoded data removed]",
      "text/plain": [
       "<Figure size 864x576 with 1 Axes>"
      ]
     },
     "metadata": {
      "needs_background": "light"
     },
     "output_type": "display_data"
    }
   ],
   "source": [
    "metrics.groupby('model').mean().plot.bar(figsize=(12,8))"
   ]
  },
  {
   "cell_type": "code",
   "execution_count": 16,
   "id": "2c4957b7-18f9-48de-bd7c-fad371af502f",
   "metadata": {},
   "outputs": [
    {
     "data": {
      "text/plain": [
       "<AxesSubplot:xlabel='features'>"
      ]
     },
     "execution_count": 16,
     "metadata": {},
     "output_type": "execute_result"
    },
    {
     "data": {
      "image/png": "[encoded data removed]",
      "text/plain": [
       "<Figure size 864x576 with 1 Axes>"
      ]
     },
     "metadata": {
      "needs_background": "light"
     },
     "output_type": "display_data"
    }
   ],
   "source": [
    "metrics.groupby('features').mean().plot.bar(figsize=(12,8))"
   ]
  }
 ],
 "metadata": {
  "kernelspec": {
   "display_name": "Python 3",
   "language": "python",
   "name": "python3"
  },
  "language_info": {
   "codemirror_mode": {
    "name": "ipython",
    "version": 3
   },
   "file_extension": ".py",
   "mimetype": "text/x-python",
   "name": "python",
   "nbconvert_exporter": "python",
   "pygments_lexer": "ipython3",
   "version": "3.6.9"
  }
 },
 "nbformat": 4,
 "nbformat_minor": 5
}
