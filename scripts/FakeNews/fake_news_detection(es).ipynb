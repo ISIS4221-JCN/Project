{
 "cells": [
  {
   "cell_type": "markdown",
   "id": "878205c1-5f9e-4e5a-b360-f9d19668576c",
   "metadata": {},
   "source": [
    "# Fake News Detection - Spanish"
   ]
  },
  {
   "cell_type": "code",
   "execution_count": 1,
   "id": "aed2e4b9-e329-4a59-a033-0a10cc95bb44",
   "metadata": {},
   "outputs": [],
   "source": [
    "# Import libraries\n",
    "\n",
    "# Main\n",
    "import sys\n",
    "sys.path.insert(0,'../')\n",
    "import os\n",
    "import datetime\n",
    "import pandas as pd\n",
    "import numpy as np\n",
    "import tensorflow as tf\n",
    "from tqdm import tqdm\n",
    "\n",
    "# NLP\n",
    "from gensim.parsing.porter import PorterStemmer\n",
    "from gensim.parsing.preprocessing import remove_stopwords\n",
    "import nltk\n",
    "nltk.download('wordnet')\n",
    "from nltk.tokenize import TweetTokenizer\n",
    "from nltk.stem import SnowballStemmer\n",
    "from nltk.stem.porter import PorterStemmer\n",
    "from nltk import word_tokenize\n",
    "from nltk.corpus import stopwords\n",
    "\n",
    "# Transformers\n",
    "from transformers import AutoTokenizer, AutoModel, TFAutoModel\n",
    "\n",
    "# Sklearn\n",
    "from sklearn.neural_network import MLPClassifier\n",
    "from sklearn.model_selection import train_test_split\n",
    "from sklearn.linear_model import LogisticRegression\n",
    "from sklearn.naive_bayes import GaussianNB\n",
    "from sklearn import svm\n",
    "from sklearn.metrics import accuracy_score\n",
    "from sklearn.metrics import precision_score\n",
    "from sklearn.metrics import f1_score\n",
    "from sklearn.metrics import recall_score\n",
    "from sklearn.feature_extraction.text import CountVectorizer\n",
    "from sklearn.feature_extraction.text import TfidfVectorizer\n",
    "\n",
    "# Display\n",
    "from IPython.display import clear_output\n",
    "clear_output()"
   ]
  },
  {
   "cell_type": "markdown",
   "id": "49172c9e-a4a6-412f-a170-f61f58b5b99c",
   "metadata": {},
   "source": [
    "### Loading data"
   ]
  },
  {
   "cell_type": "code",
   "execution_count": 2,
   "id": "e0ad31e9-f933-44e8-8327-57f2235a5e7c",
   "metadata": {},
   "outputs": [],
   "source": [
    "from utils import Utils\n",
    "utils = Utils('/media/juan/Juan/NLP/', num_workers=10)"
   ]
  },
  {
   "cell_type": "code",
   "execution_count": 3,
   "id": "b33e6234-83be-49ad-9eb4-1221e2423950",
   "metadata": {},
   "outputs": [
    {
     "name": "stdout",
     "output_type": "stream",
     "text": [
      "Starting...\n",
      "Starting 10 threads to load 7500 documents from news in es\n",
      "Loaded 7500 files in 212.73 seconds.\n",
      "Removed 0 files becasuse they were too large\n",
      "Starting 10 threads to load 7500 documents from FakeNews in es\n",
      "Loaded 7500 files in 89.22 seconds.\n",
      "Removed 0 files becasuse they were too large\n",
      "Loaded 7500 news 7500 fake news\n"
     ]
    }
   ],
   "source": [
    "# Define language\n",
    "lang = 'es'\n",
    "\n",
    "print('Starting...')\n",
    "\n",
    "news_data, _ = utils.data_loader(lang, 'news', total_data=7500, max_size = None, return_dates = False)\n",
    "fake_news_data, _ = utils.data_loader(lang, 'FakeNews', total_data=7500, max_size = None, return_dates = False)\n",
    "\n",
    "print(f'Loaded {len(news_data)} news {len(fake_news_data)} fake news')\n",
    "\n",
    "data = news_data + fake_news_data\n",
    "tags = [1]*len(news_data) + [0]*len(fake_news_data)"
   ]
  },
  {
   "cell_type": "markdown",
   "id": "0ebd198a-3691-402e-ba0a-9a7f6ca03523",
   "metadata": {},
   "source": [
    "### Glimpse at data"
   ]
  },
  {
   "cell_type": "code",
   "execution_count": 4,
   "id": "8bca6182-58d1-4770-a090-d8104de70fb4",
   "metadata": {},
   "outputs": [
    {
     "name": "stdout",
     "output_type": "stream",
     "text": [
      "Ciudad de México, 30 abr (EFE).- El presidente de México, Andrés Manuel López Obrador, afirmó este viernes que se dará \"pronto\" la reapertura de la frontera terrestre entre su país y Estados Unidos, cerrada desde el comienzo de la pandemia para la mayoría de actividades.El mandatario fue preguntado en rueda d prensa sobre la reciente alerta de viajes emitida por Estados Unidos que advertía de no viajar a México por la delincuencia existente en alguna regiones y la expansión de la pandemia.\"Hay muy buen ambiente en las relaciones con Estados Unidos\", dijo en respuesta López Obrador, quien reiteró que la próxima semana hablará con la vicepresidenta de Estados Unidos, Kamala Harris, para tratar el fenómeno migratorio.Y adelantó: \"La apertura de las fronteras se va a dar pronto, completa\".Dijo que del \"lado estadounidense\" hay también \"la demanda de que se normalicen ya las relaciones y los intercambios completos\".\"No vemos que se prolongue mucho. Vamos a llegar pronto a un acuerdo\", concluyó.El 21 de marzo de 2020, México y Estados Unidos cerraron sus fronteras para viajes no esenciales, es decir, aquellos con fines recreativos o turísticos.El pasado 18 de marzo, coincidiendo con una nueva ola migratoria, México anunció que restringiría su tránsito terrestre también en su frontera sur, alegando que se debía frenar la propagación del coronavirus.El pasado 20 de abril, el Gobierno del presidente estadounidense Joe Biden extendió una vez más, hasta el 21 de mayo, las restricciones de los viajes no esenciales por las fronteras con México y Canadá, como parte de las medidas para contener la pandemia de la covid-19.La frontera de México con Estados Unidos, que se extiende a lo largo de más de 3.000 kilómetros, es además una de las más activas del mundo con más de un millón de personas que cruzan cada día y se intercambian bienes y servicios por un valor de 1.700 millones de dólares (1.400 millones de euros) diarios. EFEmqb/ia/psh© EFE 2021. Está expresamente prohibida la redistribución y la redifusión de todo o parte de los contenidos de los servicios de Efe, sin previo y expreso consentimiento de la Agencia EFE S.A.SíguenosSWI swissinfo.ch - unidad empresarial de la sociedad suiza de radio y televisión SRG SSR\n",
      "\n",
      "\n",
      "\n",
      "\n",
      "SWI swissinfo.ch - unidad empresarial de la sociedad suiza de radio y televisión SRG SSR Con una cuenta de SWI, tiene la oportunidad de contribuir con comentarios en nuestro sitio web.Conéctese o regístrese aquí.\n",
      "-----------------------\n",
      "Crecen las tienditas con la pandemia - El Sol de Tampico. \n",
      "El 9 de mayo de 1998 tuvo lugar el ataque con la bomba que causó la muerte de cinco trabajadores.\n",
      "\n",
      "Cuenta actualmente con 14 500 habitantes. Es una ciudad turística de primera categoría en el estado de Tamaulipas a 8 km de Ciudad Victoria. \n",
      "\n",
      "Es la cabecera del municipio, así como a otros municipios de la Zona Metropolitana de la Zona Metropolitana de Monterrey. Cuenta con una superficie superficie de 4,816 km².\n",
      "\n",
      "La zona es conocida como \"el Mejor Valle\" por la cantidad de rocas que caen al suelo y \"los mejores bosques de Tamaulipas\".\n",
      "\n",
      "\"La cultura de estos jóvenes es clásica. El origen de la música de Tamaulipas está en este valle, el cual se formó a partir de la llegada de los primeros habitantes de esta región, de quienes después los habitantes se establecieron en ellos, pues, la región tenía el deseo de establecerse y seguir adelante\" \n",
      "Es sede de la Orquesta Sinfónica de Tamaulipas.\n",
      "\n",
      "El Valle de Tamaulipas es un espacio cultural donde se realiza desde la región hacia el Oeste, así como hacia el noroeste y noroeste del Estado. Tiene su origen en el pueblo de San Luis, lugar donde se originó los primeros pobladores de dicha región, quienes se establecieron, además de en el Valle, ya que en esa zona existían restos de construcciones antiguas de estilo español como los casilleros de Tamaulipas. Posteriormente, la cultura de estos pobladores del Valle de Tamaulipas fue la resultado de varias circunstancias que condujeron al establecimiento de la ciudad de\n"
     ]
    }
   ],
   "source": [
    "news_num = 5\n",
    "print(news_data[news_num])\n",
    "print('-----------------------')\n",
    "print(fake_news_data[news_num])"
   ]
  },
  {
   "cell_type": "markdown",
   "id": "292bd13c-ac7e-44fc-a07c-04583eb2d48d",
   "metadata": {},
   "source": [
    "### Basic classifiers with traditional feature extraction techniques"
   ]
  },
  {
   "cell_type": "code",
   "execution_count": 5,
   "id": "1a3433ea-03a5-432f-a954-7fab6cc3722a",
   "metadata": {},
   "outputs": [],
   "source": [
    "model_dict = {'NB': GaussianNB(), \n",
    "              'LR': LogisticRegression(random_state=0, max_iter = 700), \n",
    "              'MLP': MLPClassifier(hidden_layer_sizes=(500,250,100,20), random_state=1, max_iter=700),\n",
    "              'SVM': svm.SVC()}\n",
    "vectorizer_dict = {'tfidf': TfidfVectorizer(stop_words={'spanish'}, min_df = 30),\n",
    "                   'count': CountVectorizer(stop_words={'spanish'}, min_df = 30)}"
   ]
  },
  {
   "cell_type": "code",
   "execution_count": 6,
   "id": "18875848-c016-4002-bc03-03a773fa04d5",
   "metadata": {},
   "outputs": [],
   "source": [
    "def create_features(vectorizer_type, data, tags):\n",
    "    \"\"\" Return data and corresponding tags with data being features extracted with specified tokenizer\n",
    "    \n",
    "    Args:\n",
    "        vectorizer_type (str): Vectorizer to use\n",
    "        data (list): unprocessed corpus of data to extract features from\n",
    "        tags (list): list of tags with same order as list\n",
    "    \n",
    "    Returns:\n",
    "        np.ndarray: array with features of data\n",
    "        list: tags with same order as data\n",
    "    \"\"\"\n",
    "    vectorizer = vectorizer_dict[vectorizer_type]\n",
    "    X = vectorizer.fit_transform(data).toarray()\n",
    "    y = tags\n",
    "    return X, y\n",
    "\n",
    "def test_sklearn_models(model, metrics_df, X, y, vectorizer_type, val_percentage = 0.2):\n",
    "    \"\"\" Train and evaluate model with specified arguments\n",
    "    \n",
    "    Args:\n",
    "        model (str): Model to train\n",
    "        metrics_df (pd.DataFrame): Dataframe to save the results\n",
    "        X (np.ndarray): Features of data\n",
    "        y (list): Tags of X\n",
    "        vectorizer_type (str): Vectorizer used to extract features\n",
    "        val_percentage (float): Validation percentage\n",
    "    \n",
    "    Returns:\n",
    "        pd.DataFrame: Results of trained and evaluated model\n",
    "    \"\"\"\n",
    "    X_train, X_val, y_train, y_val = train_test_split(X, y, train_size=1-val_percentage)\n",
    "    clf = model_dict[model]\n",
    "    clf.fit(X_train, y_train)\n",
    "    y_pred = clf.predict(X_val)\n",
    "    acc = accuracy_score(y_val, y_pred)\n",
    "    pre = precision_score(y_val, y_pred)\n",
    "    rec = recall_score(y_val, y_pred)\n",
    "    f1 = f1_score(y_val, y_pred)\n",
    "    data = {'model': [model], 'features': [vectorizer_type], 'lang': [lang], 'accuracy': [acc], 'precision': [pre], 'recall': [rec], 'f1': [f1]}\n",
    "    df = metrics_df.append([pd.DataFrame(data=data)])\n",
    "    return df"
   ]
  },
  {
   "cell_type": "code",
   "execution_count": 7,
   "id": "60c9fcfc-c8aa-4c3d-92cd-9146bdf9bb1a",
   "metadata": {},
   "outputs": [
    {
     "name": "stdout",
     "output_type": "stream",
     "text": [
      "Training NB with tfidf feature extraction\n",
      "Training LR with tfidf feature extraction\n",
      "Training MLP with tfidf feature extraction\n",
      "Training SVM with tfidf feature extraction\n",
      "Training NB with count feature extraction\n",
      "Training LR with count feature extraction\n",
      "Training MLP with count feature extraction\n",
      "Training SVM with count feature extraction\n"
     ]
    }
   ],
   "source": [
    "VECTORIZER_TYPE_ = ['tfidf', 'count']\n",
    "MODEL_TPYE_ = ['NB', 'LR', 'MLP', 'SVM']\n",
    "# metrics = pd.DataFrame()\n",
    "metrics = pd.read_csv('./../../results/FakeNewsDetection/fake_news_detection_results.csv')\n",
    "counter = 0\n",
    "for vectorizer_type in VECTORIZER_TYPE_:\n",
    "    X, y = create_features(vectorizer_type, data, tags)\n",
    "    for model_type in MODEL_TPYE_:\n",
    "        metrics = test_sklearn_models(model_type, metrics, X, y, vectorizer_type)\n",
    "        print(f'Training {model_type} with {vectorizer_type} feature extraction')"
   ]
  },
  {
   "cell_type": "code",
   "execution_count": 8,
   "id": "5ccc0122-65b0-443a-a261-dc0d74879117",
   "metadata": {},
   "outputs": [
    {
     "data": {
      "text/html": [
       "<div>\n",
       "<style scoped>\n",
       "    .dataframe tbody tr th:only-of-type {\n",
       "        vertical-align: middle;\n",
       "    }\n",
       "\n",
       "    .dataframe tbody tr th {\n",
       "        vertical-align: top;\n",
       "    }\n",
       "\n",
       "    .dataframe thead th {\n",
       "        text-align: right;\n",
       "    }\n",
       "</style>\n",
       "<table border=\"1\" class=\"dataframe\">\n",
       "  <thead>\n",
       "    <tr style=\"text-align: right;\">\n",
       "      <th></th>\n",
       "      <th>Unnamed: 0</th>\n",
       "      <th>model</th>\n",
       "      <th>features</th>\n",
       "      <th>lang</th>\n",
       "      <th>accuracy</th>\n",
       "      <th>precision</th>\n",
       "      <th>recall</th>\n",
       "      <th>f1</th>\n",
       "    </tr>\n",
       "  </thead>\n",
       "  <tbody>\n",
       "    <tr>\n",
       "      <th>0</th>\n",
       "      <td>0.0</td>\n",
       "      <td>NB</td>\n",
       "      <td>tfidf</td>\n",
       "      <td>en</td>\n",
       "      <td>0.857333</td>\n",
       "      <td>0.858966</td>\n",
       "      <td>0.854375</td>\n",
       "      <td>0.856664</td>\n",
       "    </tr>\n",
       "    <tr>\n",
       "      <th>1</th>\n",
       "      <td>0.0</td>\n",
       "      <td>LR</td>\n",
       "      <td>tfidf</td>\n",
       "      <td>en</td>\n",
       "      <td>0.949333</td>\n",
       "      <td>0.968707</td>\n",
       "      <td>0.928667</td>\n",
       "      <td>0.948264</td>\n",
       "    </tr>\n",
       "    <tr>\n",
       "      <th>2</th>\n",
       "      <td>0.0</td>\n",
       "      <td>MLP</td>\n",
       "      <td>tfidf</td>\n",
       "      <td>en</td>\n",
       "      <td>0.954000</td>\n",
       "      <td>0.936487</td>\n",
       "      <td>0.973064</td>\n",
       "      <td>0.954425</td>\n",
       "    </tr>\n",
       "    <tr>\n",
       "      <th>3</th>\n",
       "      <td>0.0</td>\n",
       "      <td>SVM</td>\n",
       "      <td>tfidf</td>\n",
       "      <td>en</td>\n",
       "      <td>0.970000</td>\n",
       "      <td>0.989316</td>\n",
       "      <td>0.948770</td>\n",
       "      <td>0.968619</td>\n",
       "    </tr>\n",
       "    <tr>\n",
       "      <th>4</th>\n",
       "      <td>0.0</td>\n",
       "      <td>NB</td>\n",
       "      <td>count</td>\n",
       "      <td>en</td>\n",
       "      <td>0.886333</td>\n",
       "      <td>0.867997</td>\n",
       "      <td>0.908356</td>\n",
       "      <td>0.887718</td>\n",
       "    </tr>\n",
       "    <tr>\n",
       "      <th>5</th>\n",
       "      <td>0.0</td>\n",
       "      <td>LR</td>\n",
       "      <td>count</td>\n",
       "      <td>en</td>\n",
       "      <td>0.951333</td>\n",
       "      <td>0.964191</td>\n",
       "      <td>0.940492</td>\n",
       "      <td>0.952194</td>\n",
       "    </tr>\n",
       "    <tr>\n",
       "      <th>6</th>\n",
       "      <td>0.0</td>\n",
       "      <td>MLP</td>\n",
       "      <td>count</td>\n",
       "      <td>en</td>\n",
       "      <td>0.963333</td>\n",
       "      <td>0.968037</td>\n",
       "      <td>0.960518</td>\n",
       "      <td>0.964263</td>\n",
       "    </tr>\n",
       "    <tr>\n",
       "      <th>7</th>\n",
       "      <td>0.0</td>\n",
       "      <td>SVM</td>\n",
       "      <td>count</td>\n",
       "      <td>en</td>\n",
       "      <td>0.921333</td>\n",
       "      <td>0.996100</td>\n",
       "      <td>0.846817</td>\n",
       "      <td>0.915412</td>\n",
       "    </tr>\n",
       "    <tr>\n",
       "      <th>0</th>\n",
       "      <td>NaN</td>\n",
       "      <td>NB</td>\n",
       "      <td>tfidf</td>\n",
       "      <td>es</td>\n",
       "      <td>0.940333</td>\n",
       "      <td>0.907846</td>\n",
       "      <td>0.979181</td>\n",
       "      <td>0.942165</td>\n",
       "    </tr>\n",
       "    <tr>\n",
       "      <th>0</th>\n",
       "      <td>NaN</td>\n",
       "      <td>LR</td>\n",
       "      <td>tfidf</td>\n",
       "      <td>es</td>\n",
       "      <td>0.977667</td>\n",
       "      <td>0.984375</td>\n",
       "      <td>0.970529</td>\n",
       "      <td>0.977403</td>\n",
       "    </tr>\n",
       "    <tr>\n",
       "      <th>0</th>\n",
       "      <td>NaN</td>\n",
       "      <td>MLP</td>\n",
       "      <td>tfidf</td>\n",
       "      <td>es</td>\n",
       "      <td>0.985000</td>\n",
       "      <td>0.978681</td>\n",
       "      <td>0.991228</td>\n",
       "      <td>0.984915</td>\n",
       "    </tr>\n",
       "    <tr>\n",
       "      <th>0</th>\n",
       "      <td>NaN</td>\n",
       "      <td>SVM</td>\n",
       "      <td>tfidf</td>\n",
       "      <td>es</td>\n",
       "      <td>0.989000</td>\n",
       "      <td>0.992558</td>\n",
       "      <td>0.985225</td>\n",
       "      <td>0.988878</td>\n",
       "    </tr>\n",
       "    <tr>\n",
       "      <th>0</th>\n",
       "      <td>NaN</td>\n",
       "      <td>NB</td>\n",
       "      <td>count</td>\n",
       "      <td>es</td>\n",
       "      <td>0.919333</td>\n",
       "      <td>0.886391</td>\n",
       "      <td>0.963672</td>\n",
       "      <td>0.923418</td>\n",
       "    </tr>\n",
       "    <tr>\n",
       "      <th>0</th>\n",
       "      <td>NaN</td>\n",
       "      <td>LR</td>\n",
       "      <td>count</td>\n",
       "      <td>es</td>\n",
       "      <td>0.986000</td>\n",
       "      <td>0.986702</td>\n",
       "      <td>0.985392</td>\n",
       "      <td>0.986047</td>\n",
       "    </tr>\n",
       "    <tr>\n",
       "      <th>0</th>\n",
       "      <td>NaN</td>\n",
       "      <td>MLP</td>\n",
       "      <td>count</td>\n",
       "      <td>es</td>\n",
       "      <td>0.980667</td>\n",
       "      <td>0.988583</td>\n",
       "      <td>0.972902</td>\n",
       "      <td>0.980680</td>\n",
       "    </tr>\n",
       "    <tr>\n",
       "      <th>0</th>\n",
       "      <td>NaN</td>\n",
       "      <td>SVM</td>\n",
       "      <td>count</td>\n",
       "      <td>es</td>\n",
       "      <td>0.967333</td>\n",
       "      <td>0.982265</td>\n",
       "      <td>0.952381</td>\n",
       "      <td>0.967092</td>\n",
       "    </tr>\n",
       "  </tbody>\n",
       "</table>\n",
       "</div>"
      ],
      "text/plain": [
       "   Unnamed: 0 model features lang  accuracy  precision    recall        f1\n",
       "0         0.0    NB    tfidf   en  0.857333   0.858966  0.854375  0.856664\n",
       "1         0.0    LR    tfidf   en  0.949333   0.968707  0.928667  0.948264\n",
       "2         0.0   MLP    tfidf   en  0.954000   0.936487  0.973064  0.954425\n",
       "3         0.0   SVM    tfidf   en  0.970000   0.989316  0.948770  0.968619\n",
       "4         0.0    NB    count   en  0.886333   0.867997  0.908356  0.887718\n",
       "5         0.0    LR    count   en  0.951333   0.964191  0.940492  0.952194\n",
       "6         0.0   MLP    count   en  0.963333   0.968037  0.960518  0.964263\n",
       "7         0.0   SVM    count   en  0.921333   0.996100  0.846817  0.915412\n",
       "0         NaN    NB    tfidf   es  0.940333   0.907846  0.979181  0.942165\n",
       "0         NaN    LR    tfidf   es  0.977667   0.984375  0.970529  0.977403\n",
       "0         NaN   MLP    tfidf   es  0.985000   0.978681  0.991228  0.984915\n",
       "0         NaN   SVM    tfidf   es  0.989000   0.992558  0.985225  0.988878\n",
       "0         NaN    NB    count   es  0.919333   0.886391  0.963672  0.923418\n",
       "0         NaN    LR    count   es  0.986000   0.986702  0.985392  0.986047\n",
       "0         NaN   MLP    count   es  0.980667   0.988583  0.972902  0.980680\n",
       "0         NaN   SVM    count   es  0.967333   0.982265  0.952381  0.967092"
      ]
     },
     "execution_count": 8,
     "metadata": {},
     "output_type": "execute_result"
    }
   ],
   "source": [
    "metrics"
   ]
  },
  {
   "cell_type": "code",
   "execution_count": 9,
   "id": "4e1a0719-aea3-493f-8851-293314f42d00",
   "metadata": {},
   "outputs": [],
   "source": [
    "metrics.to_csv('./../../results/FakeNewsDetection/fake_news_detection_results.csv')"
   ]
  },
  {
   "cell_type": "code",
   "execution_count": 10,
   "id": "173f5038-89f0-4294-b70d-866bd93104a4",
   "metadata": {},
   "outputs": [
    {
     "data": {
      "text/plain": [
       "<AxesSubplot:xlabel='model'>"
      ]
     },
     "execution_count": 10,
     "metadata": {},
     "output_type": "execute_result"
    },
    {
     "data": {
      "image/png": "[encoded data removed]",
      "text/plain": [
       "<Figure size 864x576 with 1 Axes>"
      ]
     },
     "metadata": {
      "needs_background": "light"
     },
     "output_type": "display_data"
    }
   ],
   "source": [
    "metrics.groupby('model').mean().plot.bar(figsize=(12,8))"
   ]
  },
  {
   "cell_type": "code",
   "execution_count": 11,
   "id": "2c4957b7-18f9-48de-bd7c-fad371af502f",
   "metadata": {},
   "outputs": [
    {
     "data": {
      "text/plain": [
       "<AxesSubplot:xlabel='features'>"
      ]
     },
     "execution_count": 11,
     "metadata": {},
     "output_type": "execute_result"
    },
    {
     "data": {
      "image/png": "[encoded data removed]",
      "text/plain": [
       "<Figure size 864x576 with 1 Axes>"
      ]
     },
     "metadata": {
      "needs_background": "light"
     },
     "output_type": "display_data"
    }
   ],
   "source": [
    "metrics.groupby('features').mean().plot.bar(figsize=(12,8))"
   ]
  }
 ],
 "metadata": {
  "kernelspec": {
   "display_name": "Python 3",
   "language": "python",
   "name": "python3"
  },
  "language_info": {
   "codemirror_mode": {
    "name": "ipython",
    "version": 3
   },
   "file_extension": ".py",
   "mimetype": "text/x-python",
   "name": "python",
   "nbconvert_exporter": "python",
   "pygments_lexer": "ipython3",
   "version": "3.6.9"
  }
 },
 "nbformat": 4,
 "nbformat_minor": 5
}
