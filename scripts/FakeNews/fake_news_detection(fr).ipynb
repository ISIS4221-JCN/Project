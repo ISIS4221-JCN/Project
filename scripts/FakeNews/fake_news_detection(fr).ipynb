{
 "cells": [
  {
   "cell_type": "markdown",
   "id": "878205c1-5f9e-4e5a-b360-f9d19668576c",
   "metadata": {},
   "source": [
    "# Fake News Detection - French"
   ]
  },
  {
   "cell_type": "code",
   "execution_count": 2,
   "id": "aed2e4b9-e329-4a59-a033-0a10cc95bb44",
   "metadata": {},
   "outputs": [],
   "source": [
    "# Import libraries\n",
    "\n",
    "# Main\n",
    "import sys\n",
    "sys.path.insert(0,'../')\n",
    "import os\n",
    "import datetime\n",
    "import pandas as pd\n",
    "import numpy as np\n",
    "import tensorflow as tf\n",
    "from tqdm import tqdm\n",
    "\n",
    "# NLP\n",
    "from gensim.parsing.porter import PorterStemmer\n",
    "from gensim.parsing.preprocessing import remove_stopwords\n",
    "import nltk\n",
    "nltk.download('wordnet')\n",
    "from nltk.tokenize import TweetTokenizer\n",
    "from nltk.stem import SnowballStemmer\n",
    "from nltk.stem.porter import PorterStemmer\n",
    "from nltk import word_tokenize\n",
    "from nltk.corpus import stopwords\n",
    "\n",
    "# Transformers\n",
    "from transformers import AutoTokenizer, AutoModel, TFAutoModel\n",
    "\n",
    "# Sklearn\n",
    "from sklearn.neural_network import MLPClassifier\n",
    "from sklearn.model_selection import train_test_split\n",
    "from sklearn.linear_model import LogisticRegression\n",
    "from sklearn.naive_bayes import GaussianNB\n",
    "from sklearn import svm\n",
    "from sklearn.metrics import accuracy_score\n",
    "from sklearn.metrics import precision_score\n",
    "from sklearn.metrics import f1_score\n",
    "from sklearn.metrics import recall_score\n",
    "from sklearn.feature_extraction.text import CountVectorizer\n",
    "from sklearn.feature_extraction.text import TfidfVectorizer\n",
    "\n",
    "# Display\n",
    "from IPython.display import clear_output\n",
    "clear_output()"
   ]
  },
  {
   "cell_type": "markdown",
   "id": "49172c9e-a4a6-412f-a170-f61f58b5b99c",
   "metadata": {},
   "source": [
    "### Loading data"
   ]
  },
  {
   "cell_type": "code",
   "execution_count": 3,
   "id": "e0ad31e9-f933-44e8-8327-57f2235a5e7c",
   "metadata": {},
   "outputs": [],
   "source": [
    "from utils import Utils\n",
    "utils = Utils('/media/juan/Juan/NLP/', num_workers=10)"
   ]
  },
  {
   "cell_type": "code",
   "execution_count": 4,
   "id": "b33e6234-83be-49ad-9eb4-1221e2423950",
   "metadata": {},
   "outputs": [
    {
     "name": "stdout",
     "output_type": "stream",
     "text": [
      "Starting...\n",
      "Starting 10 threads to load 7500 documents from news in fr\n",
      "Loaded 7500 files in 217.63 seconds.\n",
      "Removed 0 files becasuse they were too large\n",
      "Starting 10 threads to load 7500 documents from FakeNews in fr\n",
      "Loaded 7500 files in 117.39 seconds.\n",
      "Removed 0 files becasuse they were too large\n",
      "Loaded 7500 news 7500 fake news\n"
     ]
    }
   ],
   "source": [
    "# Define language\n",
    "lang = 'fr'\n",
    "\n",
    "print('Starting...')\n",
    "\n",
    "news_data, _ = utils.data_loader(lang, 'news', total_data=7500, max_size = None, return_dates = False)\n",
    "fake_news_data, _ = utils.data_loader(lang, 'FakeNews', total_data=7500, max_size = None, return_dates = False)\n",
    "\n",
    "print(f'Loaded {len(news_data)} news {len(fake_news_data)} fake news')\n",
    "\n",
    "data = news_data + fake_news_data\n",
    "tags = [1]*len(news_data) + [0]*len(fake_news_data)"
   ]
  },
  {
   "cell_type": "markdown",
   "id": "0ebd198a-3691-402e-ba0a-9a7f6ca03523",
   "metadata": {},
   "source": [
    "### Glimpse at data"
   ]
  },
  {
   "cell_type": "code",
   "execution_count": 15,
   "id": "8bca6182-58d1-4770-a090-d8104de70fb4",
   "metadata": {},
   "outputs": [
    {
     "name": "stdout",
     "output_type": "stream",
     "text": [
      "20 mai 20211 / XCe samedi matin, se sont réunis élus locaux et personnalités du monde associatif à la mairie de Biguglia pour annoncer l'entrée de l'association Scola Corsa dans le réseau Eskolim, fédération des écoles immersives en langue régionale.À cette occasion, Ghjiseppu Turchini, son nouveau président, fait état du bilan de l'enseignement de la langue corse sur l'île : \"Le système éducatif public a atteint ses limites. Il n'est pas capable de créer des cadres favorables à l'épanouissement et au renouvellement de notre langue.\"Pour faire face à cette problématique, des écoles immersives devraient être créées un peu partout sur le territoire, en commençant par la région bastiaise et la commune de Biguglia qui sera le lieu de l'ouverture d'une première classe de maternelle dès la rentrée 2021.Ces écoles prendront la même forme que les 200 autres que compte déjà le réseau Eskolim au Pays basque, en Alsace, Bretagne, Occitanie et Catalogne, à savoir des établissements associatifs, gérés par les parents d'élèves et l'équipe pédagogique, le tout supervisé par Scola Corsa.\"Ce sont des écoles sous contrat et conventionnées par l'État, donc de facto, elles font partie du service public. Elles sont gratuites et le contenu pédagogique comme le personnel sont les mêmes que dans un cursus classique\", précise Ghjiseppu Turchini.\"Chaque école ouverte créera également sa propre association. Ce système permet évidemment aux établissements de s'adapter aux territoires, c'est un modèle qui évolue en fonction de la région où il est implanté et des parents d'élèves qui l'accompagnent\", ajoute le représentant du réseau basque d'Eskolim.L'année dernière, à l'initiative de l'eurodéputé François Alfonsi, une délégation de dix personnes s'est rendue au Pays basque pour se renseigner sur les \"ikastola\", les écoles immersives de la région, avec, pour projet, d'importer le modèle éducatif en Corse. C'est chose faite.L'objectif est simple, faire en sorte qu'à la fin de leur cursus, les élèves soient complètement bilingues.Pour ça, les enseignements sont en grande majorité, ou en intégralité, dispensés dans la langue choisie. \"Cette méthode a donné d'excellents résultats. L'un des lycées immersifs du Pays basque était le meilleur lycée de France il y a deux ans. Le développement des compétences linguistiques aide au développement des capacités cognitives et les élèves obtiennent de très bonnes notes dans toutes les matières\", complète Ghjiseppu Turchini.\"Notre volonté est de permettre l'épanouissement de notre langue dans son aspect identitaire, la sauvegarde de notre culture mais également de conduire un projet pédagogique qui permettra à notre société de s'ouvrir sur le monde, notamment celui des langues romanes qui compte 1,5 milliard de locuteurs\", explique-t-il.\"Utiliser la langue, c'est ce qui la sauvera\" ajoute un représentant d'Eskolim.Si l'objectif est de former des locuteurs, pour Ghjiseppu Turchini, également président de l'association des enseignants en langue et culture corse, \"le bilingue ne suffit plus\".\"Le système public régresse depuis quelques années notamment avec les réformes de Jean-Michel Blanquer dans les collèges et lycées\", commente-t-il.Pour lui, l'enjeu est de faire entrer la langue corse dans le quotidien des jeunes insulaires. \"En bilingue, on ne parle pas corse dans la cour de récréation, de même pour la cantine. Avec les écoles immersives, nous voulons justement que les élèves pratiquent quotidiennement et naturellement la langue\", conclut le président de Scola Corsa.Aujourd'hui, 15 élèves sont déjà inscrits pour la rentrée 2021 à Biguglia. L'association espère qu'une autre école ouvrira ses portes à Bastia dès septembre prochain ou en 2022.Soyez les premiers informés de l'actualité en recevant les newsletter de Corse Matin\n",
      "-----------------------\n",
      "La chirurgie esthétique ne s'est jamais aussi bien portée que pendant le Covid-19 - Franceinfo. Les deux hommes se retrouvent en route pour la mort en compagnie d'un médecin à l'hôpital, dont l'enthousiasme est tel qu'ils se comportent d'un côté et qu'un autre, qui ne s'est pas fait pour eux, un peu plus tard. Le corps commence par une longue série de gestes, puis commence, progressivement, des mouvements. Ils se trouvent de la part des deux femmes et de plusieurs personnages. À leur arrivée à la maison de l'épouse, alors que les deux dernières ont déjà quitté le domicile de la jeune femme, ils découvrent la lettre qu'O.o.o.a contées. La jeune femme, dont le nom a probablement été changé à cause des circonstances, se montre à John W. Dodd, le riche propriétaire de la disparition que cette lettre est destinée aux trouver. Il les rend ensuite au couple de réchapports avant de l'amener à vivre dans un local proche.Les chevaux de sport hippique sont les plus représentés chez les chevaux de loisir que dans les autres disciplines équestres. Les autres disciplines sont les disciplines équestres liées aux compétitions de saut à la perche, à voile, à la danse, à la natation et à l'aviron.« Des études archéologiques et archéologiques effectuées sur le corps d'Eugène Frouet, disparu en 1985 et retrouvé à la cathédrale d'Arras, confirment qu'il devait avoir régné durant cette période. En effet, sa présence au ministère, et qu'il était de fait un grand dignitaire en fait l'objet de nombreux travaux contemporains, suggère qu'il aurait pu avoir régné tout entier\n"
     ]
    }
   ],
   "source": [
    "news_num = 15\n",
    "print(news_data[news_num])\n",
    "print('-----------------------')\n",
    "print(fake_news_data[news_num])"
   ]
  },
  {
   "cell_type": "markdown",
   "id": "292bd13c-ac7e-44fc-a07c-04583eb2d48d",
   "metadata": {},
   "source": [
    "### Basic classifiers with traditional feature extraction techniques"
   ]
  },
  {
   "cell_type": "code",
   "execution_count": 6,
   "id": "1a3433ea-03a5-432f-a954-7fab6cc3722a",
   "metadata": {},
   "outputs": [],
   "source": [
    "model_dict = {'NB': GaussianNB(), \n",
    "              'LR': LogisticRegression(random_state=0, max_iter = 700), \n",
    "              'MLP': MLPClassifier(hidden_layer_sizes=(500,250,100,20), random_state=1, max_iter=700),\n",
    "              'SVM': svm.SVC()}\n",
    "vectorizer_dict = {'tfidf': TfidfVectorizer(stop_words={'french'}, min_df = 30),\n",
    "                   'count': CountVectorizer(stop_words={'french'}, min_df = 30)}"
   ]
  },
  {
   "cell_type": "code",
   "execution_count": 7,
   "id": "18875848-c016-4002-bc03-03a773fa04d5",
   "metadata": {},
   "outputs": [],
   "source": [
    "def create_features(vectorizer_type, data, tags):\n",
    "    \"\"\" Return data and corresponding tags with data being features extracted with specified tokenizer\n",
    "    \n",
    "    Args:\n",
    "        vectorizer_type (str): Vectorizer to use\n",
    "        data (list): unprocessed corpus of data to extract features from\n",
    "        tags (list): list of tags with same order as list\n",
    "    \n",
    "    Returns:\n",
    "        np.ndarray: array with features of data\n",
    "        list: tags with same order as data\n",
    "    \"\"\"\n",
    "    vectorizer = vectorizer_dict[vectorizer_type]\n",
    "    X = vectorizer.fit_transform(data).toarray()\n",
    "    y = tags\n",
    "    return X, y\n",
    "\n",
    "def test_sklearn_models(model, metrics_df, X, y, vectorizer_type, val_percentage = 0.2):\n",
    "    \"\"\" Train and evaluate model with specified arguments\n",
    "    \n",
    "    Args:\n",
    "        model (str): Model to train\n",
    "        metrics_df (pd.DataFrame): Dataframe to save the results\n",
    "        X (np.ndarray): Features of data\n",
    "        y (list): Tags of X\n",
    "        vectorizer_type (str): Vectorizer used to extract features\n",
    "        val_percentage (float): Validation percentage\n",
    "    \n",
    "    Returns:\n",
    "        pd.DataFrame: Results of trained and evaluated model\n",
    "    \"\"\"\n",
    "    X_train, X_val, y_train, y_val = train_test_split(X, y, train_size=1-val_percentage)\n",
    "    clf = model_dict[model]\n",
    "    clf.fit(X_train, y_train)\n",
    "    y_pred = clf.predict(X_val)\n",
    "    acc = accuracy_score(y_val, y_pred)\n",
    "    pre = precision_score(y_val, y_pred)\n",
    "    rec = recall_score(y_val, y_pred)\n",
    "    f1 = f1_score(y_val, y_pred)\n",
    "    data = {'model': [model], 'features': [vectorizer_type], 'lang': [lang], 'accuracy': [acc], 'precision': [pre], 'recall': [rec], 'f1': [f1]}\n",
    "    df = metrics_df.append([pd.DataFrame(data=data)])\n",
    "    return df"
   ]
  },
  {
   "cell_type": "code",
   "execution_count": 9,
   "id": "60c9fcfc-c8aa-4c3d-92cd-9146bdf9bb1a",
   "metadata": {},
   "outputs": [
    {
     "name": "stdout",
     "output_type": "stream",
     "text": [
      "Training NB with tfidf feature extraction\n",
      "Training LR with tfidf feature extraction\n",
      "Training MLP with tfidf feature extraction\n",
      "Training SVM with tfidf feature extraction\n",
      "Training NB with count feature extraction\n",
      "Training LR with count feature extraction\n",
      "Training MLP with count feature extraction\n",
      "Training SVM with count feature extraction\n"
     ]
    }
   ],
   "source": [
    "VECTORIZER_TYPE_ = ['tfidf', 'count']\n",
    "MODEL_TPYE_ = ['NB', 'LR', 'MLP', 'SVM']\n",
    "# metrics = pd.DataFrame()\n",
    "metrics = pd.read_csv('./../../results/FakeNewsDetection/fake_news_detection_results.csv', index_col=0)\n",
    "for vectorizer_type in VECTORIZER_TYPE_:\n",
    "    X, y = create_features(vectorizer_type, data, tags)\n",
    "    for model_type in MODEL_TPYE_:\n",
    "        metrics = test_sklearn_models(model_type, metrics, X, y, vectorizer_type)\n",
    "        print(f'Training {model_type} with {vectorizer_type} feature extraction')"
   ]
  },
  {
   "cell_type": "code",
   "execution_count": 10,
   "id": "4e1a0719-aea3-493f-8851-293314f42d00",
   "metadata": {},
   "outputs": [],
   "source": [
    "metrics.to_csv('./../../results/FakeNewsDetection/fake_news_detection_results.csv')"
   ]
  },
  {
   "cell_type": "code",
   "execution_count": 11,
   "id": "173f5038-89f0-4294-b70d-866bd93104a4",
   "metadata": {},
   "outputs": [
    {
     "data": {
      "text/plain": [
       "<AxesSubplot:xlabel='model'>"
      ]
     },
     "execution_count": 11,
     "metadata": {},
     "output_type": "execute_result"
    },
    {
     "data": {
      "image/png": "[encoded data removed]",
      "text/plain": [
       "<Figure size 864x576 with 1 Axes>"
      ]
     },
     "metadata": {
      "needs_background": "light"
     },
     "output_type": "display_data"
    }
   ],
   "source": [
    "metrics.groupby('model').mean().plot.bar(figsize=(12,8))"
   ]
  },
  {
   "cell_type": "code",
   "execution_count": 12,
   "id": "2c4957b7-18f9-48de-bd7c-fad371af502f",
   "metadata": {},
   "outputs": [
    {
     "data": {
      "text/plain": [
       "<AxesSubplot:xlabel='features'>"
      ]
     },
     "execution_count": 12,
     "metadata": {},
     "output_type": "execute_result"
    },
    {
     "data": {
      "image/png": "[encoded data removed]",
      "text/plain": [
       "<Figure size 864x576 with 1 Axes>"
      ]
     },
     "metadata": {
      "needs_background": "light"
     },
     "output_type": "display_data"
    }
   ],
   "source": [
    "metrics.groupby('features').mean().plot.bar(figsize=(12,8))"
   ]
  },
  {
   "cell_type": "code",
   "execution_count": null,
   "id": "56726799-4a6b-4169-95dc-5b2e06da9fe3",
   "metadata": {},
   "outputs": [],
   "source": []
  }
 ],
 "metadata": {
  "kernelspec": {
   "display_name": "Python 3",
   "language": "python",
   "name": "python3"
  },
  "language_info": {
   "codemirror_mode": {
    "name": "ipython",
    "version": 3
   },
   "file_extension": ".py",
   "mimetype": "text/x-python",
   "name": "python",
   "nbconvert_exporter": "python",
   "pygments_lexer": "ipython3",
   "version": "3.6.9"
  }
 },
 "nbformat": 4,
 "nbformat_minor": 5
}
