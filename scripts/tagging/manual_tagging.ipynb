{
  "nbformat": 4,
  "nbformat_minor": 5,
  "metadata": {
    "kernelspec": {
      "display_name": "project",
      "language": "python",
      "name": "project"
    },
    "language_info": {
      "codemirror_mode": {
        "name": "ipython",
        "version": 3
      },
      "file_extension": ".py",
      "mimetype": "text/x-python",
      "name": "python",
      "nbconvert_exporter": "python",
      "pygments_lexer": "ipython3",
      "version": "3.6.9"
    },
    "colab": {
      "name": "manual_tagging.ipynb",
      "provenance": [],
      "collapsed_sections": []
    }
  },
  "cells": [
    {
      "cell_type": "code",
      "metadata": {
        "id": "3ce2c470-53df-4803-be31-818e2bde21e2"
      },
      "source": [
        "import sys\n",
        "import os\n",
        "import json\n",
        "import pandas as pd\n",
        "from tqdm import tqdm\n",
        "from IPython.display import clear_output"
      ],
      "id": "3ce2c470-53df-4803-be31-818e2bde21e2",
      "execution_count": 36,
      "outputs": []
    },
    {
      "cell_type": "code",
      "metadata": {
        "colab": {
          "base_uri": "https://localhost:8080/"
        },
        "id": "KK2NtO781pao",
        "outputId": "71a91bf1-22cc-4e2d-e785-621d706a84f8"
      },
      "source": [
        "from google.colab import drive\n",
        "drive.mount('/content/drive')"
      ],
      "id": "KK2NtO781pao",
      "execution_count": 37,
      "outputs": [
        {
          "output_type": "stream",
          "text": [
            "Drive already mounted at /content/drive; to attempt to forcibly remount, call drive.mount(\"/content/drive\", force_remount=True).\n"
          ],
          "name": "stdout"
        }
      ]
    },
    {
      "cell_type": "code",
      "metadata": {
        "id": "F2iVy5E62ETF"
      },
      "source": [
        "!unzip /content/drive/MyDrive/data/tweets.zip\n",
        "clear_output()"
      ],
      "id": "F2iVy5E62ETF",
      "execution_count": 38,
      "outputs": []
    },
    {
      "cell_type": "code",
      "metadata": {
        "id": "71d3123b-6ad4-47e6-a9e9-9e3cb408a954",
        "colab": {
          "base_uri": "https://localhost:8080/"
        },
        "outputId": "6636882b-ccb3-4bd5-f4ed-0f84312e7447"
      },
      "source": [
        "# Parameters\n",
        "source = 'tweets'\n",
        "lang = 'es'\n",
        "path_prefix = '/content/'\n",
        "tag_file = os.path.join(path_prefix, source + '_' + lang + '.json')\n",
        "labels = ['vaccine', 'mental-health', 'school-reopneing', 'household-violence', 'none']\n",
        "print('You will tag files in ' + lang + ' gathered form ' + source)\n",
        "print('Tags to use: ' + str(labels))\n",
        "print('Results will be saved to: ' + str(tag_file))"
      ],
      "id": "71d3123b-6ad4-47e6-a9e9-9e3cb408a954",
      "execution_count": 39,
      "outputs": [
        {
          "output_type": "stream",
          "text": [
            "You will tag files in es gathered form tweets\n",
            "Tags to use: ['vaccine', 'mental-health', 'school-reopneing', 'household-violence', 'none']\n",
            "Results will be saved to: /content/tweets_es.json\n"
          ],
          "name": "stdout"
        }
      ]
    },
    {
      "cell_type": "code",
      "metadata": {
        "id": "aa77aa78-ccc2-4240-8eea-f7f3c850b2f6"
      },
      "source": [
        "def highlight_words(text):\n",
        "    text = text.replace(',', '').replace('.', '').split(' ')\n",
        "    new_text = []\n",
        "    for word in text:\n",
        "        if word.lower() in words_to_upper:\n",
        "            new_text.append(word.upper())\n",
        "        else:\n",
        "            new_text.append(word)\n",
        "    text = ''\n",
        "    for counter, word in enumerate(new_text):\n",
        "        if counter % 20 == 0:\n",
        "            text = text + '\\n'\n",
        "        text = text + ' ' + word\n",
        "    return text"
      ],
      "id": "aa77aa78-ccc2-4240-8eea-f7f3c850b2f6",
      "execution_count": 40,
      "outputs": []
    },
    {
      "cell_type": "code",
      "metadata": {
        "id": "48cea6e9-b865-4d49-8fc1-c9bdd2c5ef3a",
        "colab": {
          "base_uri": "https://localhost:8080/"
        },
        "outputId": "d76bfedd-96a0-4b1b-b1bc-41aaf9bae8e6"
      },
      "source": [
        "tweet_files = sorted(os.listdir(os.path.join(path_prefix, source, lang)))\n",
        "try:\n",
        "    with open(tag_file, 'r') as tag_file_obj:\n",
        "        tag_dict = json.load(tag_file_obj)\n",
        "except:\n",
        "    tag_dict = {}\n",
        "tweet_files_set = set(tweet_files)\n",
        "tag_tweets_set = set(list(tag_dict.keys()))\n",
        "tweet_files = sorted(list(tweet_files_set.difference(tag_tweets_set)))\n",
        "print('Found {} tagged tweets'.format(len(tag_dict)))\n",
        "words_to_upper = ['vaccine', 'vaccination', 'mental', 'health', 'school', 'schools', 'violence', 'vaccines', 'astrazeneca', 'pfizer', 'sinovac']\n",
        "words_to_upper = ['vacuna', 'vacunacion', 'mental', 'salud', 'colegio', 'colegios', 'violencia', 'vacunas', 'astrazeneca', 'pfizer', 'sinovac']\n",
        "total_tweets = input('How many tweets do you want to tag?')\n",
        "for i, tweet in enumerate(tqdm(tweet_files[:int(total_tweets)])):\n",
        "    with open(os.path.join(path_prefix, source, lang, tweet), 'r') as tweet_file:\n",
        "        tweet_dict = json.load(tweet_file)\n",
        "        print('{}/{}'.format(i, total_tweets))\n",
        "        print(highlight_words(tweet_dict['text']) + '\\n')\n",
        "        print('Clases: ' + str(labels))\n",
        "        code = []\n",
        "        while len(code) != 5:\n",
        "            code = input(f'Type 1 for the classes the tweet belongs to and 0 for the others ')\n",
        "            code = [bool(int(d)) for d in str(code)]\n",
        "        tag_dict[tweet] = dict(zip(labels, code))\n",
        "        clear_output()\n",
        "with open(tag_file, 'w') as tag_file_obj:\n",
        "    json.dump(tag_dict, tag_file_obj)"
      ],
      "id": "48cea6e9-b865-4d49-8fc1-c9bdd2c5ef3a",
      "execution_count": 42,
      "outputs": [
        {
          "output_type": "stream",
          "text": [
            "100%|██████████| 3/3 [00:12<00:00,  4.29s/it]\n"
          ],
          "name": "stderr"
        }
      ]
    },
    {
      "cell_type": "code",
      "metadata": {
        "id": "pFRZ6ptX_z7q"
      },
      "source": [
        ""
      ],
      "id": "pFRZ6ptX_z7q",
      "execution_count": null,
      "outputs": []
    }
  ]
}