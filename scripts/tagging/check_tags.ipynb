{
 "cells": [
  {
   "cell_type": "code",
   "execution_count": 17,
   "id": "119ee7b0-72aa-46f1-91a9-04e5a9c85007",
   "metadata": {},
   "outputs": [],
   "source": [
    "import os\n",
    "import json\n",
    "import pandas as pd\n",
    "import numpy as np\n",
    "import random"
   ]
  },
  {
   "cell_type": "code",
   "execution_count": 28,
   "id": "aa6c1103-eb59-4327-a5a5-f0b30e3398ea",
   "metadata": {},
   "outputs": [],
   "source": [
    "prefix = './../../tag_files'\n",
    "lang = 'es'\n",
    "source = 'tweets'\n",
    "file = 'words.json'\n",
    "with open(os.path.join(prefix, source + '_' + lang + '_'+file)) as tag_file:\n",
    "    tag_dict = json.load(tag_file)"
   ]
  },
  {
   "cell_type": "code",
   "execution_count": 29,
   "id": "4410914b-c518-4fbf-b81d-0ea04f1d55fc",
   "metadata": {},
   "outputs": [
    {
     "data": {
      "text/plain": [
       "8"
      ]
     },
     "execution_count": 29,
     "metadata": {},
     "output_type": "execute_result"
    }
   ],
   "source": [
    "len(np.unique(tag_dict.keys())[0])"
   ]
  },
  {
   "cell_type": "code",
   "execution_count": 11,
   "id": "309f71cf-ee64-4a7b-941a-a03de8edeb1f",
   "metadata": {},
   "outputs": [
    {
     "data": {
      "text/plain": [
       "23659"
      ]
     },
     "execution_count": 11,
     "metadata": {},
     "output_type": "execute_result"
    }
   ],
   "source": [
    "len(tag_dict)"
   ]
  },
  {
   "cell_type": "code",
   "execution_count": 15,
   "id": "11aead87-b82f-41f9-af19-0a5b2dcf92a2",
   "metadata": {},
   "outputs": [],
   "source": [
    "repeated = []\n",
    "for i in tag_dict:\n",
    "    if tag_dict[i]['vaccine'] == 1 and tag_dict[i]['school-reopneing']:\n",
    "        repeated.append(i)"
   ]
  },
  {
   "cell_type": "code",
   "execution_count": 30,
   "id": "9508d72c-1d44-4cb2-af68-15346fff4961",
   "metadata": {},
   "outputs": [
    {
     "name": "stdout",
     "output_type": "stream",
     "text": [
      "@Le_Figaro Et les enseignan-tes et AESH toujours pas prioritaires à la vaccination! Pas masque FFP2, de gel ou de capteur de CO2 dans les écoles! #Blanquer #BlanquerMent #Covid_19 #Vaccin #ecole\n",
      "-------------\n",
      "Vaccin contre le Covid-19 : \"Il faudra apprendre à vivre avec les rappels\", prévient un médecin https://t.co/OY4D14Nmvf\n",
      "#News247 #Actus #Medias #FreeNews #24h24 #7j7\n",
      "-------------\n",
      "1⃣ Le vaccin permet à notre système immunitaire d'apprendre à combattre un virus et donc d'éviter de développer certaines maladies infectieuses, dont la #Covid_19, et de développer des formes graves. Être vacciné permet à nos anticorps de combattre plus rapidement les maladies.\n",
      "-------------\n",
      "@LaurentNel @olivierveran @Fraslin Arretez de râler un peu....les enseignants sont bien contents de rester chez eux...des qu il y a un cas de covid hop je reste à la maison.....au début ils voulaient pas se vacciner maintenant ils pleurnichent.\n",
      "-------------\n",
      "🇧🇪 Athlète de haut niveau, enseignante et enceinte, ça suffit ou pas pour avoir droit au #vaccin #Covid_19 \n",
      "https://t.co/YFbTrPYjFM\n",
      "-------------\n"
     ]
    }
   ],
   "source": [
    "read = random.sample(repeated, 5)\n",
    "path = '/media/juan/Juan/NLP/tweets/'\n",
    "for file in read:\n",
    "    with open(os.path.join(path, 'fr', file)) as tweets_file:\n",
    "        tweet_dict = json.load(tweets_file)\n",
    "        print(tweet_dict['text'])\n",
    "        print('-------------')"
   ]
  },
  {
   "cell_type": "code",
   "execution_count": null,
   "id": "6bd8efe0-a5ff-4e36-88a8-230e14570e8d",
   "metadata": {},
   "outputs": [],
   "source": []
  }
 ],
 "metadata": {
  "kernelspec": {
   "display_name": "project",
   "language": "python",
   "name": "project"
  },
  "language_info": {
   "codemirror_mode": {
    "name": "ipython",
    "version": 3
   },
   "file_extension": ".py",
   "mimetype": "text/x-python",
   "name": "python",
   "nbconvert_exporter": "python",
   "pygments_lexer": "ipython3",
   "version": "3.6.9"
  }
 },
 "nbformat": 4,
 "nbformat_minor": 5
}
