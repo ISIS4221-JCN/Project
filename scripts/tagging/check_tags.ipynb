{
 "cells": [
  {
   "cell_type": "code",
   "execution_count": 17,
   "id": "119ee7b0-72aa-46f1-91a9-04e5a9c85007",
   "metadata": {},
   "outputs": [],
   "source": [
    "import os\n",
    "import json\n",
    "import pandas as pd\n",
    "import numpy as np\n",
    "import random"
   ]
  },
  {
   "cell_type": "code",
   "execution_count": 2,
   "id": "aa6c1103-eb59-4327-a5a5-f0b30e3398ea",
   "metadata": {},
   "outputs": [],
   "source": [
    "with open('../tweets_fr_words.json') as tag_file:\n",
    "    tag_dict = json.load(tag_file)"
   ]
  },
  {
   "cell_type": "code",
   "execution_count": 10,
   "id": "4410914b-c518-4fbf-b81d-0ea04f1d55fc",
   "metadata": {},
   "outputs": [
    {
     "data": {
      "text/plain": [
       "23659"
      ]
     },
     "execution_count": 10,
     "metadata": {},
     "output_type": "execute_result"
    }
   ],
   "source": [
    "len(np.unique(tag_dict.keys())[0])"
   ]
  },
  {
   "cell_type": "code",
   "execution_count": 11,
   "id": "309f71cf-ee64-4a7b-941a-a03de8edeb1f",
   "metadata": {},
   "outputs": [
    {
     "data": {
      "text/plain": [
       "23659"
      ]
     },
     "execution_count": 11,
     "metadata": {},
     "output_type": "execute_result"
    }
   ],
   "source": [
    "len(tag_dict)"
   ]
  },
  {
   "cell_type": "code",
   "execution_count": 13,
   "id": "ba117b59-184f-4ee5-9b7f-dfa6f2f28dbc",
   "metadata": {},
   "outputs": [
    {
     "data": {
      "text/plain": [
       "23896"
      ]
     },
     "execution_count": 13,
     "metadata": {},
     "output_type": "execute_result"
    }
   ],
   "source": [
    "2423+21473"
   ]
  },
  {
   "cell_type": "code",
   "execution_count": 15,
   "id": "11aead87-b82f-41f9-af19-0a5b2dcf92a2",
   "metadata": {},
   "outputs": [],
   "source": [
    "repeated = []\n",
    "for i in tag_dict:\n",
    "    if tag_dict[i]['vaccine'] == 1 and tag_dict[i]['school-reopneing']:\n",
    "        repeated.append(i)"
   ]
  },
  {
   "cell_type": "code",
   "execution_count": 23,
   "id": "9508d72c-1d44-4cb2-af68-15346fff4961",
   "metadata": {},
   "outputs": [
    {
     "name": "stdout",
     "output_type": "stream",
     "text": [
      "Covid-19 : déplacements facilités, reprise de l'école, vaccination… Ce qu'il faut retenir des annonces du gouv  FranceinfoREPLAY. Ecoles, couvre-feu, vaccins : retrouvez les annonces de Jean Castex sur le déconfinement  LaDepeche.frJean C…\n",
      "https://t.co/nvbVBT8edI\n",
      "#nouvelles\n",
      "-------------\n",
      "Les Écoles privées de Miami (Floride) n’acceptent pas que les enseignants vaccinés s’approchent des enfants. https://t.co/0wHiwkduT3\n",
      "-------------\n",
      "@JauneSandy @Hyeneinsoumise Non tout ne va pas bien, le vaccin n'empêche pas d'avoir le covid et d'être contagieux d'une part et d'autre part, il y a d'autres élèves dans la classe. Et enfin, la classe devrait être fermée et l'élève n'aurait pas dû retourner à l'école .\n",
      "-------------\n",
      "@Pat57077481 @courriermichele @CoolZed68 Oui c'est clair : certains considèrent que des morts après avoir été vaccinés, ce sont des morts à cause du vaccin et ne réalisent pas que dans une population de 10 000 000 de personnes, il y a, sans covid19 ni vaccin, 200 décès par jour.\n",
      "Un vrai drame de l'éducation.\n",
      "-------------\n",
      "@Nicksilien De nombreux pays ont été obligés de confiner pour stopper l'épidémie,quel que soit leur bord politique.\n",
      "Ceux qui ont réussi ont adopté la stratégie zéro COVID.\n",
      "Les nôtres ont confiné bien trop tard,sans mesures préventives dans les écoles,sans politique offensive de vaccination.\n",
      "-------------\n"
     ]
    }
   ],
   "source": [
    "read = random.sample(repeated, 5)\n",
    "path = '/media/juan/Juan/NLP/tweets/'\n",
    "for file in read:\n",
    "    with open(os.path.join(path, 'fr', file)) as tweets_file:\n",
    "        tweet_dict = json.load(tweets_file)\n",
    "        print(tweet_dict['text'])\n",
    "        print('-------------')"
   ]
  },
  {
   "cell_type": "code",
   "execution_count": null,
   "id": "9f7bb396-3bab-474a-80a3-d96e509b6a75",
   "metadata": {},
   "outputs": [],
   "source": []
  },
  {
   "cell_type": "code",
   "execution_count": null,
   "id": "398815b1-0c84-4f64-af78-115d0ee484cc",
   "metadata": {},
   "outputs": [],
   "source": []
  }
 ],
 "metadata": {
  "kernelspec": {
   "display_name": "project",
   "language": "python",
   "name": "project"
  },
  "language_info": {
   "codemirror_mode": {
    "name": "ipython",
    "version": 3
   },
   "file_extension": ".py",
   "mimetype": "text/x-python",
   "name": "python",
   "nbconvert_exporter": "python",
   "pygments_lexer": "ipython3",
   "version": "3.6.9"
  }
 },
 "nbformat": 4,
 "nbformat_minor": 5
}
